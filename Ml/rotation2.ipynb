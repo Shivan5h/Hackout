{
 "cells": [
  {
   "cell_type": "code",
   "execution_count": 13,
   "metadata": {
    "collapsed": true
   },
   "outputs": [],
   "source": [
    "import pandas as pd\n",
    "from sklearn.model_selection import train_test_split\n",
    "from sklearn.ensemble import RandomForestClassifier\n",
    "from sklearn.metrics import classification_report, accuracy_score, confusion_matrix\n",
    "from sklearn.preprocessing import LabelEncoder\n",
    "import joblib\n",
    "import numpy as np"
   ]
  },
  {
   "cell_type": "code",
   "execution_count": 14,
   "outputs": [],
   "source": [
    "crop_rotation_data=pd.read_csv(\"crop2.csv\")"
   ],
   "metadata": {
    "collapsed": false
   }
  },
  {
   "cell_type": "code",
   "execution_count": 15,
   "outputs": [],
   "source": [
    "le_previous_crop = LabelEncoder()\n",
    "le_recommended_crop = LabelEncoder()"
   ],
   "metadata": {
    "collapsed": false
   }
  },
  {
   "cell_type": "code",
   "execution_count": 16,
   "outputs": [],
   "source": [
    "crop_rotation_data['Previous_Crop'] = le_previous_crop.fit_transform(crop_rotation_data['Previous_Crop'])\n",
    "crop_rotation_data['Recommended_Crop'] = le_recommended_crop.fit_transform(crop_rotation_data['Recommended_Crop'])"
   ],
   "metadata": {
    "collapsed": false
   }
  },
  {
   "cell_type": "code",
   "execution_count": 17,
   "outputs": [],
   "source": [
    "# Splitting data into features and target\n",
    "X = crop_rotation_data.drop(columns=['Recommended_Crop'])\n",
    "y = crop_rotation_data['Recommended_Crop']\n"
   ],
   "metadata": {
    "collapsed": false
   }
  },
  {
   "cell_type": "code",
   "execution_count": 18,
   "outputs": [
    {
     "data": {
      "text/plain": "       Unnamed: 0  Previous_Crop  Crop_Family_Compatibility  \\\n0               0             12                          1   \n1               1              1                          1   \n2               2             24                          0   \n3               3              6                          0   \n4               4             25                          1   \n...           ...            ...                        ...   \n99995       99995             15                          0   \n99996       99996             18                          0   \n99997       99997             19                          1   \n99998       99998             17                          0   \n99999       99999              0                          1   \n\n       Nutrient_Demand_Compatibility  Pest/Disease_Carryover_Risk  \\\n0                           0.847623                            1   \n1                           0.987176                            1   \n2                           0.195194                            1   \n3                           0.463180                            0   \n4                           0.542479                            0   \n...                              ...                          ...   \n99995                       0.734213                            1   \n99996                       0.954962                            0   \n99997                       0.651139                            0   \n99998                       0.807704                            0   \n99999                       0.075441                            0   \n\n       Soil_Nutrient_Depletion_Index  Soil_Fertility_Restoration_Potential  \\\n0                           0.178647                              0.571412   \n1                           0.878757                              0.707471   \n2                           0.872860                              0.633873   \n3                           0.290200                              0.455330   \n4                           0.229220                              0.721896   \n...                              ...                                   ...   \n99995                       0.000354                              0.168131   \n99996                       0.865700                              0.673034   \n99997                       0.481223                              0.024018   \n99998                       0.923509                              0.077146   \n99999                       0.422936                              0.336336   \n\n       Climate_Suitability_Overlap  Moisture_Compatibility  \\\n0                         0.643637                0.419550   \n1                         0.177369                0.244636   \n2                         0.580149                0.559253   \n3                         0.036298                0.594521   \n4                         0.023799                0.944761   \n...                            ...                     ...   \n99995                     0.548507                0.436678   \n99996                     0.849344                0.721376   \n99997                     0.589605                0.261740   \n99998                     0.101310                0.016085   \n99999                     0.123677                0.963982   \n\n       Rotation_Cycle_Duration  Cover_Crop_Use  Green_Manure_Impact  \\\n0                            3               1             0.248722   \n1                            2               0             0.624003   \n2                            1               0             0.754818   \n3                            2               1             0.914566   \n4                            3               1             0.068560   \n...                        ...             ...                  ...   \n99995                        1               1             0.428570   \n99996                        2               1             0.315296   \n99997                        1               1             0.868608   \n99998                        3               0             0.952998   \n99999                        2               1             0.286177   \n\n       Previous_Yield  Previous_Crop_Health_Score  Rotation_Success_Rate  \\\n0           21.034538                    0.550700               0.801573   \n1           15.525839                    0.062246               0.405845   \n2           29.172001                    0.915105               0.560600   \n3           11.779005                    0.267998               0.086574   \n4           10.132586                    0.158539               0.102923   \n...               ...                         ...                    ...   \n99995       19.124782                    0.955870               0.951085   \n99996       16.374156                    0.593561               0.820641   \n99997       11.289361                    0.943511               0.487236   \n99998       16.405034                    0.899879               0.344872   \n99999       29.144803                    0.586530               0.821400   \n\n       Crop_Rotation_Score  \n0                 0.883355  \n1                 0.665847  \n2                 0.222499  \n3                 0.614306  \n4                 0.817270  \n...                    ...  \n99995             0.374971  \n99996             0.352598  \n99997             0.636398  \n99998             0.019219  \n99999             0.146769  \n\n[100000 rows x 16 columns]",
      "text/html": "<div>\n<style scoped>\n    .dataframe tbody tr th:only-of-type {\n        vertical-align: middle;\n    }\n\n    .dataframe tbody tr th {\n        vertical-align: top;\n    }\n\n    .dataframe thead th {\n        text-align: right;\n    }\n</style>\n<table border=\"1\" class=\"dataframe\">\n  <thead>\n    <tr style=\"text-align: right;\">\n      <th></th>\n      <th>Unnamed: 0</th>\n      <th>Previous_Crop</th>\n      <th>Crop_Family_Compatibility</th>\n      <th>Nutrient_Demand_Compatibility</th>\n      <th>Pest/Disease_Carryover_Risk</th>\n      <th>Soil_Nutrient_Depletion_Index</th>\n      <th>Soil_Fertility_Restoration_Potential</th>\n      <th>Climate_Suitability_Overlap</th>\n      <th>Moisture_Compatibility</th>\n      <th>Rotation_Cycle_Duration</th>\n      <th>Cover_Crop_Use</th>\n      <th>Green_Manure_Impact</th>\n      <th>Previous_Yield</th>\n      <th>Previous_Crop_Health_Score</th>\n      <th>Rotation_Success_Rate</th>\n      <th>Crop_Rotation_Score</th>\n    </tr>\n  </thead>\n  <tbody>\n    <tr>\n      <th>0</th>\n      <td>0</td>\n      <td>12</td>\n      <td>1</td>\n      <td>0.847623</td>\n      <td>1</td>\n      <td>0.178647</td>\n      <td>0.571412</td>\n      <td>0.643637</td>\n      <td>0.419550</td>\n      <td>3</td>\n      <td>1</td>\n      <td>0.248722</td>\n      <td>21.034538</td>\n      <td>0.550700</td>\n      <td>0.801573</td>\n      <td>0.883355</td>\n    </tr>\n    <tr>\n      <th>1</th>\n      <td>1</td>\n      <td>1</td>\n      <td>1</td>\n      <td>0.987176</td>\n      <td>1</td>\n      <td>0.878757</td>\n      <td>0.707471</td>\n      <td>0.177369</td>\n      <td>0.244636</td>\n      <td>2</td>\n      <td>0</td>\n      <td>0.624003</td>\n      <td>15.525839</td>\n      <td>0.062246</td>\n      <td>0.405845</td>\n      <td>0.665847</td>\n    </tr>\n    <tr>\n      <th>2</th>\n      <td>2</td>\n      <td>24</td>\n      <td>0</td>\n      <td>0.195194</td>\n      <td>1</td>\n      <td>0.872860</td>\n      <td>0.633873</td>\n      <td>0.580149</td>\n      <td>0.559253</td>\n      <td>1</td>\n      <td>0</td>\n      <td>0.754818</td>\n      <td>29.172001</td>\n      <td>0.915105</td>\n      <td>0.560600</td>\n      <td>0.222499</td>\n    </tr>\n    <tr>\n      <th>3</th>\n      <td>3</td>\n      <td>6</td>\n      <td>0</td>\n      <td>0.463180</td>\n      <td>0</td>\n      <td>0.290200</td>\n      <td>0.455330</td>\n      <td>0.036298</td>\n      <td>0.594521</td>\n      <td>2</td>\n      <td>1</td>\n      <td>0.914566</td>\n      <td>11.779005</td>\n      <td>0.267998</td>\n      <td>0.086574</td>\n      <td>0.614306</td>\n    </tr>\n    <tr>\n      <th>4</th>\n      <td>4</td>\n      <td>25</td>\n      <td>1</td>\n      <td>0.542479</td>\n      <td>0</td>\n      <td>0.229220</td>\n      <td>0.721896</td>\n      <td>0.023799</td>\n      <td>0.944761</td>\n      <td>3</td>\n      <td>1</td>\n      <td>0.068560</td>\n      <td>10.132586</td>\n      <td>0.158539</td>\n      <td>0.102923</td>\n      <td>0.817270</td>\n    </tr>\n    <tr>\n      <th>...</th>\n      <td>...</td>\n      <td>...</td>\n      <td>...</td>\n      <td>...</td>\n      <td>...</td>\n      <td>...</td>\n      <td>...</td>\n      <td>...</td>\n      <td>...</td>\n      <td>...</td>\n      <td>...</td>\n      <td>...</td>\n      <td>...</td>\n      <td>...</td>\n      <td>...</td>\n      <td>...</td>\n    </tr>\n    <tr>\n      <th>99995</th>\n      <td>99995</td>\n      <td>15</td>\n      <td>0</td>\n      <td>0.734213</td>\n      <td>1</td>\n      <td>0.000354</td>\n      <td>0.168131</td>\n      <td>0.548507</td>\n      <td>0.436678</td>\n      <td>1</td>\n      <td>1</td>\n      <td>0.428570</td>\n      <td>19.124782</td>\n      <td>0.955870</td>\n      <td>0.951085</td>\n      <td>0.374971</td>\n    </tr>\n    <tr>\n      <th>99996</th>\n      <td>99996</td>\n      <td>18</td>\n      <td>0</td>\n      <td>0.954962</td>\n      <td>0</td>\n      <td>0.865700</td>\n      <td>0.673034</td>\n      <td>0.849344</td>\n      <td>0.721376</td>\n      <td>2</td>\n      <td>1</td>\n      <td>0.315296</td>\n      <td>16.374156</td>\n      <td>0.593561</td>\n      <td>0.820641</td>\n      <td>0.352598</td>\n    </tr>\n    <tr>\n      <th>99997</th>\n      <td>99997</td>\n      <td>19</td>\n      <td>1</td>\n      <td>0.651139</td>\n      <td>0</td>\n      <td>0.481223</td>\n      <td>0.024018</td>\n      <td>0.589605</td>\n      <td>0.261740</td>\n      <td>1</td>\n      <td>1</td>\n      <td>0.868608</td>\n      <td>11.289361</td>\n      <td>0.943511</td>\n      <td>0.487236</td>\n      <td>0.636398</td>\n    </tr>\n    <tr>\n      <th>99998</th>\n      <td>99998</td>\n      <td>17</td>\n      <td>0</td>\n      <td>0.807704</td>\n      <td>0</td>\n      <td>0.923509</td>\n      <td>0.077146</td>\n      <td>0.101310</td>\n      <td>0.016085</td>\n      <td>3</td>\n      <td>0</td>\n      <td>0.952998</td>\n      <td>16.405034</td>\n      <td>0.899879</td>\n      <td>0.344872</td>\n      <td>0.019219</td>\n    </tr>\n    <tr>\n      <th>99999</th>\n      <td>99999</td>\n      <td>0</td>\n      <td>1</td>\n      <td>0.075441</td>\n      <td>0</td>\n      <td>0.422936</td>\n      <td>0.336336</td>\n      <td>0.123677</td>\n      <td>0.963982</td>\n      <td>2</td>\n      <td>1</td>\n      <td>0.286177</td>\n      <td>29.144803</td>\n      <td>0.586530</td>\n      <td>0.821400</td>\n      <td>0.146769</td>\n    </tr>\n  </tbody>\n</table>\n<p>100000 rows × 16 columns</p>\n</div>"
     },
     "execution_count": 18,
     "metadata": {},
     "output_type": "execute_result"
    }
   ],
   "source": [
    "X"
   ],
   "metadata": {
    "collapsed": false
   }
  },
  {
   "cell_type": "code",
   "execution_count": 31,
   "outputs": [
    {
     "name": "stdout",
     "output_type": "stream",
     "text": [
      "<class 'pandas.core.frame.DataFrame'>\n",
      "RangeIndex: 100000 entries, 0 to 99999\n",
      "Data columns (total 14 columns):\n",
      " #   Column                                Non-Null Count   Dtype  \n",
      "---  ------                                --------------   -----  \n",
      " 0   Previous_Crop                         100000 non-null  int64  \n",
      " 1   Crop_Family_Compatibility             100000 non-null  int64  \n",
      " 2   Nutrient_Demand_Compatibility         100000 non-null  float64\n",
      " 3   Pest/Disease_Carryover_Risk           100000 non-null  int64  \n",
      " 4   Soil_Nutrient_Depletion_Index         100000 non-null  float64\n",
      " 5   Soil_Fertility_Restoration_Potential  100000 non-null  float64\n",
      " 6   Climate_Suitability_Overlap           100000 non-null  float64\n",
      " 7   Moisture_Compatibility                100000 non-null  float64\n",
      " 8   Rotation_Cycle_Duration               100000 non-null  int64  \n",
      " 9   Cover_Crop_Use                        100000 non-null  int64  \n",
      " 10  Green_Manure_Impact                   100000 non-null  float64\n",
      " 11  Previous_Yield                        100000 non-null  float64\n",
      " 12  Previous_Crop_Health_Score            100000 non-null  float64\n",
      " 13  Rotation_Success_Rate                 100000 non-null  float64\n",
      "dtypes: float64(9), int64(5)\n",
      "memory usage: 10.7 MB\n"
     ]
    }
   ],
   "source": [
    "X.info()"
   ],
   "metadata": {
    "collapsed": false
   }
  },
  {
   "cell_type": "code",
   "execution_count": 19,
   "outputs": [],
   "source": [
    "X = X.drop(columns=['Unnamed: 0','Crop_Rotation_Score'])"
   ],
   "metadata": {
    "collapsed": false
   }
  },
  {
   "cell_type": "code",
   "execution_count": 26,
   "outputs": [
    {
     "data": {
      "text/plain": "       Previous_Crop  Crop_Family_Compatibility  \\\n0                 12                          1   \n1                  1                          1   \n2                 24                          0   \n3                  6                          0   \n4                 25                          1   \n...              ...                        ...   \n99995             15                          0   \n99996             18                          0   \n99997             19                          1   \n99998             17                          0   \n99999              0                          1   \n\n       Nutrient_Demand_Compatibility  Pest/Disease_Carryover_Risk  \\\n0                           0.847623                            1   \n1                           0.987176                            1   \n2                           0.195194                            1   \n3                           0.463180                            0   \n4                           0.542479                            0   \n...                              ...                          ...   \n99995                       0.734213                            1   \n99996                       0.954962                            0   \n99997                       0.651139                            0   \n99998                       0.807704                            0   \n99999                       0.075441                            0   \n\n       Soil_Nutrient_Depletion_Index  Soil_Fertility_Restoration_Potential  \\\n0                           0.178647                              0.571412   \n1                           0.878757                              0.707471   \n2                           0.872860                              0.633873   \n3                           0.290200                              0.455330   \n4                           0.229220                              0.721896   \n...                              ...                                   ...   \n99995                       0.000354                              0.168131   \n99996                       0.865700                              0.673034   \n99997                       0.481223                              0.024018   \n99998                       0.923509                              0.077146   \n99999                       0.422936                              0.336336   \n\n       Climate_Suitability_Overlap  Moisture_Compatibility  \\\n0                         0.643637                0.419550   \n1                         0.177369                0.244636   \n2                         0.580149                0.559253   \n3                         0.036298                0.594521   \n4                         0.023799                0.944761   \n...                            ...                     ...   \n99995                     0.548507                0.436678   \n99996                     0.849344                0.721376   \n99997                     0.589605                0.261740   \n99998                     0.101310                0.016085   \n99999                     0.123677                0.963982   \n\n       Rotation_Cycle_Duration  Cover_Crop_Use  Green_Manure_Impact  \\\n0                            3               1             0.248722   \n1                            2               0             0.624003   \n2                            1               0             0.754818   \n3                            2               1             0.914566   \n4                            3               1             0.068560   \n...                        ...             ...                  ...   \n99995                        1               1             0.428570   \n99996                        2               1             0.315296   \n99997                        1               1             0.868608   \n99998                        3               0             0.952998   \n99999                        2               1             0.286177   \n\n       Previous_Yield  Previous_Crop_Health_Score  Rotation_Success_Rate  \n0           21.034538                    0.550700               0.801573  \n1           15.525839                    0.062246               0.405845  \n2           29.172001                    0.915105               0.560600  \n3           11.779005                    0.267998               0.086574  \n4           10.132586                    0.158539               0.102923  \n...               ...                         ...                    ...  \n99995       19.124782                    0.955870               0.951085  \n99996       16.374156                    0.593561               0.820641  \n99997       11.289361                    0.943511               0.487236  \n99998       16.405034                    0.899879               0.344872  \n99999       29.144803                    0.586530               0.821400  \n\n[100000 rows x 14 columns]",
      "text/html": "<div>\n<style scoped>\n    .dataframe tbody tr th:only-of-type {\n        vertical-align: middle;\n    }\n\n    .dataframe tbody tr th {\n        vertical-align: top;\n    }\n\n    .dataframe thead th {\n        text-align: right;\n    }\n</style>\n<table border=\"1\" class=\"dataframe\">\n  <thead>\n    <tr style=\"text-align: right;\">\n      <th></th>\n      <th>Previous_Crop</th>\n      <th>Crop_Family_Compatibility</th>\n      <th>Nutrient_Demand_Compatibility</th>\n      <th>Pest/Disease_Carryover_Risk</th>\n      <th>Soil_Nutrient_Depletion_Index</th>\n      <th>Soil_Fertility_Restoration_Potential</th>\n      <th>Climate_Suitability_Overlap</th>\n      <th>Moisture_Compatibility</th>\n      <th>Rotation_Cycle_Duration</th>\n      <th>Cover_Crop_Use</th>\n      <th>Green_Manure_Impact</th>\n      <th>Previous_Yield</th>\n      <th>Previous_Crop_Health_Score</th>\n      <th>Rotation_Success_Rate</th>\n    </tr>\n  </thead>\n  <tbody>\n    <tr>\n      <th>0</th>\n      <td>12</td>\n      <td>1</td>\n      <td>0.847623</td>\n      <td>1</td>\n      <td>0.178647</td>\n      <td>0.571412</td>\n      <td>0.643637</td>\n      <td>0.419550</td>\n      <td>3</td>\n      <td>1</td>\n      <td>0.248722</td>\n      <td>21.034538</td>\n      <td>0.550700</td>\n      <td>0.801573</td>\n    </tr>\n    <tr>\n      <th>1</th>\n      <td>1</td>\n      <td>1</td>\n      <td>0.987176</td>\n      <td>1</td>\n      <td>0.878757</td>\n      <td>0.707471</td>\n      <td>0.177369</td>\n      <td>0.244636</td>\n      <td>2</td>\n      <td>0</td>\n      <td>0.624003</td>\n      <td>15.525839</td>\n      <td>0.062246</td>\n      <td>0.405845</td>\n    </tr>\n    <tr>\n      <th>2</th>\n      <td>24</td>\n      <td>0</td>\n      <td>0.195194</td>\n      <td>1</td>\n      <td>0.872860</td>\n      <td>0.633873</td>\n      <td>0.580149</td>\n      <td>0.559253</td>\n      <td>1</td>\n      <td>0</td>\n      <td>0.754818</td>\n      <td>29.172001</td>\n      <td>0.915105</td>\n      <td>0.560600</td>\n    </tr>\n    <tr>\n      <th>3</th>\n      <td>6</td>\n      <td>0</td>\n      <td>0.463180</td>\n      <td>0</td>\n      <td>0.290200</td>\n      <td>0.455330</td>\n      <td>0.036298</td>\n      <td>0.594521</td>\n      <td>2</td>\n      <td>1</td>\n      <td>0.914566</td>\n      <td>11.779005</td>\n      <td>0.267998</td>\n      <td>0.086574</td>\n    </tr>\n    <tr>\n      <th>4</th>\n      <td>25</td>\n      <td>1</td>\n      <td>0.542479</td>\n      <td>0</td>\n      <td>0.229220</td>\n      <td>0.721896</td>\n      <td>0.023799</td>\n      <td>0.944761</td>\n      <td>3</td>\n      <td>1</td>\n      <td>0.068560</td>\n      <td>10.132586</td>\n      <td>0.158539</td>\n      <td>0.102923</td>\n    </tr>\n    <tr>\n      <th>...</th>\n      <td>...</td>\n      <td>...</td>\n      <td>...</td>\n      <td>...</td>\n      <td>...</td>\n      <td>...</td>\n      <td>...</td>\n      <td>...</td>\n      <td>...</td>\n      <td>...</td>\n      <td>...</td>\n      <td>...</td>\n      <td>...</td>\n      <td>...</td>\n    </tr>\n    <tr>\n      <th>99995</th>\n      <td>15</td>\n      <td>0</td>\n      <td>0.734213</td>\n      <td>1</td>\n      <td>0.000354</td>\n      <td>0.168131</td>\n      <td>0.548507</td>\n      <td>0.436678</td>\n      <td>1</td>\n      <td>1</td>\n      <td>0.428570</td>\n      <td>19.124782</td>\n      <td>0.955870</td>\n      <td>0.951085</td>\n    </tr>\n    <tr>\n      <th>99996</th>\n      <td>18</td>\n      <td>0</td>\n      <td>0.954962</td>\n      <td>0</td>\n      <td>0.865700</td>\n      <td>0.673034</td>\n      <td>0.849344</td>\n      <td>0.721376</td>\n      <td>2</td>\n      <td>1</td>\n      <td>0.315296</td>\n      <td>16.374156</td>\n      <td>0.593561</td>\n      <td>0.820641</td>\n    </tr>\n    <tr>\n      <th>99997</th>\n      <td>19</td>\n      <td>1</td>\n      <td>0.651139</td>\n      <td>0</td>\n      <td>0.481223</td>\n      <td>0.024018</td>\n      <td>0.589605</td>\n      <td>0.261740</td>\n      <td>1</td>\n      <td>1</td>\n      <td>0.868608</td>\n      <td>11.289361</td>\n      <td>0.943511</td>\n      <td>0.487236</td>\n    </tr>\n    <tr>\n      <th>99998</th>\n      <td>17</td>\n      <td>0</td>\n      <td>0.807704</td>\n      <td>0</td>\n      <td>0.923509</td>\n      <td>0.077146</td>\n      <td>0.101310</td>\n      <td>0.016085</td>\n      <td>3</td>\n      <td>0</td>\n      <td>0.952998</td>\n      <td>16.405034</td>\n      <td>0.899879</td>\n      <td>0.344872</td>\n    </tr>\n    <tr>\n      <th>99999</th>\n      <td>0</td>\n      <td>1</td>\n      <td>0.075441</td>\n      <td>0</td>\n      <td>0.422936</td>\n      <td>0.336336</td>\n      <td>0.123677</td>\n      <td>0.963982</td>\n      <td>2</td>\n      <td>1</td>\n      <td>0.286177</td>\n      <td>29.144803</td>\n      <td>0.586530</td>\n      <td>0.821400</td>\n    </tr>\n  </tbody>\n</table>\n<p>100000 rows × 14 columns</p>\n</div>"
     },
     "execution_count": 26,
     "metadata": {},
     "output_type": "execute_result"
    }
   ],
   "source": [
    "X"
   ],
   "metadata": {
    "collapsed": false
   }
  },
  {
   "cell_type": "code",
   "execution_count": 20,
   "outputs": [],
   "source": [
    "# Train-test split\n",
    "X_train, X_test, y_train, y_test = train_test_split(X, y, test_size=0.2, random_state=42)"
   ],
   "metadata": {
    "collapsed": false
   }
  },
  {
   "cell_type": "code",
   "execution_count": 20,
   "outputs": [],
   "source": [],
   "metadata": {
    "collapsed": false
   }
  },
  {
   "cell_type": "code",
   "execution_count": 20,
   "outputs": [],
   "source": [],
   "metadata": {
    "collapsed": false
   }
  },
  {
   "cell_type": "code",
   "execution_count": 21,
   "outputs": [
    {
     "data": {
      "text/plain": "RandomForestClassifier(random_state=42)",
      "text/html": "<style>#sk-container-id-1 {color: black;}#sk-container-id-1 pre{padding: 0;}#sk-container-id-1 div.sk-toggleable {background-color: white;}#sk-container-id-1 label.sk-toggleable__label {cursor: pointer;display: block;width: 100%;margin-bottom: 0;padding: 0.3em;box-sizing: border-box;text-align: center;}#sk-container-id-1 label.sk-toggleable__label-arrow:before {content: \"▸\";float: left;margin-right: 0.25em;color: #696969;}#sk-container-id-1 label.sk-toggleable__label-arrow:hover:before {color: black;}#sk-container-id-1 div.sk-estimator:hover label.sk-toggleable__label-arrow:before {color: black;}#sk-container-id-1 div.sk-toggleable__content {max-height: 0;max-width: 0;overflow: hidden;text-align: left;background-color: #f0f8ff;}#sk-container-id-1 div.sk-toggleable__content pre {margin: 0.2em;color: black;border-radius: 0.25em;background-color: #f0f8ff;}#sk-container-id-1 input.sk-toggleable__control:checked~div.sk-toggleable__content {max-height: 200px;max-width: 100%;overflow: auto;}#sk-container-id-1 input.sk-toggleable__control:checked~label.sk-toggleable__label-arrow:before {content: \"▾\";}#sk-container-id-1 div.sk-estimator input.sk-toggleable__control:checked~label.sk-toggleable__label {background-color: #d4ebff;}#sk-container-id-1 div.sk-label input.sk-toggleable__control:checked~label.sk-toggleable__label {background-color: #d4ebff;}#sk-container-id-1 input.sk-hidden--visually {border: 0;clip: rect(1px 1px 1px 1px);clip: rect(1px, 1px, 1px, 1px);height: 1px;margin: -1px;overflow: hidden;padding: 0;position: absolute;width: 1px;}#sk-container-id-1 div.sk-estimator {font-family: monospace;background-color: #f0f8ff;border: 1px dotted black;border-radius: 0.25em;box-sizing: border-box;margin-bottom: 0.5em;}#sk-container-id-1 div.sk-estimator:hover {background-color: #d4ebff;}#sk-container-id-1 div.sk-parallel-item::after {content: \"\";width: 100%;border-bottom: 1px solid gray;flex-grow: 1;}#sk-container-id-1 div.sk-label:hover label.sk-toggleable__label {background-color: #d4ebff;}#sk-container-id-1 div.sk-serial::before {content: \"\";position: absolute;border-left: 1px solid gray;box-sizing: border-box;top: 0;bottom: 0;left: 50%;z-index: 0;}#sk-container-id-1 div.sk-serial {display: flex;flex-direction: column;align-items: center;background-color: white;padding-right: 0.2em;padding-left: 0.2em;position: relative;}#sk-container-id-1 div.sk-item {position: relative;z-index: 1;}#sk-container-id-1 div.sk-parallel {display: flex;align-items: stretch;justify-content: center;background-color: white;position: relative;}#sk-container-id-1 div.sk-item::before, #sk-container-id-1 div.sk-parallel-item::before {content: \"\";position: absolute;border-left: 1px solid gray;box-sizing: border-box;top: 0;bottom: 0;left: 50%;z-index: -1;}#sk-container-id-1 div.sk-parallel-item {display: flex;flex-direction: column;z-index: 1;position: relative;background-color: white;}#sk-container-id-1 div.sk-parallel-item:first-child::after {align-self: flex-end;width: 50%;}#sk-container-id-1 div.sk-parallel-item:last-child::after {align-self: flex-start;width: 50%;}#sk-container-id-1 div.sk-parallel-item:only-child::after {width: 0;}#sk-container-id-1 div.sk-dashed-wrapped {border: 1px dashed gray;margin: 0 0.4em 0.5em 0.4em;box-sizing: border-box;padding-bottom: 0.4em;background-color: white;}#sk-container-id-1 div.sk-label label {font-family: monospace;font-weight: bold;display: inline-block;line-height: 1.2em;}#sk-container-id-1 div.sk-label-container {text-align: center;}#sk-container-id-1 div.sk-container {/* jupyter's `normalize.less` sets `[hidden] { display: none; }` but bootstrap.min.css set `[hidden] { display: none !important; }` so we also need the `!important` here to be able to override the default hidden behavior on the sphinx rendered scikit-learn.org. See: https://github.com/scikit-learn/scikit-learn/issues/21755 */display: inline-block !important;position: relative;}#sk-container-id-1 div.sk-text-repr-fallback {display: none;}</style><div id=\"sk-container-id-1\" class=\"sk-top-container\"><div class=\"sk-text-repr-fallback\"><pre>RandomForestClassifier(random_state=42)</pre><b>In a Jupyter environment, please rerun this cell to show the HTML representation or trust the notebook. <br />On GitHub, the HTML representation is unable to render, please try loading this page with nbviewer.org.</b></div><div class=\"sk-container\" hidden><div class=\"sk-item\"><div class=\"sk-estimator sk-toggleable\"><input class=\"sk-toggleable__control sk-hidden--visually\" id=\"sk-estimator-id-1\" type=\"checkbox\" checked><label for=\"sk-estimator-id-1\" class=\"sk-toggleable__label sk-toggleable__label-arrow\">RandomForestClassifier</label><div class=\"sk-toggleable__content\"><pre>RandomForestClassifier(random_state=42)</pre></div></div></div></div></div>"
     },
     "execution_count": 21,
     "metadata": {},
     "output_type": "execute_result"
    }
   ],
   "source": [
    "# Train the Random Forest model\n",
    "rf_model = RandomForestClassifier(n_estimators=100, random_state=42)\n",
    "rf_model.fit(X_train, y_train)"
   ],
   "metadata": {
    "collapsed": false
   }
  },
  {
   "cell_type": "code",
   "execution_count": 22,
   "outputs": [],
   "source": [
    "# Predicting on the test set\n",
    "y_pred = rf_model.predict(X_test)"
   ],
   "metadata": {
    "collapsed": false
   }
  },
  {
   "cell_type": "code",
   "execution_count": 33,
   "outputs": [],
   "source": [],
   "metadata": {
    "collapsed": false
   }
  },
  {
   "cell_type": "code",
   "execution_count": 23,
   "outputs": [],
   "source": [
    "# Model evaluation\n",
    "accuracy = accuracy_score(y_test, y_pred)\n",
    "classification_report_result = classification_report(y_test, y_pred)\n",
    "confusion_matrix_result = confusion_matrix(y_test, y_pred)\n"
   ],
   "metadata": {
    "collapsed": false
   }
  },
  {
   "cell_type": "code",
   "execution_count": 28,
   "outputs": [],
   "source": [],
   "metadata": {
    "collapsed": false
   }
  },
  {
   "cell_type": "code",
   "execution_count": 25,
   "outputs": [
    {
     "data": {
      "text/plain": "['crop_recommendation_model.joblib']"
     },
     "execution_count": 25,
     "metadata": {},
     "output_type": "execute_result"
    }
   ],
   "source": [
    "# Save the model\n",
    "model_filename = 'crop_recommendation_model.joblib'\n",
    "joblib.dump(rf_model, model_filename)\n",
    "\n"
   ],
   "metadata": {
    "collapsed": false
   }
  },
  {
   "cell_type": "code",
   "execution_count": 27,
   "outputs": [],
   "source": [
    "# Load the saved model\n",
    "model_filename = 'crop_recommendation_model.joblib'\n",
    "loaded_rf_model = joblib.load(model_filename)\n"
   ],
   "metadata": {
    "collapsed": false
   }
  },
  {
   "cell_type": "code",
   "execution_count": 29,
   "outputs": [
    {
     "name": "stdout",
     "output_type": "stream",
     "text": [
      "Predicted Crop: Potato\n"
     ]
    },
    {
     "name": "stderr",
     "output_type": "stream",
     "text": [
      "/Users/shivanshmahajan/.conda/envs/pythonProject/lib/python3.10/site-packages/sklearn/base.py:465: UserWarning: X does not have valid feature names, but RandomForestClassifier was fitted with feature names\n",
      "  warnings.warn(\n"
     ]
    }
   ],
   "source": [
    "\n",
    "# Example of a new custom data point\n",
    "# Ensure the values correspond to the features used during training\n",
    "# [Previous_Crop, Crop_Family_Compatibility, Nutrient_Demand_Compatibility, Pest/Disease_Carryover_Risk,\n",
    "#  Soil_Nutrient_Depletion_Index, Soil_Fertility_Restoration_Potential, Climate_Suitability_Overlap,\n",
    "#  Moisture_Compatibility, Rotation_Cycle_Duration, Cover_Crop_Use, Green_Manure_Impact,\n",
    "#  Previous_Yield, Previous_Crop_Health_Score, Rotation_Success_Rate]\n",
    "\n",
    "import numpy as np\n",
    "\n",
    "# Example of a new custom data point\n",
    "new_data_point = np.array([[2, 1, 0.65, 0, 0.45, 0.75, 0.55, 0.70, 3, 1, 0.65, 22.0, 0.80, 0.78]])\n",
    "\n",
    "# Predict using the loaded model\n",
    "new_prediction = loaded_rf_model.predict(new_data_point)\n",
    "\n",
    "# Decode the prediction to get the original crop name\n",
    "predicted_crop = le_recommended_crop.inverse_transform(new_prediction)\n",
    "\n",
    "print(\"Predicted Crop:\", predicted_crop[0])\n"
   ],
   "metadata": {
    "collapsed": false
   }
  },
  {
   "cell_type": "code",
   "execution_count": null,
   "outputs": [],
   "source": [],
   "metadata": {
    "collapsed": false
   }
  }
 ],
 "metadata": {
  "kernelspec": {
   "display_name": "Python 3",
   "language": "python",
   "name": "python3"
  },
  "language_info": {
   "codemirror_mode": {
    "name": "ipython",
    "version": 2
   },
   "file_extension": ".py",
   "mimetype": "text/x-python",
   "name": "python",
   "nbconvert_exporter": "python",
   "pygments_lexer": "ipython2",
   "version": "2.7.6"
  }
 },
 "nbformat": 4,
 "nbformat_minor": 0
}
