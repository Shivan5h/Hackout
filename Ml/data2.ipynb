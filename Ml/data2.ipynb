{
 "cells": [
  {
   "cell_type": "code",
   "execution_count": 1,
   "metadata": {
    "collapsed": true
   },
   "outputs": [],
   "source": [
    "\n"
   ]
  },
  {
   "cell_type": "code",
   "execution_count": 2,
   "outputs": [
    {
     "data": {
      "text/plain": "       pH_Level  Nitrogen_N  Phosphorus_P  Potassium_K  Organic_Matter  \\\n0      6.773378    1.914918      1.396887     2.654358        1.423200   \n1      7.853024    1.811516      1.019579     1.497401        4.994632   \n2      6.001530    0.440489      0.680916     1.668396        1.698279   \n3      6.211710    0.325599      1.202511     0.298658        1.844576   \n4      7.228216    0.974182      0.712771     0.500520        2.922253   \n...         ...         ...           ...          ...             ...   \n99995  6.850549    0.742824      1.351839     0.872923        3.563844   \n99996  5.875787    1.774893      1.076099     0.115561        3.319825   \n99997  7.029075    1.928897      1.158353     1.506373        3.222265   \n99998  5.774198    1.672526      0.715170     0.621874        3.207156   \n99999  5.848819    1.641506      1.326725     1.241393        2.935779   \n\n      Soil_Texture  Soil_Moisture_Content  Soil_Temperature  Salinity  \\\n0           Clayey               7.992810         15.351054  1.457763   \n1            Loamy              16.700558         33.916769  1.264827   \n2            Loamy              12.891775         31.495577  0.395842   \n3           Clayey              12.608951         30.545095  0.530843   \n4            Loamy              22.227646          9.863854  0.186790   \n...            ...                    ...               ...       ...   \n99995        Loamy              14.921317         19.327169  0.855231   \n99996       Clayey              24.982213         24.260847  0.691089   \n99997       Clayey              19.623068         32.233689  0.953360   \n99998        Sandy              25.201578         30.725809  0.831665   \n99999        Loamy               9.167294          9.939251  1.270361   \n\n        Soil_Drainage  ...  Crop_Type  Crop_Nutrient_Requirement  \\\n0      Poorly Drained  ...       Corn                       High   \n1      Poorly Drained  ...   Cucumber                        Low   \n2        Well-Drained  ...    Brinjal                       High   \n3        Well-Drained  ...   Broccoli                       High   \n4        Well-Drained  ...  Sugarcane                     Medium   \n...               ...  ...        ...                        ...   \n99995  Poorly Drained  ...    Spinach                     Medium   \n99996  Poorly Drained  ...       Corn                       High   \n99997  Poorly Drained  ...     Radish                     Medium   \n99998    Well-Drained  ...  Sugarcane                       High   \n99999    Well-Drained  ...   Chickpea                       High   \n\n       Crop_Sensitivity  Previous_Soil_Health_Score Previous_Crop_Planted  \\\n0                   Low                    0.388217                Potato   \n1                Medium                    0.359533                  Jute   \n2                Medium                    0.262217           Cauliflower   \n3                Medium                    0.913806                  Jute   \n4                  High                    0.671296                  Okra   \n...                 ...                         ...                   ...   \n99995               Low                    0.733855                Radish   \n99996            Medium                    0.481117               Cabbage   \n99997              High                    0.015909               Cabbage   \n99998               Low                    0.240936            Pigeon pea   \n99999              High                    0.205883                  Corn   \n\n      Previous_Yield Previous_Soil_Treatments  Soil_Health_Score  \\\n0          34.627868                     None           0.981889   \n1          52.368134                     None           0.776384   \n2         142.255829               Fertilizer           0.910853   \n3          22.626531               Fertilizer           0.673006   \n4          46.165003                     None           0.963099   \n...              ...                      ...                ...   \n99995      95.480207                     Both           0.805490   \n99996      29.495956                     None           0.743975   \n99997      47.848935                     None           0.444416   \n99998     134.845155                     Both           0.685683   \n99999     126.669012               Fertilizer           0.900680   \n\n      Recommended_Soil_Adjustments  Adequate_Soil_Composition_Values  \n0                     Add Nitrogen                          0.156179  \n1                    Add Potassium                          0.172609  \n2                   Add Phosphorus                          0.076966  \n3                     Add Nitrogen                          0.989037  \n4                        Adjust pH                          0.223239  \n...                            ...                               ...  \n99995                 Add Nitrogen                          0.204019  \n99996                 Add Nitrogen                          0.984723  \n99997               Add Phosphorus                          0.770585  \n99998                Add Potassium                          0.986046  \n99999                Add Potassium                          0.476348  \n\n[100000 rows x 24 columns]",
      "text/html": "<div>\n<style scoped>\n    .dataframe tbody tr th:only-of-type {\n        vertical-align: middle;\n    }\n\n    .dataframe tbody tr th {\n        vertical-align: top;\n    }\n\n    .dataframe thead th {\n        text-align: right;\n    }\n</style>\n<table border=\"1\" class=\"dataframe\">\n  <thead>\n    <tr style=\"text-align: right;\">\n      <th></th>\n      <th>pH_Level</th>\n      <th>Nitrogen_N</th>\n      <th>Phosphorus_P</th>\n      <th>Potassium_K</th>\n      <th>Organic_Matter</th>\n      <th>Soil_Texture</th>\n      <th>Soil_Moisture_Content</th>\n      <th>Soil_Temperature</th>\n      <th>Salinity</th>\n      <th>Soil_Drainage</th>\n      <th>...</th>\n      <th>Crop_Type</th>\n      <th>Crop_Nutrient_Requirement</th>\n      <th>Crop_Sensitivity</th>\n      <th>Previous_Soil_Health_Score</th>\n      <th>Previous_Crop_Planted</th>\n      <th>Previous_Yield</th>\n      <th>Previous_Soil_Treatments</th>\n      <th>Soil_Health_Score</th>\n      <th>Recommended_Soil_Adjustments</th>\n      <th>Adequate_Soil_Composition_Values</th>\n    </tr>\n  </thead>\n  <tbody>\n    <tr>\n      <th>0</th>\n      <td>6.773378</td>\n      <td>1.914918</td>\n      <td>1.396887</td>\n      <td>2.654358</td>\n      <td>1.423200</td>\n      <td>Clayey</td>\n      <td>7.992810</td>\n      <td>15.351054</td>\n      <td>1.457763</td>\n      <td>Poorly Drained</td>\n      <td>...</td>\n      <td>Corn</td>\n      <td>High</td>\n      <td>Low</td>\n      <td>0.388217</td>\n      <td>Potato</td>\n      <td>34.627868</td>\n      <td>None</td>\n      <td>0.981889</td>\n      <td>Add Nitrogen</td>\n      <td>0.156179</td>\n    </tr>\n    <tr>\n      <th>1</th>\n      <td>7.853024</td>\n      <td>1.811516</td>\n      <td>1.019579</td>\n      <td>1.497401</td>\n      <td>4.994632</td>\n      <td>Loamy</td>\n      <td>16.700558</td>\n      <td>33.916769</td>\n      <td>1.264827</td>\n      <td>Poorly Drained</td>\n      <td>...</td>\n      <td>Cucumber</td>\n      <td>Low</td>\n      <td>Medium</td>\n      <td>0.359533</td>\n      <td>Jute</td>\n      <td>52.368134</td>\n      <td>None</td>\n      <td>0.776384</td>\n      <td>Add Potassium</td>\n      <td>0.172609</td>\n    </tr>\n    <tr>\n      <th>2</th>\n      <td>6.001530</td>\n      <td>0.440489</td>\n      <td>0.680916</td>\n      <td>1.668396</td>\n      <td>1.698279</td>\n      <td>Loamy</td>\n      <td>12.891775</td>\n      <td>31.495577</td>\n      <td>0.395842</td>\n      <td>Well-Drained</td>\n      <td>...</td>\n      <td>Brinjal</td>\n      <td>High</td>\n      <td>Medium</td>\n      <td>0.262217</td>\n      <td>Cauliflower</td>\n      <td>142.255829</td>\n      <td>Fertilizer</td>\n      <td>0.910853</td>\n      <td>Add Phosphorus</td>\n      <td>0.076966</td>\n    </tr>\n    <tr>\n      <th>3</th>\n      <td>6.211710</td>\n      <td>0.325599</td>\n      <td>1.202511</td>\n      <td>0.298658</td>\n      <td>1.844576</td>\n      <td>Clayey</td>\n      <td>12.608951</td>\n      <td>30.545095</td>\n      <td>0.530843</td>\n      <td>Well-Drained</td>\n      <td>...</td>\n      <td>Broccoli</td>\n      <td>High</td>\n      <td>Medium</td>\n      <td>0.913806</td>\n      <td>Jute</td>\n      <td>22.626531</td>\n      <td>Fertilizer</td>\n      <td>0.673006</td>\n      <td>Add Nitrogen</td>\n      <td>0.989037</td>\n    </tr>\n    <tr>\n      <th>4</th>\n      <td>7.228216</td>\n      <td>0.974182</td>\n      <td>0.712771</td>\n      <td>0.500520</td>\n      <td>2.922253</td>\n      <td>Loamy</td>\n      <td>22.227646</td>\n      <td>9.863854</td>\n      <td>0.186790</td>\n      <td>Well-Drained</td>\n      <td>...</td>\n      <td>Sugarcane</td>\n      <td>Medium</td>\n      <td>High</td>\n      <td>0.671296</td>\n      <td>Okra</td>\n      <td>46.165003</td>\n      <td>None</td>\n      <td>0.963099</td>\n      <td>Adjust pH</td>\n      <td>0.223239</td>\n    </tr>\n    <tr>\n      <th>...</th>\n      <td>...</td>\n      <td>...</td>\n      <td>...</td>\n      <td>...</td>\n      <td>...</td>\n      <td>...</td>\n      <td>...</td>\n      <td>...</td>\n      <td>...</td>\n      <td>...</td>\n      <td>...</td>\n      <td>...</td>\n      <td>...</td>\n      <td>...</td>\n      <td>...</td>\n      <td>...</td>\n      <td>...</td>\n      <td>...</td>\n      <td>...</td>\n      <td>...</td>\n      <td>...</td>\n    </tr>\n    <tr>\n      <th>99995</th>\n      <td>6.850549</td>\n      <td>0.742824</td>\n      <td>1.351839</td>\n      <td>0.872923</td>\n      <td>3.563844</td>\n      <td>Loamy</td>\n      <td>14.921317</td>\n      <td>19.327169</td>\n      <td>0.855231</td>\n      <td>Poorly Drained</td>\n      <td>...</td>\n      <td>Spinach</td>\n      <td>Medium</td>\n      <td>Low</td>\n      <td>0.733855</td>\n      <td>Radish</td>\n      <td>95.480207</td>\n      <td>Both</td>\n      <td>0.805490</td>\n      <td>Add Nitrogen</td>\n      <td>0.204019</td>\n    </tr>\n    <tr>\n      <th>99996</th>\n      <td>5.875787</td>\n      <td>1.774893</td>\n      <td>1.076099</td>\n      <td>0.115561</td>\n      <td>3.319825</td>\n      <td>Clayey</td>\n      <td>24.982213</td>\n      <td>24.260847</td>\n      <td>0.691089</td>\n      <td>Poorly Drained</td>\n      <td>...</td>\n      <td>Corn</td>\n      <td>High</td>\n      <td>Medium</td>\n      <td>0.481117</td>\n      <td>Cabbage</td>\n      <td>29.495956</td>\n      <td>None</td>\n      <td>0.743975</td>\n      <td>Add Nitrogen</td>\n      <td>0.984723</td>\n    </tr>\n    <tr>\n      <th>99997</th>\n      <td>7.029075</td>\n      <td>1.928897</td>\n      <td>1.158353</td>\n      <td>1.506373</td>\n      <td>3.222265</td>\n      <td>Clayey</td>\n      <td>19.623068</td>\n      <td>32.233689</td>\n      <td>0.953360</td>\n      <td>Poorly Drained</td>\n      <td>...</td>\n      <td>Radish</td>\n      <td>Medium</td>\n      <td>High</td>\n      <td>0.015909</td>\n      <td>Cabbage</td>\n      <td>47.848935</td>\n      <td>None</td>\n      <td>0.444416</td>\n      <td>Add Phosphorus</td>\n      <td>0.770585</td>\n    </tr>\n    <tr>\n      <th>99998</th>\n      <td>5.774198</td>\n      <td>1.672526</td>\n      <td>0.715170</td>\n      <td>0.621874</td>\n      <td>3.207156</td>\n      <td>Sandy</td>\n      <td>25.201578</td>\n      <td>30.725809</td>\n      <td>0.831665</td>\n      <td>Well-Drained</td>\n      <td>...</td>\n      <td>Sugarcane</td>\n      <td>High</td>\n      <td>Low</td>\n      <td>0.240936</td>\n      <td>Pigeon pea</td>\n      <td>134.845155</td>\n      <td>Both</td>\n      <td>0.685683</td>\n      <td>Add Potassium</td>\n      <td>0.986046</td>\n    </tr>\n    <tr>\n      <th>99999</th>\n      <td>5.848819</td>\n      <td>1.641506</td>\n      <td>1.326725</td>\n      <td>1.241393</td>\n      <td>2.935779</td>\n      <td>Loamy</td>\n      <td>9.167294</td>\n      <td>9.939251</td>\n      <td>1.270361</td>\n      <td>Well-Drained</td>\n      <td>...</td>\n      <td>Chickpea</td>\n      <td>High</td>\n      <td>High</td>\n      <td>0.205883</td>\n      <td>Corn</td>\n      <td>126.669012</td>\n      <td>Fertilizer</td>\n      <td>0.900680</td>\n      <td>Add Potassium</td>\n      <td>0.476348</td>\n    </tr>\n  </tbody>\n</table>\n<p>100000 rows × 24 columns</p>\n</div>"
     },
     "execution_count": 2,
     "metadata": {},
     "output_type": "execute_result"
    }
   ],
   "source": [],
   "metadata": {
    "collapsed": false
   }
  },
  {
   "cell_type": "code",
   "execution_count": 10,
   "outputs": [],
   "source": [
    "#df1.to_csv('soil_health_data.csv', index=False)"
   ],
   "metadata": {
    "collapsed": false
   }
  },
  {
   "cell_type": "code",
   "execution_count": 3,
   "outputs": [
    {
     "data": {
      "text/plain": "            pH_Level     Nitrogen_N   Phosphorus_P    Potassium_K  \\\ncount  100000.000000  100000.000000  100000.000000  100000.000000   \nmean        6.255257       1.049185       0.800512       1.548651   \nstd         1.010516       0.548958       0.402999       0.836971   \nmin         4.500113       0.100051       0.100009       0.100060   \n25%         5.381450       0.573079       0.451519       0.823229   \n50%         6.256727       1.047333       0.802367       1.551735   \n75%         7.129984       1.524442       1.149258       2.270683   \nmax         7.999992       2.000000       1.499970       2.999946   \n\n       Organic_Matter  Soil_Moisture_Content  Soil_Temperature       Salinity  \\\ncount   100000.000000          100000.000000     100000.000000  100000.000000   \nmean         2.999930              17.471875         20.020026       1.048316   \nstd          1.153922               7.210915          8.653503       0.548239   \nmin          1.000012               5.000074          5.000305       0.100009   \n25%          1.999572              11.245997         12.514902       0.574555   \n50%          3.001221              17.479816         20.018211       1.044094   \n75%          4.002412              23.704984         27.513669       1.523428   \nmax          4.999932              29.999453         34.999667       1.999978   \n\n                 CEC  Soil_Compaction  Microbial_Activity  \\\ncount  100000.000000     1.000000e+05       100000.000000   \nmean       17.528637     1.498745e+00           50.126081   \nstd         7.212989     8.641788e-01           28.904333   \nmin         5.000455     8.114993e-07            0.000358   \n25%        11.264884     7.521182e-01           25.143914   \n50%        17.529930     1.498703e+00           50.142148   \n75%        23.787908     2.244816e+00           75.183030   \nmax        29.999963     2.999950e+00           99.999043   \n\n       Soil_Respiration_Rate  Previous_Soil_Health_Score  Previous_Yield  \\\ncount          100000.000000               100000.000000   100000.000000   \nmean                5.012971                    0.500764       74.811146   \nstd                 2.882756                    0.288332       43.259558   \nmin                 0.000038                    0.000008        0.000542   \n25%                 2.526874                    0.250661       37.288564   \n50%                 5.007172                    0.501045       74.634434   \n75%                 7.506669                    0.750787      112.280959   \nmax                 9.999845                    0.999998      149.999256   \n\n       Soil_Health_Score  Adequate_Soil_Composition_Values  \ncount       1.000000e+05                     100000.000000  \nmean        4.988764e-01                          0.498832  \nstd         2.876691e-01                          0.288896  \nmin         2.900815e-07                          0.000032  \n25%         2.497542e-01                          0.246627  \n50%         4.976105e-01                          0.498478  \n75%         7.473668e-01                          0.749082  \nmax         9.999899e-01                          0.999997  ",
      "text/html": "<div>\n<style scoped>\n    .dataframe tbody tr th:only-of-type {\n        vertical-align: middle;\n    }\n\n    .dataframe tbody tr th {\n        vertical-align: top;\n    }\n\n    .dataframe thead th {\n        text-align: right;\n    }\n</style>\n<table border=\"1\" class=\"dataframe\">\n  <thead>\n    <tr style=\"text-align: right;\">\n      <th></th>\n      <th>pH_Level</th>\n      <th>Nitrogen_N</th>\n      <th>Phosphorus_P</th>\n      <th>Potassium_K</th>\n      <th>Organic_Matter</th>\n      <th>Soil_Moisture_Content</th>\n      <th>Soil_Temperature</th>\n      <th>Salinity</th>\n      <th>CEC</th>\n      <th>Soil_Compaction</th>\n      <th>Microbial_Activity</th>\n      <th>Soil_Respiration_Rate</th>\n      <th>Previous_Soil_Health_Score</th>\n      <th>Previous_Yield</th>\n      <th>Soil_Health_Score</th>\n      <th>Adequate_Soil_Composition_Values</th>\n    </tr>\n  </thead>\n  <tbody>\n    <tr>\n      <th>count</th>\n      <td>100000.000000</td>\n      <td>100000.000000</td>\n      <td>100000.000000</td>\n      <td>100000.000000</td>\n      <td>100000.000000</td>\n      <td>100000.000000</td>\n      <td>100000.000000</td>\n      <td>100000.000000</td>\n      <td>100000.000000</td>\n      <td>1.000000e+05</td>\n      <td>100000.000000</td>\n      <td>100000.000000</td>\n      <td>100000.000000</td>\n      <td>100000.000000</td>\n      <td>1.000000e+05</td>\n      <td>100000.000000</td>\n    </tr>\n    <tr>\n      <th>mean</th>\n      <td>6.255257</td>\n      <td>1.049185</td>\n      <td>0.800512</td>\n      <td>1.548651</td>\n      <td>2.999930</td>\n      <td>17.471875</td>\n      <td>20.020026</td>\n      <td>1.048316</td>\n      <td>17.528637</td>\n      <td>1.498745e+00</td>\n      <td>50.126081</td>\n      <td>5.012971</td>\n      <td>0.500764</td>\n      <td>74.811146</td>\n      <td>4.988764e-01</td>\n      <td>0.498832</td>\n    </tr>\n    <tr>\n      <th>std</th>\n      <td>1.010516</td>\n      <td>0.548958</td>\n      <td>0.402999</td>\n      <td>0.836971</td>\n      <td>1.153922</td>\n      <td>7.210915</td>\n      <td>8.653503</td>\n      <td>0.548239</td>\n      <td>7.212989</td>\n      <td>8.641788e-01</td>\n      <td>28.904333</td>\n      <td>2.882756</td>\n      <td>0.288332</td>\n      <td>43.259558</td>\n      <td>2.876691e-01</td>\n      <td>0.288896</td>\n    </tr>\n    <tr>\n      <th>min</th>\n      <td>4.500113</td>\n      <td>0.100051</td>\n      <td>0.100009</td>\n      <td>0.100060</td>\n      <td>1.000012</td>\n      <td>5.000074</td>\n      <td>5.000305</td>\n      <td>0.100009</td>\n      <td>5.000455</td>\n      <td>8.114993e-07</td>\n      <td>0.000358</td>\n      <td>0.000038</td>\n      <td>0.000008</td>\n      <td>0.000542</td>\n      <td>2.900815e-07</td>\n      <td>0.000032</td>\n    </tr>\n    <tr>\n      <th>25%</th>\n      <td>5.381450</td>\n      <td>0.573079</td>\n      <td>0.451519</td>\n      <td>0.823229</td>\n      <td>1.999572</td>\n      <td>11.245997</td>\n      <td>12.514902</td>\n      <td>0.574555</td>\n      <td>11.264884</td>\n      <td>7.521182e-01</td>\n      <td>25.143914</td>\n      <td>2.526874</td>\n      <td>0.250661</td>\n      <td>37.288564</td>\n      <td>2.497542e-01</td>\n      <td>0.246627</td>\n    </tr>\n    <tr>\n      <th>50%</th>\n      <td>6.256727</td>\n      <td>1.047333</td>\n      <td>0.802367</td>\n      <td>1.551735</td>\n      <td>3.001221</td>\n      <td>17.479816</td>\n      <td>20.018211</td>\n      <td>1.044094</td>\n      <td>17.529930</td>\n      <td>1.498703e+00</td>\n      <td>50.142148</td>\n      <td>5.007172</td>\n      <td>0.501045</td>\n      <td>74.634434</td>\n      <td>4.976105e-01</td>\n      <td>0.498478</td>\n    </tr>\n    <tr>\n      <th>75%</th>\n      <td>7.129984</td>\n      <td>1.524442</td>\n      <td>1.149258</td>\n      <td>2.270683</td>\n      <td>4.002412</td>\n      <td>23.704984</td>\n      <td>27.513669</td>\n      <td>1.523428</td>\n      <td>23.787908</td>\n      <td>2.244816e+00</td>\n      <td>75.183030</td>\n      <td>7.506669</td>\n      <td>0.750787</td>\n      <td>112.280959</td>\n      <td>7.473668e-01</td>\n      <td>0.749082</td>\n    </tr>\n    <tr>\n      <th>max</th>\n      <td>7.999992</td>\n      <td>2.000000</td>\n      <td>1.499970</td>\n      <td>2.999946</td>\n      <td>4.999932</td>\n      <td>29.999453</td>\n      <td>34.999667</td>\n      <td>1.999978</td>\n      <td>29.999963</td>\n      <td>2.999950e+00</td>\n      <td>99.999043</td>\n      <td>9.999845</td>\n      <td>0.999998</td>\n      <td>149.999256</td>\n      <td>9.999899e-01</td>\n      <td>0.999997</td>\n    </tr>\n  </tbody>\n</table>\n</div>"
     },
     "execution_count": 3,
     "metadata": {},
     "output_type": "execute_result"
    }
   ],
   "source": [],
   "metadata": {
    "collapsed": false
   }
  },
  {
   "cell_type": "code",
   "execution_count": 4,
   "outputs": [
    {
     "name": "stdout",
     "output_type": "stream",
     "text": [
      "<class 'pandas.core.frame.DataFrame'>\n",
      "RangeIndex: 100000 entries, 0 to 99999\n",
      "Data columns (total 24 columns):\n",
      " #   Column                            Non-Null Count   Dtype  \n",
      "---  ------                            --------------   -----  \n",
      " 0   pH_Level                          100000 non-null  float64\n",
      " 1   Nitrogen_N                        100000 non-null  float64\n",
      " 2   Phosphorus_P                      100000 non-null  float64\n",
      " 3   Potassium_K                       100000 non-null  float64\n",
      " 4   Organic_Matter                    100000 non-null  float64\n",
      " 5   Soil_Texture                      100000 non-null  object \n",
      " 6   Soil_Moisture_Content             100000 non-null  float64\n",
      " 7   Soil_Temperature                  100000 non-null  float64\n",
      " 8   Salinity                          100000 non-null  float64\n",
      " 9   Soil_Drainage                     100000 non-null  object \n",
      " 10  CEC                               100000 non-null  float64\n",
      " 11  Soil_Compaction                   100000 non-null  float64\n",
      " 12  Microbial_Activity                100000 non-null  float64\n",
      " 13  Soil_Respiration_Rate             100000 non-null  float64\n",
      " 14  Crop_Type                         100000 non-null  object \n",
      " 15  Crop_Nutrient_Requirement         100000 non-null  object \n",
      " 16  Crop_Sensitivity                  100000 non-null  object \n",
      " 17  Previous_Soil_Health_Score        100000 non-null  float64\n",
      " 18  Previous_Crop_Planted             100000 non-null  object \n",
      " 19  Previous_Yield                    100000 non-null  float64\n",
      " 20  Previous_Soil_Treatments          100000 non-null  object \n",
      " 21  Soil_Health_Score                 100000 non-null  float64\n",
      " 22  Recommended_Soil_Adjustments      100000 non-null  object \n",
      " 23  Adequate_Soil_Composition_Values  100000 non-null  float64\n",
      "dtypes: float64(16), object(8)\n",
      "memory usage: 18.3+ MB\n"
     ]
    }
   ],
   "source": [],
   "metadata": {
    "collapsed": false
   }
  },
  {
   "cell_type": "code",
   "execution_count": null,
   "outputs": [],
   "source": [],
   "metadata": {
    "collapsed": false
   }
  },
  {
   "cell_type": "code",
   "execution_count": 1,
   "outputs": [
    {
     "data": {
      "text/plain": "  Previous_Crop  Crop_Family_Compatibility  Nutrient_Demand_Compatibility  \\\n0    Green gram                          1                       0.847623   \n1       Brinjal                          1                       0.987176   \n2       Spinach                          0                       0.195194   \n3         Chili                          0                       0.463180   \n4     Sugarcane                          1                       0.542479   \n\n   Pest/Disease_Carryover_Risk  Soil_Nutrient_Depletion_Index  \\\n0                            1                       0.178647   \n1                            1                       0.878757   \n2                            1                       0.872860   \n3                            0                       0.290200   \n4                            0                       0.229220   \n\n   Soil_Fertility_Restoration_Potential  Climate_Suitability_Overlap  \\\n0                              0.571412                     0.643637   \n1                              0.707471                     0.177369   \n2                              0.633873                     0.580149   \n3                              0.455330                     0.036298   \n4                              0.721896                     0.023799   \n\n   Moisture_Compatibility  Rotation_Cycle_Duration  Cover_Crop_Use  \\\n0                0.419550                        3               1   \n1                0.244636                        2               0   \n2                0.559253                        1               0   \n3                0.594521                        2               1   \n4                0.944761                        3               1   \n\n   Green_Manure_Impact  Previous_Yield  Previous_Crop_Health_Score  \\\n0             0.248722       21.034538                    0.550700   \n1             0.624003       15.525839                    0.062246   \n2             0.754818       29.172001                    0.915105   \n3             0.914566       11.779005                    0.267998   \n4             0.068560       10.132586                    0.158539   \n\n   Rotation_Success_Rate  Crop_Rotation_Score Recommended_Crop  \n0               0.801573             0.883355           Garlic  \n1               0.405845             0.665847          Cabbage  \n2               0.560600             0.222499           Carrot  \n3               0.086574             0.614306             Rice  \n4               0.102923             0.817270             Jute  ",
      "text/html": "<div>\n<style scoped>\n    .dataframe tbody tr th:only-of-type {\n        vertical-align: middle;\n    }\n\n    .dataframe tbody tr th {\n        vertical-align: top;\n    }\n\n    .dataframe thead th {\n        text-align: right;\n    }\n</style>\n<table border=\"1\" class=\"dataframe\">\n  <thead>\n    <tr style=\"text-align: right;\">\n      <th></th>\n      <th>Previous_Crop</th>\n      <th>Crop_Family_Compatibility</th>\n      <th>Nutrient_Demand_Compatibility</th>\n      <th>Pest/Disease_Carryover_Risk</th>\n      <th>Soil_Nutrient_Depletion_Index</th>\n      <th>Soil_Fertility_Restoration_Potential</th>\n      <th>Climate_Suitability_Overlap</th>\n      <th>Moisture_Compatibility</th>\n      <th>Rotation_Cycle_Duration</th>\n      <th>Cover_Crop_Use</th>\n      <th>Green_Manure_Impact</th>\n      <th>Previous_Yield</th>\n      <th>Previous_Crop_Health_Score</th>\n      <th>Rotation_Success_Rate</th>\n      <th>Crop_Rotation_Score</th>\n      <th>Recommended_Crop</th>\n    </tr>\n  </thead>\n  <tbody>\n    <tr>\n      <th>0</th>\n      <td>Green gram</td>\n      <td>1</td>\n      <td>0.847623</td>\n      <td>1</td>\n      <td>0.178647</td>\n      <td>0.571412</td>\n      <td>0.643637</td>\n      <td>0.419550</td>\n      <td>3</td>\n      <td>1</td>\n      <td>0.248722</td>\n      <td>21.034538</td>\n      <td>0.550700</td>\n      <td>0.801573</td>\n      <td>0.883355</td>\n      <td>Garlic</td>\n    </tr>\n    <tr>\n      <th>1</th>\n      <td>Brinjal</td>\n      <td>1</td>\n      <td>0.987176</td>\n      <td>1</td>\n      <td>0.878757</td>\n      <td>0.707471</td>\n      <td>0.177369</td>\n      <td>0.244636</td>\n      <td>2</td>\n      <td>0</td>\n      <td>0.624003</td>\n      <td>15.525839</td>\n      <td>0.062246</td>\n      <td>0.405845</td>\n      <td>0.665847</td>\n      <td>Cabbage</td>\n    </tr>\n    <tr>\n      <th>2</th>\n      <td>Spinach</td>\n      <td>0</td>\n      <td>0.195194</td>\n      <td>1</td>\n      <td>0.872860</td>\n      <td>0.633873</td>\n      <td>0.580149</td>\n      <td>0.559253</td>\n      <td>1</td>\n      <td>0</td>\n      <td>0.754818</td>\n      <td>29.172001</td>\n      <td>0.915105</td>\n      <td>0.560600</td>\n      <td>0.222499</td>\n      <td>Carrot</td>\n    </tr>\n    <tr>\n      <th>3</th>\n      <td>Chili</td>\n      <td>0</td>\n      <td>0.463180</td>\n      <td>0</td>\n      <td>0.290200</td>\n      <td>0.455330</td>\n      <td>0.036298</td>\n      <td>0.594521</td>\n      <td>2</td>\n      <td>1</td>\n      <td>0.914566</td>\n      <td>11.779005</td>\n      <td>0.267998</td>\n      <td>0.086574</td>\n      <td>0.614306</td>\n      <td>Rice</td>\n    </tr>\n    <tr>\n      <th>4</th>\n      <td>Sugarcane</td>\n      <td>1</td>\n      <td>0.542479</td>\n      <td>0</td>\n      <td>0.229220</td>\n      <td>0.721896</td>\n      <td>0.023799</td>\n      <td>0.944761</td>\n      <td>3</td>\n      <td>1</td>\n      <td>0.068560</td>\n      <td>10.132586</td>\n      <td>0.158539</td>\n      <td>0.102923</td>\n      <td>0.817270</td>\n      <td>Jute</td>\n    </tr>\n  </tbody>\n</table>\n</div>"
     },
     "execution_count": 1,
     "metadata": {},
     "output_type": "execute_result"
    }
   ],
   "source": [
    "import pandas as pd\n",
    "import numpy as np\n",
    "\n",
    "# Defining the function to generate synthetic data\n",
    "def generate_crop_rotation_data(num_rows):\n",
    "    data = {\n",
    "        \"Previous_Crop\": np.random.choice([  \"Potato\", \"Onion\", \"Carrot\", \"Cabbage\", \"Cauliflower\",\"Spinach\", \"Cucumber\", \"Radish\",\n",
    "         \"Brinjal\", \"Pumpkin\", \"Okra\", \"Corn\", \"Rice\",\n",
    "          \"Wheat\", \"Mustard\", \"Groundnut\", \"Chickpea\", \"Lentil\",\n",
    "          \"Green gram\", \"Black gram\", \"Pigeon pea\", \"Jute\", \"Cotton\",\n",
    "          \"Sugarcane\", \"Turmeric\", \"Ginger\", \"Chili\", \"Garlic\" ], num_rows),\n",
    "        \"Crop_Family_Compatibility\": np.random.randint(0, 2, num_rows),\n",
    "        \"Nutrient_Demand_Compatibility\": np.random.uniform(0, 1, num_rows),\n",
    "        \"Pest/Disease_Carryover_Risk\": np.random.randint(0, 2, num_rows),\n",
    "        \"Soil_Nutrient_Depletion_Index\": np.random.uniform(0, 1, num_rows),\n",
    "        \"Soil_Fertility_Restoration_Potential\": np.random.uniform(0, 1, num_rows),\n",
    "        \"Climate_Suitability_Overlap\": np.random.uniform(0, 1, num_rows),\n",
    "        \"Moisture_Compatibility\": np.random.uniform(0, 1, num_rows),\n",
    "        \"Rotation_Cycle_Duration\": np.random.randint(1, 4, num_rows),\n",
    "        \"Cover_Crop_Use\": np.random.randint(0, 2, num_rows),\n",
    "        \"Green_Manure_Impact\": np.random.uniform(0, 1, num_rows),\n",
    "        \"Previous_Yield\": np.random.uniform(10, 30, num_rows),\n",
    "        \"Previous_Crop_Health_Score\": np.random.uniform(0, 1, num_rows),\n",
    "        \"Rotation_Success_Rate\": np.random.uniform(0, 1, num_rows),\n",
    "        \"Crop_Rotation_Score\": np.random.uniform(0, 1, num_rows),\n",
    "        \"Recommended_Crop\": np.random.choice([  \"Potato\", \"Onion\", \"Carrot\", \"Cabbage\", \"Cauliflower\",\"Spinach\", \"Cucumber\", \"Radish\",\n",
    "         \"Brinjal\", \"Pumpkin\", \"Okra\", \"Corn\", \"Rice\",\n",
    "          \"Wheat\", \"Mustard\", \"Groundnut\", \"Chickpea\", \"Lentil\",\n",
    "          \"Green gram\", \"Black gram\", \"Pigeon pea\", \"Jute\", \"Cotton\",\n",
    "          \"Sugarcane\", \"Turmeric\", \"Ginger\", \"Chili\", \"Garlic\" ], num_rows)\n",
    "    }\n",
    "\n",
    "    df = pd.DataFrame(data)\n",
    "    return df\n",
    "\n",
    "# Generating the dataset\n",
    "crop_rotation_data = generate_crop_rotation_data(100000)\n",
    "crop_rotation_data.head()\n"
   ],
   "metadata": {
    "collapsed": false
   }
  },
  {
   "cell_type": "code",
   "execution_count": 2,
   "outputs": [],
   "source": [
    "crop_rotation_data.to_csv(\"crop2.csv\")"
   ],
   "metadata": {
    "collapsed": false
   }
  },
  {
   "cell_type": "code",
   "execution_count": 5,
   "outputs": [
    {
     "name": "stdout",
     "output_type": "stream",
     "text": [
      "Dataset generated and saved as 'soil_health_optimization_dataset.csv'.\n"
     ]
    }
   ],
   "source": [
    "import numpy as np\n",
    "import pandas as pd\n",
    "\n",
    "def generate_soil_health_dataset(num_samples=100000):\n",
    "    # Set random seed for reproducibility\n",
    "    np.random.seed(42)\n",
    "\n",
    "    # Define the possible values for crop types and soil textures\n",
    "    crop_types = [\n",
    "        \"Tomato\", \"Potato\", \"Onion\", \"Carrot\", \"Cabbage\",\n",
    "        \"Broccoli\", \"Cauliflower\", \"Spinach\", \"Lettuce\", \"Cucumber\",\n",
    "        \"Radish\", \"Brinjal\", \"Pumpkin\", \"Gourd\", \"Okra\",\n",
    "        \"Corn\", \"Rice\", \"Wheat\", \"Barley\", \"Soybean\",\n",
    "        \"Green gram\", \"Black gram\", \"Chickpea\", \"Lentil\", \"Pigeon pea\",\n",
    "        \"Mustard\", \"Groundnut\", \"Sunflower\", \"Cotton\", \"Jute\"\n",
    "    ]\n",
    "\n",
    "    soil_textures = ['sandy', 'loamy', 'clay']\n",
    "\n",
    "    # Generate random data for the features\n",
    "    data = {\n",
    "        'Crop_Type': np.random.choice(crop_types, size=num_samples),\n",
    "        'Soil_Nitrogen': np.random.uniform(0.5, 5.0, size=num_samples),\n",
    "        'Soil_Phosphorus': np.random.uniform(0.5, 5.0, size=num_samples),\n",
    "        'Soil_Potassium': np.random.uniform(0.5, 5.0, size=num_samples),\n",
    "        'Soil_Organic_Matter': np.random.uniform(1.0, 10.0, size=num_samples),\n",
    "        'Soil_pH': np.random.uniform(4.5, 8.5, size=num_samples),\n",
    "        'Soil_Texture': np.random.choice(soil_textures, size=num_samples),\n",
    "        'Temperature': np.random.uniform(10, 40, size=num_samples),\n",
    "        'Previous_Yield': np.random.uniform(1.0, 10.0, size=num_samples),\n",
    "    }\n",
    "\n",
    "    # Generate the Recommended_Soil_Adjustments and Adequate_Soil_Composition_Values\n",
    "    adjustments = []\n",
    "    composition_values = []\n",
    "\n",
    "    for i in range(num_samples):\n",
    "        # Randomly decide which soil feature to adjust\n",
    "        adjustment_choice = np.random.choice(['change_pH', 'change_K', 'change_P', 'change_N'])\n",
    "        adjustments.append(adjustment_choice)\n",
    "\n",
    "        # Generate corresponding composition values (positive for increase, negative for decrease)\n",
    "        if adjustment_choice == 'change_pH':\n",
    "            composition_values.append(np.random.uniform(-0.5, 0.5))\n",
    "        elif adjustment_choice == 'change_K':\n",
    "            composition_values.append(np.random.uniform(-2.0, 2.0))\n",
    "        elif adjustment_choice == 'change_P':\n",
    "            composition_values.append(np.random.uniform(-2.0, 2.0))\n",
    "        elif adjustment_choice == 'change_N':\n",
    "            composition_values.append(np.random.uniform(-2.0, 2.0))\n",
    "\n",
    "    # Add these to the dataset\n",
    "    data['Recommended_Soil_Adjustments'] = adjustments\n",
    "    data['Adequate_Soil_Composition_Values'] = composition_values\n",
    "\n",
    "    # Calculate Soil Health Score as an example (simple formula)\n",
    "    data['Soil_Health_Score'] = (\n",
    "        data['Soil_Nitrogen'] * 0.3 +\n",
    "        data['Soil_Phosphorus'] * 0.2 +\n",
    "        data['Soil_Potassium'] * 0.2 +\n",
    "        data['Soil_Organic_Matter'] * 0.2 +\n",
    "        (7 - abs(7 - data['Soil_pH'])) * 0.1\n",
    "    )\n",
    "\n",
    "    # Convert to DataFrame\n",
    "    df = pd.DataFrame(data)\n",
    "\n",
    "    return df\n",
    "\n",
    "# Generate the dataset\n",
    "soil_health_df = generate_soil_health_dataset(100000)\n",
    "\n",
    "# Save to CSV\n",
    "soil_health_df.to_csv('new.csv', index=False)\n",
    "\n",
    "print(\"Dataset generated and saved as 'soil_health_optimization_dataset.csv'.\")\n"
   ],
   "metadata": {
    "collapsed": false
   }
  },
  {
   "cell_type": "code",
   "execution_count": 6,
   "outputs": [
    {
     "name": "stdout",
     "output_type": "stream",
     "text": [
      "<class 'pandas.core.frame.DataFrame'>\n",
      "RangeIndex: 100000 entries, 0 to 99999\n",
      "Data columns (total 12 columns):\n",
      " #   Column                            Non-Null Count   Dtype  \n",
      "---  ------                            --------------   -----  \n",
      " 0   Crop_Type                         100000 non-null  object \n",
      " 1   Soil_Nitrogen                     100000 non-null  float64\n",
      " 2   Soil_Phosphorus                   100000 non-null  float64\n",
      " 3   Soil_Potassium                    100000 non-null  float64\n",
      " 4   Soil_Organic_Matter               100000 non-null  float64\n",
      " 5   Soil_pH                           100000 non-null  float64\n",
      " 6   Soil_Texture                      100000 non-null  object \n",
      " 7   Temperature                       100000 non-null  float64\n",
      " 8   Previous_Yield                    100000 non-null  float64\n",
      " 9   Recommended_Soil_Adjustments      100000 non-null  object \n",
      " 10  Adequate_Soil_Composition_Values  100000 non-null  float64\n",
      " 11  Soil_Health_Score                 100000 non-null  float64\n",
      "dtypes: float64(9), object(3)\n",
      "memory usage: 9.2+ MB\n"
     ]
    }
   ],
   "source": [
    "soil_health_df.info()"
   ],
   "metadata": {
    "collapsed": false
   }
  },
  {
   "cell_type": "code",
   "execution_count": 7,
   "outputs": [
    {
     "data": {
      "text/plain": "       Soil_Nitrogen  Soil_Phosphorus  Soil_Potassium  Soil_Organic_Matter  \\\ncount  100000.000000    100000.000000   100000.000000        100000.000000   \nmean        2.753149         2.752113        2.750184             5.498503   \nstd         1.298771         1.300120        1.297196             2.597092   \nmin         0.500038         0.500010        0.500010             1.000280   \n25%         1.623644         1.625053        1.625354             3.258678   \n50%         2.759885         2.749305        2.749166             5.503556   \n75%         3.880197         3.872825        3.873320             7.744101   \nmax         4.999964         4.999923        4.999976             9.999882   \n\n             Soil_pH    Temperature  Previous_Yield  \\\ncount  100000.000000  100000.000000   100000.000000   \nmean        6.504110      24.997223        5.500112   \nstd         1.152455       8.652819        2.600819   \nmin         4.500002      10.000095        1.000057   \n25%         5.506091      17.506258        3.244827   \n50%         6.505845      25.020361        5.505435   \n75%         7.501328      32.446568        7.757612   \nmax         8.499993      39.999493        9.999883   \n\n       Adequate_Soil_Composition_Values  Soil_Health_Score  \ncount                     100000.000000      100000.000000  \nmean                          -0.003755           3.620217  \nstd                            1.010803           0.752646  \nmin                           -1.999997           1.294353  \n25%                           -0.675530           3.085286  \n50%                           -0.004994           3.622475  \n75%                            0.666528           4.154958  \nmax                            1.999912           6.035219  ",
      "text/html": "<div>\n<style scoped>\n    .dataframe tbody tr th:only-of-type {\n        vertical-align: middle;\n    }\n\n    .dataframe tbody tr th {\n        vertical-align: top;\n    }\n\n    .dataframe thead th {\n        text-align: right;\n    }\n</style>\n<table border=\"1\" class=\"dataframe\">\n  <thead>\n    <tr style=\"text-align: right;\">\n      <th></th>\n      <th>Soil_Nitrogen</th>\n      <th>Soil_Phosphorus</th>\n      <th>Soil_Potassium</th>\n      <th>Soil_Organic_Matter</th>\n      <th>Soil_pH</th>\n      <th>Temperature</th>\n      <th>Previous_Yield</th>\n      <th>Adequate_Soil_Composition_Values</th>\n      <th>Soil_Health_Score</th>\n    </tr>\n  </thead>\n  <tbody>\n    <tr>\n      <th>count</th>\n      <td>100000.000000</td>\n      <td>100000.000000</td>\n      <td>100000.000000</td>\n      <td>100000.000000</td>\n      <td>100000.000000</td>\n      <td>100000.000000</td>\n      <td>100000.000000</td>\n      <td>100000.000000</td>\n      <td>100000.000000</td>\n    </tr>\n    <tr>\n      <th>mean</th>\n      <td>2.753149</td>\n      <td>2.752113</td>\n      <td>2.750184</td>\n      <td>5.498503</td>\n      <td>6.504110</td>\n      <td>24.997223</td>\n      <td>5.500112</td>\n      <td>-0.003755</td>\n      <td>3.620217</td>\n    </tr>\n    <tr>\n      <th>std</th>\n      <td>1.298771</td>\n      <td>1.300120</td>\n      <td>1.297196</td>\n      <td>2.597092</td>\n      <td>1.152455</td>\n      <td>8.652819</td>\n      <td>2.600819</td>\n      <td>1.010803</td>\n      <td>0.752646</td>\n    </tr>\n    <tr>\n      <th>min</th>\n      <td>0.500038</td>\n      <td>0.500010</td>\n      <td>0.500010</td>\n      <td>1.000280</td>\n      <td>4.500002</td>\n      <td>10.000095</td>\n      <td>1.000057</td>\n      <td>-1.999997</td>\n      <td>1.294353</td>\n    </tr>\n    <tr>\n      <th>25%</th>\n      <td>1.623644</td>\n      <td>1.625053</td>\n      <td>1.625354</td>\n      <td>3.258678</td>\n      <td>5.506091</td>\n      <td>17.506258</td>\n      <td>3.244827</td>\n      <td>-0.675530</td>\n      <td>3.085286</td>\n    </tr>\n    <tr>\n      <th>50%</th>\n      <td>2.759885</td>\n      <td>2.749305</td>\n      <td>2.749166</td>\n      <td>5.503556</td>\n      <td>6.505845</td>\n      <td>25.020361</td>\n      <td>5.505435</td>\n      <td>-0.004994</td>\n      <td>3.622475</td>\n    </tr>\n    <tr>\n      <th>75%</th>\n      <td>3.880197</td>\n      <td>3.872825</td>\n      <td>3.873320</td>\n      <td>7.744101</td>\n      <td>7.501328</td>\n      <td>32.446568</td>\n      <td>7.757612</td>\n      <td>0.666528</td>\n      <td>4.154958</td>\n    </tr>\n    <tr>\n      <th>max</th>\n      <td>4.999964</td>\n      <td>4.999923</td>\n      <td>4.999976</td>\n      <td>9.999882</td>\n      <td>8.499993</td>\n      <td>39.999493</td>\n      <td>9.999883</td>\n      <td>1.999912</td>\n      <td>6.035219</td>\n    </tr>\n  </tbody>\n</table>\n</div>"
     },
     "execution_count": 7,
     "metadata": {},
     "output_type": "execute_result"
    }
   ],
   "source": [
    "soil_health_df.describe()"
   ],
   "metadata": {
    "collapsed": false
   }
  },
  {
   "cell_type": "code",
   "execution_count": 8,
   "outputs": [
    {
     "name": "stdout",
     "output_type": "stream",
     "text": [
      "Dataset generated and saved as 'crop_yield_prediction_dataset.csv'.\n"
     ]
    }
   ],
   "source": [
    "import numpy as np\n",
    "import pandas as pd\n",
    "\n",
    "def generate_crop_yield_dataset(num_samples=100000):\n",
    "    # Set random seed for reproducibility\n",
    "    np.random.seed(42)\n",
    "\n",
    "    # Define possible crop types and soil textures\n",
    "    crop_types = [\n",
    "        \"Tomato\", \"Potato\", \"Onion\", \"Carrot\", \"Cabbage\",\n",
    "        \"Broccoli\", \"Cauliflower\", \"Spinach\", \"Lettuce\", \"Cucumber\",\n",
    "        \"Radish\", \"Brinjal\", \"Pumpkin\", \"Gourd\", \"Okra\",\n",
    "        \"Corn\", \"Rice\", \"Wheat\", \"Barley\", \"Soybean\",\n",
    "        \"Green gram\", \"Black gram\", \"Chickpea\", \"Lentil\", \"Pigeon pea\",\n",
    "        \"Mustard\", \"Groundnut\", \"Sunflower\", \"Cotton\", \"Jute\"\n",
    "    ]\n",
    "\n",
    "    soil_textures = ['sandy', 'loamy', 'clay']\n",
    "\n",
    "    # Generate random data for the features\n",
    "    data = {\n",
    "        'Crop_Type': np.random.choice(crop_types, size=num_samples),\n",
    "        'Soil_Nitrogen': np.random.uniform(0.5, 5.0, size=num_samples),\n",
    "        'Soil_Phosphorus': np.random.uniform(0.5, 5.0, size=num_samples),\n",
    "        'Soil_Potassium': np.random.uniform(0.5, 5.0, size=num_samples),\n",
    "        'Soil_Organic_Matter': np.random.uniform(1.0, 10.0, size=num_samples),\n",
    "        'Soil_pH': np.random.uniform(4.5, 8.5, size=num_samples),\n",
    "        'Soil_Texture': np.random.choice(soil_textures, size=num_samples),\n",
    "        'Temperature': np.random.uniform(10, 40, size=num_samples),\n",
    "        'Previous_Yield': np.random.uniform(1.0, 10.0, size=num_samples)\n",
    "    }\n",
    "\n",
    "    # Calculate Crop Yield Score as an example (weighted formula)\n",
    "    # You can modify this formula according to specific requirements\n",
    "    data['Crop_Yield_Score'] = (\n",
    "        data['Soil_Nitrogen'] * 0.25 +\n",
    "        data['Soil_Phosphorus'] * 0.2 +\n",
    "        data['Soil_Potassium'] * 0.2 +\n",
    "        data['Soil_Organic_Matter'] * 0.15 +\n",
    "        (7 - abs(7 - data['Soil_pH'])) * 0.1 +\n",
    "        data['Temperature'] * 0.05 +\n",
    "        data['Previous_Yield'] * 0.05\n",
    "    )\n",
    "\n",
    "    # Convert to DataFrame\n",
    "    df = pd.DataFrame(data)\n",
    "\n",
    "    return df\n",
    "\n",
    "# Generate the dataset\n",
    "crop_yield_df = generate_crop_yield_dataset(100000)\n",
    "\n",
    "# Save to CSV\n",
    "crop_yield_df.to_csv('new2.csv', index=False)\n",
    "\n",
    "print(\"Dataset generated and saved as 'crop_yield_prediction_dataset.csv'.\")\n"
   ],
   "metadata": {
    "collapsed": false
   }
  },
  {
   "cell_type": "code",
   "execution_count": null,
   "outputs": [],
   "source": [],
   "metadata": {
    "collapsed": false
   }
  }
 ],
 "metadata": {
  "kernelspec": {
   "display_name": "Python 3",
   "language": "python",
   "name": "python3"
  },
  "language_info": {
   "codemirror_mode": {
    "name": "ipython",
    "version": 2
   },
   "file_extension": ".py",
   "mimetype": "text/x-python",
   "name": "python",
   "nbconvert_exporter": "python",
   "pygments_lexer": "ipython2",
   "version": "2.7.6"
  }
 },
 "nbformat": 4,
 "nbformat_minor": 0
}
