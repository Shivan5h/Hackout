{
 "cells": [
  {
   "cell_type": "code",
   "execution_count": 1,
   "id": "initial_id",
   "metadata": {
    "ExecuteTime": {
     "end_time": "2024-08-10T11:44:23.153949Z",
     "start_time": "2024-08-10T11:44:19.613535Z"
    }
   },
   "outputs": [],
   "source": [
    "import numpy as np\n",
    "import pandas as pd\n",
    "from sklearn.model_selection import train_test_split\n",
    "from sklearn.ensemble import RandomForestRegressor\n",
    "from sklearn.preprocessing import OneHotEncoder, StandardScaler\n",
    "from sklearn.impute import SimpleImputer\n",
    "from sklearn.pipeline import Pipeline\n",
    "from sklearn.compose import ColumnTransformer\n",
    "from sklearn.metrics import mean_squared_error\n",
    "import joblib"
   ]
  },
  {
   "cell_type": "code",
   "execution_count": 2,
   "id": "7f276e35e7a2db84",
   "metadata": {
    "ExecuteTime": {
     "end_time": "2024-08-10T11:44:23.752093Z",
     "start_time": "2024-08-10T11:44:23.156057Z"
    }
   },
   "outputs": [],
   "source": [
    "d=pd.read_csv('supply_chain.csv')"
   ]
  },
  {
   "cell_type": "code",
   "execution_count": 3,
   "id": "157f6713f18aa72a",
   "metadata": {
    "ExecuteTime": {
     "end_time": "2024-08-10T11:44:23.838728Z",
     "start_time": "2024-08-10T11:44:23.753099Z"
    }
   },
   "outputs": [
    {
     "data": {
      "text/plain": "  Farm_ID Crop_Type Planting_Date Harvest_Date  Crop_Yield  Soil_Nitrogen  \\\n0  Farm_0     Wheat    2022-09-08   2022-06-02  433.120629       1.744877   \n1  Farm_1      Rice    2022-04-22   2022-08-19  171.645462       0.842294   \n2  Farm_2     Wheat    2022-10-12   2022-09-22  280.387939       0.313875   \n3  Farm_3    Carrot    2022-10-16   2022-12-16  450.311426       0.256435   \n4  Farm_4   Soybean    2022-09-16   2022-06-21  119.504130       1.288418   \n\n   Soil_Phosphorus  Soil_Potassium Fertilizer_Application Market_ID  ...  \\\n0         0.788684        2.624458                   High  Market_C  ...   \n1         0.534043        1.344645               Moderate  Market_D  ...   \n2         1.378451        2.943863               Moderate  Market_B  ...   \n3         1.188903        2.284497                   High  Market_D  ...   \n4         1.386113        2.394433                    NaN  Market_D  ...   \n\n   Storage_Capacity  Supply_Delay  Supply_Reliability Fuel_Price  \\\n0       4273.209959      9.364963            0.381843   2.528511   \n1       7004.902069      0.360879            0.249128   1.629674   \n2       8324.904882      1.586866            0.075848   3.097474   \n3       8941.633242      4.006723            0.244438   4.575228   \n4       1296.127019      3.671201            0.498452   2.671725   \n\n  Economic_Index  Weather_Conditions  Crop_Suitability  Profit_Margin  \\\n0       0.525406               Sunny              High      70.995972   \n1       1.545662               Sunny               Low      26.668010   \n2       0.650862               Rainy            Medium      57.249056   \n3       1.362850               Sunny               Low      67.382109   \n4       1.832056              Cloudy            Medium      43.168408   \n\n   Demand_Forecast  Market_Conditions  \n0       695.551245             Stable  \n1       147.828407             Stable  \n2       471.582811             Stable  \n3       783.359511           Volatile  \n4       381.449613             Stable  \n\n[5 rows x 30 columns]",
      "text/html": "<div>\n<style scoped>\n    .dataframe tbody tr th:only-of-type {\n        vertical-align: middle;\n    }\n\n    .dataframe tbody tr th {\n        vertical-align: top;\n    }\n\n    .dataframe thead th {\n        text-align: right;\n    }\n</style>\n<table border=\"1\" class=\"dataframe\">\n  <thead>\n    <tr style=\"text-align: right;\">\n      <th></th>\n      <th>Farm_ID</th>\n      <th>Crop_Type</th>\n      <th>Planting_Date</th>\n      <th>Harvest_Date</th>\n      <th>Crop_Yield</th>\n      <th>Soil_Nitrogen</th>\n      <th>Soil_Phosphorus</th>\n      <th>Soil_Potassium</th>\n      <th>Fertilizer_Application</th>\n      <th>Market_ID</th>\n      <th>...</th>\n      <th>Storage_Capacity</th>\n      <th>Supply_Delay</th>\n      <th>Supply_Reliability</th>\n      <th>Fuel_Price</th>\n      <th>Economic_Index</th>\n      <th>Weather_Conditions</th>\n      <th>Crop_Suitability</th>\n      <th>Profit_Margin</th>\n      <th>Demand_Forecast</th>\n      <th>Market_Conditions</th>\n    </tr>\n  </thead>\n  <tbody>\n    <tr>\n      <th>0</th>\n      <td>Farm_0</td>\n      <td>Wheat</td>\n      <td>2022-09-08</td>\n      <td>2022-06-02</td>\n      <td>433.120629</td>\n      <td>1.744877</td>\n      <td>0.788684</td>\n      <td>2.624458</td>\n      <td>High</td>\n      <td>Market_C</td>\n      <td>...</td>\n      <td>4273.209959</td>\n      <td>9.364963</td>\n      <td>0.381843</td>\n      <td>2.528511</td>\n      <td>0.525406</td>\n      <td>Sunny</td>\n      <td>High</td>\n      <td>70.995972</td>\n      <td>695.551245</td>\n      <td>Stable</td>\n    </tr>\n    <tr>\n      <th>1</th>\n      <td>Farm_1</td>\n      <td>Rice</td>\n      <td>2022-04-22</td>\n      <td>2022-08-19</td>\n      <td>171.645462</td>\n      <td>0.842294</td>\n      <td>0.534043</td>\n      <td>1.344645</td>\n      <td>Moderate</td>\n      <td>Market_D</td>\n      <td>...</td>\n      <td>7004.902069</td>\n      <td>0.360879</td>\n      <td>0.249128</td>\n      <td>1.629674</td>\n      <td>1.545662</td>\n      <td>Sunny</td>\n      <td>Low</td>\n      <td>26.668010</td>\n      <td>147.828407</td>\n      <td>Stable</td>\n    </tr>\n    <tr>\n      <th>2</th>\n      <td>Farm_2</td>\n      <td>Wheat</td>\n      <td>2022-10-12</td>\n      <td>2022-09-22</td>\n      <td>280.387939</td>\n      <td>0.313875</td>\n      <td>1.378451</td>\n      <td>2.943863</td>\n      <td>Moderate</td>\n      <td>Market_B</td>\n      <td>...</td>\n      <td>8324.904882</td>\n      <td>1.586866</td>\n      <td>0.075848</td>\n      <td>3.097474</td>\n      <td>0.650862</td>\n      <td>Rainy</td>\n      <td>Medium</td>\n      <td>57.249056</td>\n      <td>471.582811</td>\n      <td>Stable</td>\n    </tr>\n    <tr>\n      <th>3</th>\n      <td>Farm_3</td>\n      <td>Carrot</td>\n      <td>2022-10-16</td>\n      <td>2022-12-16</td>\n      <td>450.311426</td>\n      <td>0.256435</td>\n      <td>1.188903</td>\n      <td>2.284497</td>\n      <td>High</td>\n      <td>Market_D</td>\n      <td>...</td>\n      <td>8941.633242</td>\n      <td>4.006723</td>\n      <td>0.244438</td>\n      <td>4.575228</td>\n      <td>1.362850</td>\n      <td>Sunny</td>\n      <td>Low</td>\n      <td>67.382109</td>\n      <td>783.359511</td>\n      <td>Volatile</td>\n    </tr>\n    <tr>\n      <th>4</th>\n      <td>Farm_4</td>\n      <td>Soybean</td>\n      <td>2022-09-16</td>\n      <td>2022-06-21</td>\n      <td>119.504130</td>\n      <td>1.288418</td>\n      <td>1.386113</td>\n      <td>2.394433</td>\n      <td>NaN</td>\n      <td>Market_D</td>\n      <td>...</td>\n      <td>1296.127019</td>\n      <td>3.671201</td>\n      <td>0.498452</td>\n      <td>2.671725</td>\n      <td>1.832056</td>\n      <td>Cloudy</td>\n      <td>Medium</td>\n      <td>43.168408</td>\n      <td>381.449613</td>\n      <td>Stable</td>\n    </tr>\n  </tbody>\n</table>\n<p>5 rows × 30 columns</p>\n</div>"
     },
     "execution_count": 3,
     "metadata": {},
     "output_type": "execute_result"
    }
   ],
   "source": [
    "d.head()"
   ]
  },
  {
   "cell_type": "code",
   "execution_count": 4,
   "id": "fe72b203ae0e6d18",
   "metadata": {
    "ExecuteTime": {
     "end_time": "2024-08-10T11:44:23.845662Z",
     "start_time": "2024-08-10T11:44:23.840989Z"
    }
   },
   "outputs": [],
   "source": [
    "df=d"
   ]
  },
  {
   "cell_type": "code",
   "execution_count": 5,
   "id": "e2338f65e0c30440",
   "metadata": {
    "ExecuteTime": {
     "end_time": "2024-08-10T11:44:23.888726Z",
     "start_time": "2024-08-10T11:44:23.846787Z"
    }
   },
   "outputs": [],
   "source": [
    "df['Planting_Date'] = pd.to_datetime(df['Planting_Date'])\n",
    "df['Harvest_Date'] = pd.to_datetime(df['Harvest_Date'])\n",
    "\n",
    "# Feature Engineering: Calculate growing season duration\n",
    "df['Growing_Season_Duration'] = (df['Harvest_Date'] - df['Planting_Date']).dt.days"
   ]
  },
  {
   "cell_type": "code",
   "execution_count": 6,
   "id": "b74cfc9ac039bf93",
   "metadata": {
    "ExecuteTime": {
     "end_time": "2024-08-10T11:44:23.912561Z",
     "start_time": "2024-08-10T11:44:23.890115Z"
    }
   },
   "outputs": [],
   "source": [
    "df = df.drop(columns=['Planting_Date', 'Harvest_Date'])\n"
   ]
  },
  {
   "cell_type": "code",
   "execution_count": 7,
   "id": "9e5a93dc7c604ce7",
   "metadata": {
    "ExecuteTime": {
     "end_time": "2024-08-10T11:44:23.989829Z",
     "start_time": "2024-08-10T11:44:23.914770Z"
    }
   },
   "outputs": [],
   "source": [
    "df=df.dropna()"
   ]
  },
  {
   "cell_type": "code",
   "execution_count": 8,
   "id": "8495cb702ee1005f",
   "metadata": {
    "ExecuteTime": {
     "end_time": "2024-08-10T11:44:24.000027Z",
     "start_time": "2024-08-10T11:44:23.990977Z"
    }
   },
   "outputs": [],
   "source": [
    "# Interaction Feature: Transport Cost per Kilometer\n",
    "df['Transport_Cost_per_km'] = df['Transport_Cost'] / df['Distance']\n",
    "\n",
    "# Interaction Feature: Estimated Revenue\n",
    "df['Revenue_Estimate'] = df['Crop_Yield'] * df['Market_Price']\n"
   ]
  },
  {
   "cell_type": "code",
   "execution_count": 9,
   "id": "10a6685f00e16e4a",
   "metadata": {
    "ExecuteTime": {
     "end_time": "2024-08-10T11:44:24.027074Z",
     "start_time": "2024-08-10T11:44:24.002310Z"
    }
   },
   "outputs": [],
   "source": [
    "# Target Encoding for Crop_Type\n",
    "df['Crop_Type_Target_Enc'] = df.groupby('Crop_Type')['Profit_Margin'].transform('mean')\n",
    "\n",
    "# Target Encoding for Market_ID\n",
    "df['Market_ID_Target_Enc'] = df.groupby('Market_ID')['Profit_Margin'].transform('mean')\n"
   ]
  },
  {
   "cell_type": "code",
   "execution_count": 10,
   "id": "23669afdd584ff68",
   "metadata": {
    "ExecuteTime": {
     "end_time": "2024-08-10T11:44:24.104820Z",
     "start_time": "2024-08-10T11:44:24.031539Z"
    }
   },
   "outputs": [],
   "source": [
    "# Calculate the mean and standard deviation of the Transport_Cost\n",
    "mean_transport_cost = df['Transport_Cost'].mean()\n",
    "std_transport_cost = df['Transport_Cost'].std()\n",
    "\n",
    "# Define a threshold for detecting anomalies (e.g., 3 standard deviations from the mean)\n",
    "threshold = 3 * std_transport_cost\n",
    "\n",
    "# Anomaly Detection: Flag for high transport cost\n",
    "df['High_Transport_Cost_Flag'] = np.where(df['Transport_Cost'] > mean_transport_cost + threshold, 1, 0)\n",
    "\n",
    "# Remove outliers based on the flag\n",
    "df = df[df['High_Transport_Cost_Flag'] == 0].copy()\n",
    "\n",
    "# Drop the flag column if no longer needed\n",
    "df = df.drop(columns=['High_Transport_Cost_Flag'])\n"
   ]
  },
  {
   "cell_type": "code",
   "execution_count": 11,
   "id": "350bc557333a2439",
   "metadata": {
    "ExecuteTime": {
     "end_time": "2024-08-10T11:44:24.211369Z",
     "start_time": "2024-08-10T11:44:24.105944Z"
    }
   },
   "outputs": [],
   "source": [
    "from scipy import stats\n",
    "\n",
    "# Calculate Z-scores for each numeric feature\n",
    "z_scores = np.abs(stats.zscore(df.select_dtypes(include=[np.number])))\n",
    "\n",
    "# Identify outliers (where Z-score > threshold, e.g., 3)\n",
    "outliers = (z_scores > 3).any(axis=1)\n",
    "\n",
    "# Remove outliers\n",
    "df = df[~outliers].copy()\n"
   ]
  },
  {
   "cell_type": "code",
   "execution_count": 12,
   "id": "b4df5236031f1e",
   "metadata": {
    "ExecuteTime": {
     "end_time": "2024-08-10T11:44:24.226936Z",
     "start_time": "2024-08-10T11:44:24.212483Z"
    }
   },
   "outputs": [],
   "source": [
    "X = df.drop(columns=['Profit_Margin','Farm_ID','Market_ID','Route_ID','Crop_Type'])\n",
    "y = df['Profit_Margin']\n"
   ]
  },
  {
   "cell_type": "code",
   "execution_count": 13,
   "id": "1426837a10a10613",
   "metadata": {
    "ExecuteTime": {
     "end_time": "2024-08-10T11:44:24.244220Z",
     "start_time": "2024-08-10T11:44:24.229286Z"
    }
   },
   "outputs": [],
   "source": [
    "categorical_cols = X.select_dtypes(include=['object']).columns.tolist()\n",
    "numerical_cols = X.select_dtypes(exclude=['object']).columns.tolist()\n"
   ]
  },
  {
   "cell_type": "code",
   "execution_count": 14,
   "id": "fb6ee5ad296628f7",
   "metadata": {
    "ExecuteTime": {
     "end_time": "2024-08-10T11:44:24.251469Z",
     "start_time": "2024-08-10T11:44:24.246506Z"
    }
   },
   "outputs": [],
   "source": [
    "numerical_transformer = Pipeline(steps=[\n",
    "    ('imputer', SimpleImputer(strategy='mean')),\n",
    "    ('scaler', StandardScaler())\n",
    "])"
   ]
  },
  {
   "cell_type": "code",
   "execution_count": 15,
   "id": "e187262be2251550",
   "metadata": {
    "ExecuteTime": {
     "end_time": "2024-08-10T11:44:24.259741Z",
     "start_time": "2024-08-10T11:44:24.253638Z"
    }
   },
   "outputs": [],
   "source": [
    "categorical_transformer = Pipeline(steps=[\n",
    "    ('imputer', SimpleImputer(strategy='most_frequent')),\n",
    "    ('onehot', OneHotEncoder(handle_unknown='ignore'))\n",
    "])"
   ]
  },
  {
   "cell_type": "code",
   "execution_count": 16,
   "id": "b0aabe955d8e4eb7",
   "metadata": {
    "ExecuteTime": {
     "end_time": "2024-08-10T11:44:24.267088Z",
     "start_time": "2024-08-10T11:44:24.261964Z"
    }
   },
   "outputs": [],
   "source": [
    "preprocessor = ColumnTransformer(\n",
    "    transformers=[\n",
    "        ('num', numerical_transformer, numerical_cols),\n",
    "        ('cat', categorical_transformer, categorical_cols)\n",
    "    ]\n",
    ")"
   ]
  },
  {
   "cell_type": "code",
   "execution_count": 17,
   "id": "d6cec91ff346795",
   "metadata": {
    "ExecuteTime": {
     "end_time": "2024-08-10T11:44:24.273294Z",
     "start_time": "2024-08-10T11:44:24.269196Z"
    }
   },
   "outputs": [],
   "source": [
    "pipeline = Pipeline(steps=[\n",
    "    ('preprocessor', preprocessor),\n",
    "    ('model', RandomForestRegressor(n_estimators=150, random_state=42))\n",
    "])"
   ]
  },
  {
   "cell_type": "code",
   "execution_count": 18,
   "id": "fb439b691f542907",
   "metadata": {
    "ExecuteTime": {
     "end_time": "2024-08-10T11:44:24.307671Z",
     "start_time": "2024-08-10T11:44:24.275453Z"
    }
   },
   "outputs": [],
   "source": [
    "X_train, X_test, y_train, y_test = train_test_split(X, y, test_size=0.2, random_state=42)"
   ]
  },
  {
   "cell_type": "code",
   "execution_count": 19,
   "id": "105265c34ff8f9c1",
   "metadata": {
    "ExecuteTime": {
     "end_time": "2024-08-10T11:53:15.474762Z",
     "start_time": "2024-08-10T11:44:24.309974Z"
    }
   },
   "outputs": [
    {
     "data": {
      "text/plain": "Pipeline(steps=[('preprocessor',\n                 ColumnTransformer(transformers=[('num',\n                                                  Pipeline(steps=[('imputer',\n                                                                   SimpleImputer()),\n                                                                  ('scaler',\n                                                                   StandardScaler())]),\n                                                  ['Crop_Yield',\n                                                   'Soil_Nitrogen',\n                                                   'Soil_Phosphorus',\n                                                   'Soil_Potassium',\n                                                   'Crop_Demand',\n                                                   'Market_Price',\n                                                   'Seasonality_Index',\n                                                   'Distance', 'Transport_Cost',\n                                                   'Vehicle_Capacity',\n                                                   'Delivery_Time',\n                                                   'Inventory_Level',\n                                                   'Storage_C...\n                                                   'Crop_Type_Target_Enc',\n                                                   'Market_ID_Target_Enc']),\n                                                 ('cat',\n                                                  Pipeline(steps=[('imputer',\n                                                                   SimpleImputer(strategy='most_frequent')),\n                                                                  ('onehot',\n                                                                   OneHotEncoder(handle_unknown='ignore'))]),\n                                                  ['Fertilizer_Application',\n                                                   'Consumer_Preferences',\n                                                   'Weather_Conditions',\n                                                   'Crop_Suitability',\n                                                   'Market_Conditions'])])),\n                ('model',\n                 RandomForestRegressor(n_estimators=150, random_state=42))])",
      "text/html": "<style>#sk-container-id-1 {\n  /* Definition of color scheme common for light and dark mode */\n  --sklearn-color-text: black;\n  --sklearn-color-line: gray;\n  /* Definition of color scheme for unfitted estimators */\n  --sklearn-color-unfitted-level-0: #fff5e6;\n  --sklearn-color-unfitted-level-1: #f6e4d2;\n  --sklearn-color-unfitted-level-2: #ffe0b3;\n  --sklearn-color-unfitted-level-3: chocolate;\n  /* Definition of color scheme for fitted estimators */\n  --sklearn-color-fitted-level-0: #f0f8ff;\n  --sklearn-color-fitted-level-1: #d4ebff;\n  --sklearn-color-fitted-level-2: #b3dbfd;\n  --sklearn-color-fitted-level-3: cornflowerblue;\n\n  /* Specific color for light theme */\n  --sklearn-color-text-on-default-background: var(--sg-text-color, var(--theme-code-foreground, var(--jp-content-font-color1, black)));\n  --sklearn-color-background: var(--sg-background-color, var(--theme-background, var(--jp-layout-color0, white)));\n  --sklearn-color-border-box: var(--sg-text-color, var(--theme-code-foreground, var(--jp-content-font-color1, black)));\n  --sklearn-color-icon: #696969;\n\n  @media (prefers-color-scheme: dark) {\n    /* Redefinition of color scheme for dark theme */\n    --sklearn-color-text-on-default-background: var(--sg-text-color, var(--theme-code-foreground, var(--jp-content-font-color1, white)));\n    --sklearn-color-background: var(--sg-background-color, var(--theme-background, var(--jp-layout-color0, #111)));\n    --sklearn-color-border-box: var(--sg-text-color, var(--theme-code-foreground, var(--jp-content-font-color1, white)));\n    --sklearn-color-icon: #878787;\n  }\n}\n\n#sk-container-id-1 {\n  color: var(--sklearn-color-text);\n}\n\n#sk-container-id-1 pre {\n  padding: 0;\n}\n\n#sk-container-id-1 input.sk-hidden--visually {\n  border: 0;\n  clip: rect(1px 1px 1px 1px);\n  clip: rect(1px, 1px, 1px, 1px);\n  height: 1px;\n  margin: -1px;\n  overflow: hidden;\n  padding: 0;\n  position: absolute;\n  width: 1px;\n}\n\n#sk-container-id-1 div.sk-dashed-wrapped {\n  border: 1px dashed var(--sklearn-color-line);\n  margin: 0 0.4em 0.5em 0.4em;\n  box-sizing: border-box;\n  padding-bottom: 0.4em;\n  background-color: var(--sklearn-color-background);\n}\n\n#sk-container-id-1 div.sk-container {\n  /* jupyter's `normalize.less` sets `[hidden] { display: none; }`\n     but bootstrap.min.css set `[hidden] { display: none !important; }`\n     so we also need the `!important` here to be able to override the\n     default hidden behavior on the sphinx rendered scikit-learn.org.\n     See: https://github.com/scikit-learn/scikit-learn/issues/21755 */\n  display: inline-block !important;\n  position: relative;\n}\n\n#sk-container-id-1 div.sk-text-repr-fallback {\n  display: none;\n}\n\ndiv.sk-parallel-item,\ndiv.sk-serial,\ndiv.sk-item {\n  /* draw centered vertical line to link estimators */\n  background-image: linear-gradient(var(--sklearn-color-text-on-default-background), var(--sklearn-color-text-on-default-background));\n  background-size: 2px 100%;\n  background-repeat: no-repeat;\n  background-position: center center;\n}\n\n/* Parallel-specific style estimator block */\n\n#sk-container-id-1 div.sk-parallel-item::after {\n  content: \"\";\n  width: 100%;\n  border-bottom: 2px solid var(--sklearn-color-text-on-default-background);\n  flex-grow: 1;\n}\n\n#sk-container-id-1 div.sk-parallel {\n  display: flex;\n  align-items: stretch;\n  justify-content: center;\n  background-color: var(--sklearn-color-background);\n  position: relative;\n}\n\n#sk-container-id-1 div.sk-parallel-item {\n  display: flex;\n  flex-direction: column;\n}\n\n#sk-container-id-1 div.sk-parallel-item:first-child::after {\n  align-self: flex-end;\n  width: 50%;\n}\n\n#sk-container-id-1 div.sk-parallel-item:last-child::after {\n  align-self: flex-start;\n  width: 50%;\n}\n\n#sk-container-id-1 div.sk-parallel-item:only-child::after {\n  width: 0;\n}\n\n/* Serial-specific style estimator block */\n\n#sk-container-id-1 div.sk-serial {\n  display: flex;\n  flex-direction: column;\n  align-items: center;\n  background-color: var(--sklearn-color-background);\n  padding-right: 1em;\n  padding-left: 1em;\n}\n\n\n/* Toggleable style: style used for estimator/Pipeline/ColumnTransformer box that is\nclickable and can be expanded/collapsed.\n- Pipeline and ColumnTransformer use this feature and define the default style\n- Estimators will overwrite some part of the style using the `sk-estimator` class\n*/\n\n/* Pipeline and ColumnTransformer style (default) */\n\n#sk-container-id-1 div.sk-toggleable {\n  /* Default theme specific background. It is overwritten whether we have a\n  specific estimator or a Pipeline/ColumnTransformer */\n  background-color: var(--sklearn-color-background);\n}\n\n/* Toggleable label */\n#sk-container-id-1 label.sk-toggleable__label {\n  cursor: pointer;\n  display: block;\n  width: 100%;\n  margin-bottom: 0;\n  padding: 0.5em;\n  box-sizing: border-box;\n  text-align: center;\n}\n\n#sk-container-id-1 label.sk-toggleable__label-arrow:before {\n  /* Arrow on the left of the label */\n  content: \"▸\";\n  float: left;\n  margin-right: 0.25em;\n  color: var(--sklearn-color-icon);\n}\n\n#sk-container-id-1 label.sk-toggleable__label-arrow:hover:before {\n  color: var(--sklearn-color-text);\n}\n\n/* Toggleable content - dropdown */\n\n#sk-container-id-1 div.sk-toggleable__content {\n  max-height: 0;\n  max-width: 0;\n  overflow: hidden;\n  text-align: left;\n  /* unfitted */\n  background-color: var(--sklearn-color-unfitted-level-0);\n}\n\n#sk-container-id-1 div.sk-toggleable__content.fitted {\n  /* fitted */\n  background-color: var(--sklearn-color-fitted-level-0);\n}\n\n#sk-container-id-1 div.sk-toggleable__content pre {\n  margin: 0.2em;\n  border-radius: 0.25em;\n  color: var(--sklearn-color-text);\n  /* unfitted */\n  background-color: var(--sklearn-color-unfitted-level-0);\n}\n\n#sk-container-id-1 div.sk-toggleable__content.fitted pre {\n  /* unfitted */\n  background-color: var(--sklearn-color-fitted-level-0);\n}\n\n#sk-container-id-1 input.sk-toggleable__control:checked~div.sk-toggleable__content {\n  /* Expand drop-down */\n  max-height: 200px;\n  max-width: 100%;\n  overflow: auto;\n}\n\n#sk-container-id-1 input.sk-toggleable__control:checked~label.sk-toggleable__label-arrow:before {\n  content: \"▾\";\n}\n\n/* Pipeline/ColumnTransformer-specific style */\n\n#sk-container-id-1 div.sk-label input.sk-toggleable__control:checked~label.sk-toggleable__label {\n  color: var(--sklearn-color-text);\n  background-color: var(--sklearn-color-unfitted-level-2);\n}\n\n#sk-container-id-1 div.sk-label.fitted input.sk-toggleable__control:checked~label.sk-toggleable__label {\n  background-color: var(--sklearn-color-fitted-level-2);\n}\n\n/* Estimator-specific style */\n\n/* Colorize estimator box */\n#sk-container-id-1 div.sk-estimator input.sk-toggleable__control:checked~label.sk-toggleable__label {\n  /* unfitted */\n  background-color: var(--sklearn-color-unfitted-level-2);\n}\n\n#sk-container-id-1 div.sk-estimator.fitted input.sk-toggleable__control:checked~label.sk-toggleable__label {\n  /* fitted */\n  background-color: var(--sklearn-color-fitted-level-2);\n}\n\n#sk-container-id-1 div.sk-label label.sk-toggleable__label,\n#sk-container-id-1 div.sk-label label {\n  /* The background is the default theme color */\n  color: var(--sklearn-color-text-on-default-background);\n}\n\n/* On hover, darken the color of the background */\n#sk-container-id-1 div.sk-label:hover label.sk-toggleable__label {\n  color: var(--sklearn-color-text);\n  background-color: var(--sklearn-color-unfitted-level-2);\n}\n\n/* Label box, darken color on hover, fitted */\n#sk-container-id-1 div.sk-label.fitted:hover label.sk-toggleable__label.fitted {\n  color: var(--sklearn-color-text);\n  background-color: var(--sklearn-color-fitted-level-2);\n}\n\n/* Estimator label */\n\n#sk-container-id-1 div.sk-label label {\n  font-family: monospace;\n  font-weight: bold;\n  display: inline-block;\n  line-height: 1.2em;\n}\n\n#sk-container-id-1 div.sk-label-container {\n  text-align: center;\n}\n\n/* Estimator-specific */\n#sk-container-id-1 div.sk-estimator {\n  font-family: monospace;\n  border: 1px dotted var(--sklearn-color-border-box);\n  border-radius: 0.25em;\n  box-sizing: border-box;\n  margin-bottom: 0.5em;\n  /* unfitted */\n  background-color: var(--sklearn-color-unfitted-level-0);\n}\n\n#sk-container-id-1 div.sk-estimator.fitted {\n  /* fitted */\n  background-color: var(--sklearn-color-fitted-level-0);\n}\n\n/* on hover */\n#sk-container-id-1 div.sk-estimator:hover {\n  /* unfitted */\n  background-color: var(--sklearn-color-unfitted-level-2);\n}\n\n#sk-container-id-1 div.sk-estimator.fitted:hover {\n  /* fitted */\n  background-color: var(--sklearn-color-fitted-level-2);\n}\n\n/* Specification for estimator info (e.g. \"i\" and \"?\") */\n\n/* Common style for \"i\" and \"?\" */\n\n.sk-estimator-doc-link,\na:link.sk-estimator-doc-link,\na:visited.sk-estimator-doc-link {\n  float: right;\n  font-size: smaller;\n  line-height: 1em;\n  font-family: monospace;\n  background-color: var(--sklearn-color-background);\n  border-radius: 1em;\n  height: 1em;\n  width: 1em;\n  text-decoration: none !important;\n  margin-left: 1ex;\n  /* unfitted */\n  border: var(--sklearn-color-unfitted-level-1) 1pt solid;\n  color: var(--sklearn-color-unfitted-level-1);\n}\n\n.sk-estimator-doc-link.fitted,\na:link.sk-estimator-doc-link.fitted,\na:visited.sk-estimator-doc-link.fitted {\n  /* fitted */\n  border: var(--sklearn-color-fitted-level-1) 1pt solid;\n  color: var(--sklearn-color-fitted-level-1);\n}\n\n/* On hover */\ndiv.sk-estimator:hover .sk-estimator-doc-link:hover,\n.sk-estimator-doc-link:hover,\ndiv.sk-label-container:hover .sk-estimator-doc-link:hover,\n.sk-estimator-doc-link:hover {\n  /* unfitted */\n  background-color: var(--sklearn-color-unfitted-level-3);\n  color: var(--sklearn-color-background);\n  text-decoration: none;\n}\n\ndiv.sk-estimator.fitted:hover .sk-estimator-doc-link.fitted:hover,\n.sk-estimator-doc-link.fitted:hover,\ndiv.sk-label-container:hover .sk-estimator-doc-link.fitted:hover,\n.sk-estimator-doc-link.fitted:hover {\n  /* fitted */\n  background-color: var(--sklearn-color-fitted-level-3);\n  color: var(--sklearn-color-background);\n  text-decoration: none;\n}\n\n/* Span, style for the box shown on hovering the info icon */\n.sk-estimator-doc-link span {\n  display: none;\n  z-index: 9999;\n  position: relative;\n  font-weight: normal;\n  right: .2ex;\n  padding: .5ex;\n  margin: .5ex;\n  width: min-content;\n  min-width: 20ex;\n  max-width: 50ex;\n  color: var(--sklearn-color-text);\n  box-shadow: 2pt 2pt 4pt #999;\n  /* unfitted */\n  background: var(--sklearn-color-unfitted-level-0);\n  border: .5pt solid var(--sklearn-color-unfitted-level-3);\n}\n\n.sk-estimator-doc-link.fitted span {\n  /* fitted */\n  background: var(--sklearn-color-fitted-level-0);\n  border: var(--sklearn-color-fitted-level-3);\n}\n\n.sk-estimator-doc-link:hover span {\n  display: block;\n}\n\n/* \"?\"-specific style due to the `<a>` HTML tag */\n\n#sk-container-id-1 a.estimator_doc_link {\n  float: right;\n  font-size: 1rem;\n  line-height: 1em;\n  font-family: monospace;\n  background-color: var(--sklearn-color-background);\n  border-radius: 1rem;\n  height: 1rem;\n  width: 1rem;\n  text-decoration: none;\n  /* unfitted */\n  color: var(--sklearn-color-unfitted-level-1);\n  border: var(--sklearn-color-unfitted-level-1) 1pt solid;\n}\n\n#sk-container-id-1 a.estimator_doc_link.fitted {\n  /* fitted */\n  border: var(--sklearn-color-fitted-level-1) 1pt solid;\n  color: var(--sklearn-color-fitted-level-1);\n}\n\n/* On hover */\n#sk-container-id-1 a.estimator_doc_link:hover {\n  /* unfitted */\n  background-color: var(--sklearn-color-unfitted-level-3);\n  color: var(--sklearn-color-background);\n  text-decoration: none;\n}\n\n#sk-container-id-1 a.estimator_doc_link.fitted:hover {\n  /* fitted */\n  background-color: var(--sklearn-color-fitted-level-3);\n}\n</style><div id=\"sk-container-id-1\" class=\"sk-top-container\"><div class=\"sk-text-repr-fallback\"><pre>Pipeline(steps=[(&#x27;preprocessor&#x27;,\n                 ColumnTransformer(transformers=[(&#x27;num&#x27;,\n                                                  Pipeline(steps=[(&#x27;imputer&#x27;,\n                                                                   SimpleImputer()),\n                                                                  (&#x27;scaler&#x27;,\n                                                                   StandardScaler())]),\n                                                  [&#x27;Crop_Yield&#x27;,\n                                                   &#x27;Soil_Nitrogen&#x27;,\n                                                   &#x27;Soil_Phosphorus&#x27;,\n                                                   &#x27;Soil_Potassium&#x27;,\n                                                   &#x27;Crop_Demand&#x27;,\n                                                   &#x27;Market_Price&#x27;,\n                                                   &#x27;Seasonality_Index&#x27;,\n                                                   &#x27;Distance&#x27;, &#x27;Transport_Cost&#x27;,\n                                                   &#x27;Vehicle_Capacity&#x27;,\n                                                   &#x27;Delivery_Time&#x27;,\n                                                   &#x27;Inventory_Level&#x27;,\n                                                   &#x27;Storage_C...\n                                                   &#x27;Crop_Type_Target_Enc&#x27;,\n                                                   &#x27;Market_ID_Target_Enc&#x27;]),\n                                                 (&#x27;cat&#x27;,\n                                                  Pipeline(steps=[(&#x27;imputer&#x27;,\n                                                                   SimpleImputer(strategy=&#x27;most_frequent&#x27;)),\n                                                                  (&#x27;onehot&#x27;,\n                                                                   OneHotEncoder(handle_unknown=&#x27;ignore&#x27;))]),\n                                                  [&#x27;Fertilizer_Application&#x27;,\n                                                   &#x27;Consumer_Preferences&#x27;,\n                                                   &#x27;Weather_Conditions&#x27;,\n                                                   &#x27;Crop_Suitability&#x27;,\n                                                   &#x27;Market_Conditions&#x27;])])),\n                (&#x27;model&#x27;,\n                 RandomForestRegressor(n_estimators=150, random_state=42))])</pre><b>In a Jupyter environment, please rerun this cell to show the HTML representation or trust the notebook. <br />On GitHub, the HTML representation is unable to render, please try loading this page with nbviewer.org.</b></div><div class=\"sk-container\" hidden><div class=\"sk-item sk-dashed-wrapped\"><div class=\"sk-label-container\"><div class=\"sk-label fitted sk-toggleable\"><input class=\"sk-toggleable__control sk-hidden--visually\" id=\"sk-estimator-id-1\" type=\"checkbox\" ><label for=\"sk-estimator-id-1\" class=\"sk-toggleable__label fitted sk-toggleable__label-arrow fitted\">&nbsp;&nbsp;Pipeline<a class=\"sk-estimator-doc-link fitted\" rel=\"noreferrer\" target=\"_blank\" href=\"https://scikit-learn.org/1.5/modules/generated/sklearn.pipeline.Pipeline.html\">?<span>Documentation for Pipeline</span></a><span class=\"sk-estimator-doc-link fitted\">i<span>Fitted</span></span></label><div class=\"sk-toggleable__content fitted\"><pre>Pipeline(steps=[(&#x27;preprocessor&#x27;,\n                 ColumnTransformer(transformers=[(&#x27;num&#x27;,\n                                                  Pipeline(steps=[(&#x27;imputer&#x27;,\n                                                                   SimpleImputer()),\n                                                                  (&#x27;scaler&#x27;,\n                                                                   StandardScaler())]),\n                                                  [&#x27;Crop_Yield&#x27;,\n                                                   &#x27;Soil_Nitrogen&#x27;,\n                                                   &#x27;Soil_Phosphorus&#x27;,\n                                                   &#x27;Soil_Potassium&#x27;,\n                                                   &#x27;Crop_Demand&#x27;,\n                                                   &#x27;Market_Price&#x27;,\n                                                   &#x27;Seasonality_Index&#x27;,\n                                                   &#x27;Distance&#x27;, &#x27;Transport_Cost&#x27;,\n                                                   &#x27;Vehicle_Capacity&#x27;,\n                                                   &#x27;Delivery_Time&#x27;,\n                                                   &#x27;Inventory_Level&#x27;,\n                                                   &#x27;Storage_C...\n                                                   &#x27;Crop_Type_Target_Enc&#x27;,\n                                                   &#x27;Market_ID_Target_Enc&#x27;]),\n                                                 (&#x27;cat&#x27;,\n                                                  Pipeline(steps=[(&#x27;imputer&#x27;,\n                                                                   SimpleImputer(strategy=&#x27;most_frequent&#x27;)),\n                                                                  (&#x27;onehot&#x27;,\n                                                                   OneHotEncoder(handle_unknown=&#x27;ignore&#x27;))]),\n                                                  [&#x27;Fertilizer_Application&#x27;,\n                                                   &#x27;Consumer_Preferences&#x27;,\n                                                   &#x27;Weather_Conditions&#x27;,\n                                                   &#x27;Crop_Suitability&#x27;,\n                                                   &#x27;Market_Conditions&#x27;])])),\n                (&#x27;model&#x27;,\n                 RandomForestRegressor(n_estimators=150, random_state=42))])</pre></div> </div></div><div class=\"sk-serial\"><div class=\"sk-item sk-dashed-wrapped\"><div class=\"sk-label-container\"><div class=\"sk-label fitted sk-toggleable\"><input class=\"sk-toggleable__control sk-hidden--visually\" id=\"sk-estimator-id-2\" type=\"checkbox\" ><label for=\"sk-estimator-id-2\" class=\"sk-toggleable__label fitted sk-toggleable__label-arrow fitted\">&nbsp;preprocessor: ColumnTransformer<a class=\"sk-estimator-doc-link fitted\" rel=\"noreferrer\" target=\"_blank\" href=\"https://scikit-learn.org/1.5/modules/generated/sklearn.compose.ColumnTransformer.html\">?<span>Documentation for preprocessor: ColumnTransformer</span></a></label><div class=\"sk-toggleable__content fitted\"><pre>ColumnTransformer(transformers=[(&#x27;num&#x27;,\n                                 Pipeline(steps=[(&#x27;imputer&#x27;, SimpleImputer()),\n                                                 (&#x27;scaler&#x27;, StandardScaler())]),\n                                 [&#x27;Crop_Yield&#x27;, &#x27;Soil_Nitrogen&#x27;,\n                                  &#x27;Soil_Phosphorus&#x27;, &#x27;Soil_Potassium&#x27;,\n                                  &#x27;Crop_Demand&#x27;, &#x27;Market_Price&#x27;,\n                                  &#x27;Seasonality_Index&#x27;, &#x27;Distance&#x27;,\n                                  &#x27;Transport_Cost&#x27;, &#x27;Vehicle_Capacity&#x27;,\n                                  &#x27;Delivery_Time&#x27;, &#x27;Inventory_Level&#x27;,\n                                  &#x27;Storage_Capacity&#x27;, &#x27;Supply_Delay&#x27;,\n                                  &#x27;Supply_...\n                                  &#x27;Growing_Season_Duration&#x27;,\n                                  &#x27;Transport_Cost_per_km&#x27;, &#x27;Revenue_Estimate&#x27;,\n                                  &#x27;Crop_Type_Target_Enc&#x27;,\n                                  &#x27;Market_ID_Target_Enc&#x27;]),\n                                (&#x27;cat&#x27;,\n                                 Pipeline(steps=[(&#x27;imputer&#x27;,\n                                                  SimpleImputer(strategy=&#x27;most_frequent&#x27;)),\n                                                 (&#x27;onehot&#x27;,\n                                                  OneHotEncoder(handle_unknown=&#x27;ignore&#x27;))]),\n                                 [&#x27;Fertilizer_Application&#x27;,\n                                  &#x27;Consumer_Preferences&#x27;, &#x27;Weather_Conditions&#x27;,\n                                  &#x27;Crop_Suitability&#x27;, &#x27;Market_Conditions&#x27;])])</pre></div> </div></div><div class=\"sk-parallel\"><div class=\"sk-parallel-item\"><div class=\"sk-item\"><div class=\"sk-label-container\"><div class=\"sk-label fitted sk-toggleable\"><input class=\"sk-toggleable__control sk-hidden--visually\" id=\"sk-estimator-id-3\" type=\"checkbox\" ><label for=\"sk-estimator-id-3\" class=\"sk-toggleable__label fitted sk-toggleable__label-arrow fitted\">num</label><div class=\"sk-toggleable__content fitted\"><pre>[&#x27;Crop_Yield&#x27;, &#x27;Soil_Nitrogen&#x27;, &#x27;Soil_Phosphorus&#x27;, &#x27;Soil_Potassium&#x27;, &#x27;Crop_Demand&#x27;, &#x27;Market_Price&#x27;, &#x27;Seasonality_Index&#x27;, &#x27;Distance&#x27;, &#x27;Transport_Cost&#x27;, &#x27;Vehicle_Capacity&#x27;, &#x27;Delivery_Time&#x27;, &#x27;Inventory_Level&#x27;, &#x27;Storage_Capacity&#x27;, &#x27;Supply_Delay&#x27;, &#x27;Supply_Reliability&#x27;, &#x27;Fuel_Price&#x27;, &#x27;Economic_Index&#x27;, &#x27;Demand_Forecast&#x27;, &#x27;Growing_Season_Duration&#x27;, &#x27;Transport_Cost_per_km&#x27;, &#x27;Revenue_Estimate&#x27;, &#x27;Crop_Type_Target_Enc&#x27;, &#x27;Market_ID_Target_Enc&#x27;]</pre></div> </div></div><div class=\"sk-serial\"><div class=\"sk-item\"><div class=\"sk-serial\"><div class=\"sk-item\"><div class=\"sk-estimator fitted sk-toggleable\"><input class=\"sk-toggleable__control sk-hidden--visually\" id=\"sk-estimator-id-4\" type=\"checkbox\" ><label for=\"sk-estimator-id-4\" class=\"sk-toggleable__label fitted sk-toggleable__label-arrow fitted\">&nbsp;SimpleImputer<a class=\"sk-estimator-doc-link fitted\" rel=\"noreferrer\" target=\"_blank\" href=\"https://scikit-learn.org/1.5/modules/generated/sklearn.impute.SimpleImputer.html\">?<span>Documentation for SimpleImputer</span></a></label><div class=\"sk-toggleable__content fitted\"><pre>SimpleImputer()</pre></div> </div></div><div class=\"sk-item\"><div class=\"sk-estimator fitted sk-toggleable\"><input class=\"sk-toggleable__control sk-hidden--visually\" id=\"sk-estimator-id-5\" type=\"checkbox\" ><label for=\"sk-estimator-id-5\" class=\"sk-toggleable__label fitted sk-toggleable__label-arrow fitted\">&nbsp;StandardScaler<a class=\"sk-estimator-doc-link fitted\" rel=\"noreferrer\" target=\"_blank\" href=\"https://scikit-learn.org/1.5/modules/generated/sklearn.preprocessing.StandardScaler.html\">?<span>Documentation for StandardScaler</span></a></label><div class=\"sk-toggleable__content fitted\"><pre>StandardScaler()</pre></div> </div></div></div></div></div></div></div><div class=\"sk-parallel-item\"><div class=\"sk-item\"><div class=\"sk-label-container\"><div class=\"sk-label fitted sk-toggleable\"><input class=\"sk-toggleable__control sk-hidden--visually\" id=\"sk-estimator-id-6\" type=\"checkbox\" ><label for=\"sk-estimator-id-6\" class=\"sk-toggleable__label fitted sk-toggleable__label-arrow fitted\">cat</label><div class=\"sk-toggleable__content fitted\"><pre>[&#x27;Fertilizer_Application&#x27;, &#x27;Consumer_Preferences&#x27;, &#x27;Weather_Conditions&#x27;, &#x27;Crop_Suitability&#x27;, &#x27;Market_Conditions&#x27;]</pre></div> </div></div><div class=\"sk-serial\"><div class=\"sk-item\"><div class=\"sk-serial\"><div class=\"sk-item\"><div class=\"sk-estimator fitted sk-toggleable\"><input class=\"sk-toggleable__control sk-hidden--visually\" id=\"sk-estimator-id-7\" type=\"checkbox\" ><label for=\"sk-estimator-id-7\" class=\"sk-toggleable__label fitted sk-toggleable__label-arrow fitted\">&nbsp;SimpleImputer<a class=\"sk-estimator-doc-link fitted\" rel=\"noreferrer\" target=\"_blank\" href=\"https://scikit-learn.org/1.5/modules/generated/sklearn.impute.SimpleImputer.html\">?<span>Documentation for SimpleImputer</span></a></label><div class=\"sk-toggleable__content fitted\"><pre>SimpleImputer(strategy=&#x27;most_frequent&#x27;)</pre></div> </div></div><div class=\"sk-item\"><div class=\"sk-estimator fitted sk-toggleable\"><input class=\"sk-toggleable__control sk-hidden--visually\" id=\"sk-estimator-id-8\" type=\"checkbox\" ><label for=\"sk-estimator-id-8\" class=\"sk-toggleable__label fitted sk-toggleable__label-arrow fitted\">&nbsp;OneHotEncoder<a class=\"sk-estimator-doc-link fitted\" rel=\"noreferrer\" target=\"_blank\" href=\"https://scikit-learn.org/1.5/modules/generated/sklearn.preprocessing.OneHotEncoder.html\">?<span>Documentation for OneHotEncoder</span></a></label><div class=\"sk-toggleable__content fitted\"><pre>OneHotEncoder(handle_unknown=&#x27;ignore&#x27;)</pre></div> </div></div></div></div></div></div></div></div></div><div class=\"sk-item\"><div class=\"sk-estimator fitted sk-toggleable\"><input class=\"sk-toggleable__control sk-hidden--visually\" id=\"sk-estimator-id-9\" type=\"checkbox\" ><label for=\"sk-estimator-id-9\" class=\"sk-toggleable__label fitted sk-toggleable__label-arrow fitted\">&nbsp;RandomForestRegressor<a class=\"sk-estimator-doc-link fitted\" rel=\"noreferrer\" target=\"_blank\" href=\"https://scikit-learn.org/1.5/modules/generated/sklearn.ensemble.RandomForestRegressor.html\">?<span>Documentation for RandomForestRegressor</span></a></label><div class=\"sk-toggleable__content fitted\"><pre>RandomForestRegressor(n_estimators=150, random_state=42)</pre></div> </div></div></div></div></div></div>"
     },
     "execution_count": 19,
     "metadata": {},
     "output_type": "execute_result"
    }
   ],
   "source": [
    "pipeline.fit(X_train, y_train)"
   ]
  },
  {
   "cell_type": "code",
   "execution_count": 20,
   "id": "e35a0d029b4dbc8d",
   "metadata": {
    "ExecuteTime": {
     "end_time": "2024-08-10T11:53:17.027848Z",
     "start_time": "2024-08-10T11:53:15.485109Z"
    }
   },
   "outputs": [],
   "source": [
    "y_pred = pipeline.predict(X_test)\n",
    "mse = mean_squared_error(y_test, y_pred)"
   ]
  },
  {
   "cell_type": "code",
   "execution_count": 21,
   "id": "7c0b188a8620bfaa",
   "metadata": {
    "ExecuteTime": {
     "end_time": "2024-08-10T11:53:17.156481Z",
     "start_time": "2024-08-10T11:53:17.028888Z"
    }
   },
   "outputs": [
    {
     "name": "stdout",
     "output_type": "stream",
     "text": [
      "Mean Squared Error: 688.5930293441199\n",
      "Feature Importances: [0.03931334 0.04606677 0.04532752 0.04583428 0.04526935 0.04156923\n",
      " 0.0456312  0.04010461 0.04074572 0.04544048 0.04571049 0.04546205\n",
      " 0.04520742 0.04566283 0.04551043 0.04588011 0.04576963 0.04584934\n",
      " 0.04367128 0.0370765  0.03708471 0.01616331 0.01139721 0.00406431\n",
      " 0.00400601 0.00408936 0.00398735 0.00418086 0.00400506 0.00400439\n",
      " 0.00419705 0.00408205 0.00402766 0.00402879 0.00395681 0.00281635\n",
      " 0.00280617]\n"
     ]
    }
   ],
   "source": [
    "print(f\"Mean Squared Error: {mse}\")\n",
    "print(\"Feature Importances:\", pipeline.named_steps['model'].feature_importances_)"
   ]
  },
  {
   "cell_type": "code",
   "execution_count": 23,
   "id": "d02df604e90ebb51",
   "metadata": {
    "ExecuteTime": {
     "end_time": "2024-08-10T11:53:17.993401Z",
     "start_time": "2024-08-10T11:53:17.170663Z"
    }
   },
   "outputs": [
    {
     "data": {
      "text/plain": "['pipeline_model.joblib']"
     },
     "execution_count": 23,
     "metadata": {},
     "output_type": "execute_result"
    }
   ],
   "source": [
    "joblib.dump(pipeline, 'pipeline_model.joblib')"
   ]
  },
  {
   "cell_type": "code",
   "execution_count": 23,
   "id": "834bda33523ad91d",
   "metadata": {
    "ExecuteTime": {
     "end_time": "2024-08-10T11:53:17.999001Z",
     "start_time": "2024-08-10T11:53:17.995601Z"
    }
   },
   "outputs": [],
   "source": []
  }
 ],
 "metadata": {
  "kernelspec": {
   "display_name": "Python 3 (ipykernel)",
   "language": "python",
   "name": "python3"
  },
  "language_info": {
   "codemirror_mode": {
    "name": "ipython",
    "version": 3
   },
   "file_extension": ".py",
   "mimetype": "text/x-python",
   "name": "python",
   "nbconvert_exporter": "python",
   "pygments_lexer": "ipython3",
   "version": "3.10.9"
  }
 },
 "nbformat": 4,
 "nbformat_minor": 5
}
