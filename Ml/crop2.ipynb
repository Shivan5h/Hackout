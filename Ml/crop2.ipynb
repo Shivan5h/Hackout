{
 "cells": [
  {
   "cell_type": "code",
   "execution_count": 72,
   "metadata": {
    "collapsed": true
   },
   "outputs": [],
   "source": [
    "import pandas as pd\n",
    "from sklearn.model_selection import train_test_split\n",
    "from sklearn.ensemble import RandomForestRegressor\n",
    "from sklearn.metrics import mean_squared_error, r2_score\n",
    "from sklearn.preprocessing import LabelEncoder"
   ]
  },
  {
   "cell_type": "code",
   "execution_count": 73,
   "outputs": [],
   "source": [
    "df=pd.read_csv(\"new2.csv\")"
   ],
   "metadata": {
    "collapsed": false
   }
  },
  {
   "cell_type": "code",
   "execution_count": 74,
   "outputs": [
    {
     "data": {
      "text/plain": "         Crop_Type  Soil_Nitrogen  Soil_Phosphorus  Soil_Potassium  \\\n0      Cauliflower       2.053056         1.473301        3.187519   \n1          Soybean       2.634906         1.356504        3.939635   \n2           Cotton       4.880676         3.896166        3.169223   \n3             Okra       2.786321         1.609914        4.471937   \n4           Radish       4.596442         3.127395        4.750664   \n...            ...            ...              ...             ...   \n99995     Chickpea       1.164496         4.717827        3.335996   \n99996       Cotton       1.454075         2.233300        2.888208   \n99997   Green gram       1.494998         1.514822        1.769640   \n99998       Cotton       2.905357         1.574603        2.548715   \n99999      Brinjal       2.994516         4.412364        0.957557   \n\n       Soil_Organic_Matter   Soil_pH Soil_Texture  Temperature  \\\n0                 4.340257  7.266762        loamy    26.150591   \n1                 4.655163  7.799725         clay    12.095563   \n2                 6.484767  8.448874         clay    25.268566   \n3                 3.959575  7.262119        loamy    18.417722   \n4                 9.178213  6.274524         clay    26.754192   \n...                    ...       ...          ...          ...   \n99995             3.428062  7.912112        loamy    24.368936   \n99996             5.424269  4.912756        sandy    20.475152   \n99997             7.298952  7.784303        loamy    21.000312   \n99998             6.480717  7.956188        loamy    22.204080   \n99999             6.328217  7.931446        sandy    33.899859   \n\n       Previous_Yield  Crop_Yield_Score  \n0            6.720131          4.413326  \n1            2.185275          3.750298  \n2            5.804210          5.714713  \n3            8.515757          4.527349  \n4            5.496254          6.341429  \n...               ...               ...  \n99995        1.423280          4.314498  \n99996        8.310557          4.132022  \n99997        5.131325          4.053636  \n99998        1.969238          4.336157  \n99999        5.521021          5.349745  \n\n[100000 rows x 10 columns]",
      "text/html": "<div>\n<style scoped>\n    .dataframe tbody tr th:only-of-type {\n        vertical-align: middle;\n    }\n\n    .dataframe tbody tr th {\n        vertical-align: top;\n    }\n\n    .dataframe thead th {\n        text-align: right;\n    }\n</style>\n<table border=\"1\" class=\"dataframe\">\n  <thead>\n    <tr style=\"text-align: right;\">\n      <th></th>\n      <th>Crop_Type</th>\n      <th>Soil_Nitrogen</th>\n      <th>Soil_Phosphorus</th>\n      <th>Soil_Potassium</th>\n      <th>Soil_Organic_Matter</th>\n      <th>Soil_pH</th>\n      <th>Soil_Texture</th>\n      <th>Temperature</th>\n      <th>Previous_Yield</th>\n      <th>Crop_Yield_Score</th>\n    </tr>\n  </thead>\n  <tbody>\n    <tr>\n      <th>0</th>\n      <td>Cauliflower</td>\n      <td>2.053056</td>\n      <td>1.473301</td>\n      <td>3.187519</td>\n      <td>4.340257</td>\n      <td>7.266762</td>\n      <td>loamy</td>\n      <td>26.150591</td>\n      <td>6.720131</td>\n      <td>4.413326</td>\n    </tr>\n    <tr>\n      <th>1</th>\n      <td>Soybean</td>\n      <td>2.634906</td>\n      <td>1.356504</td>\n      <td>3.939635</td>\n      <td>4.655163</td>\n      <td>7.799725</td>\n      <td>clay</td>\n      <td>12.095563</td>\n      <td>2.185275</td>\n      <td>3.750298</td>\n    </tr>\n    <tr>\n      <th>2</th>\n      <td>Cotton</td>\n      <td>4.880676</td>\n      <td>3.896166</td>\n      <td>3.169223</td>\n      <td>6.484767</td>\n      <td>8.448874</td>\n      <td>clay</td>\n      <td>25.268566</td>\n      <td>5.804210</td>\n      <td>5.714713</td>\n    </tr>\n    <tr>\n      <th>3</th>\n      <td>Okra</td>\n      <td>2.786321</td>\n      <td>1.609914</td>\n      <td>4.471937</td>\n      <td>3.959575</td>\n      <td>7.262119</td>\n      <td>loamy</td>\n      <td>18.417722</td>\n      <td>8.515757</td>\n      <td>4.527349</td>\n    </tr>\n    <tr>\n      <th>4</th>\n      <td>Radish</td>\n      <td>4.596442</td>\n      <td>3.127395</td>\n      <td>4.750664</td>\n      <td>9.178213</td>\n      <td>6.274524</td>\n      <td>clay</td>\n      <td>26.754192</td>\n      <td>5.496254</td>\n      <td>6.341429</td>\n    </tr>\n    <tr>\n      <th>...</th>\n      <td>...</td>\n      <td>...</td>\n      <td>...</td>\n      <td>...</td>\n      <td>...</td>\n      <td>...</td>\n      <td>...</td>\n      <td>...</td>\n      <td>...</td>\n      <td>...</td>\n    </tr>\n    <tr>\n      <th>99995</th>\n      <td>Chickpea</td>\n      <td>1.164496</td>\n      <td>4.717827</td>\n      <td>3.335996</td>\n      <td>3.428062</td>\n      <td>7.912112</td>\n      <td>loamy</td>\n      <td>24.368936</td>\n      <td>1.423280</td>\n      <td>4.314498</td>\n    </tr>\n    <tr>\n      <th>99996</th>\n      <td>Cotton</td>\n      <td>1.454075</td>\n      <td>2.233300</td>\n      <td>2.888208</td>\n      <td>5.424269</td>\n      <td>4.912756</td>\n      <td>sandy</td>\n      <td>20.475152</td>\n      <td>8.310557</td>\n      <td>4.132022</td>\n    </tr>\n    <tr>\n      <th>99997</th>\n      <td>Green gram</td>\n      <td>1.494998</td>\n      <td>1.514822</td>\n      <td>1.769640</td>\n      <td>7.298952</td>\n      <td>7.784303</td>\n      <td>loamy</td>\n      <td>21.000312</td>\n      <td>5.131325</td>\n      <td>4.053636</td>\n    </tr>\n    <tr>\n      <th>99998</th>\n      <td>Cotton</td>\n      <td>2.905357</td>\n      <td>1.574603</td>\n      <td>2.548715</td>\n      <td>6.480717</td>\n      <td>7.956188</td>\n      <td>loamy</td>\n      <td>22.204080</td>\n      <td>1.969238</td>\n      <td>4.336157</td>\n    </tr>\n    <tr>\n      <th>99999</th>\n      <td>Brinjal</td>\n      <td>2.994516</td>\n      <td>4.412364</td>\n      <td>0.957557</td>\n      <td>6.328217</td>\n      <td>7.931446</td>\n      <td>sandy</td>\n      <td>33.899859</td>\n      <td>5.521021</td>\n      <td>5.349745</td>\n    </tr>\n  </tbody>\n</table>\n<p>100000 rows × 10 columns</p>\n</div>"
     },
     "execution_count": 74,
     "metadata": {},
     "output_type": "execute_result"
    }
   ],
   "source": [
    "df"
   ],
   "metadata": {
    "collapsed": false
   }
  },
  {
   "cell_type": "code",
   "execution_count": 75,
   "outputs": [
    {
     "name": "stdout",
     "output_type": "stream",
     "text": [
      "<class 'pandas.core.frame.DataFrame'>\n",
      "RangeIndex: 100000 entries, 0 to 99999\n",
      "Data columns (total 10 columns):\n",
      " #   Column               Non-Null Count   Dtype  \n",
      "---  ------               --------------   -----  \n",
      " 0   Crop_Type            100000 non-null  object \n",
      " 1   Soil_Nitrogen        100000 non-null  float64\n",
      " 2   Soil_Phosphorus      100000 non-null  float64\n",
      " 3   Soil_Potassium       100000 non-null  float64\n",
      " 4   Soil_Organic_Matter  100000 non-null  float64\n",
      " 5   Soil_pH              100000 non-null  float64\n",
      " 6   Soil_Texture         100000 non-null  object \n",
      " 7   Temperature          100000 non-null  float64\n",
      " 8   Previous_Yield       100000 non-null  float64\n",
      " 9   Crop_Yield_Score     100000 non-null  float64\n",
      "dtypes: float64(8), object(2)\n",
      "memory usage: 7.6+ MB\n"
     ]
    }
   ],
   "source": [
    "df.info()"
   ],
   "metadata": {
    "collapsed": false
   }
  },
  {
   "cell_type": "code",
   "execution_count": 78,
   "outputs": [],
   "source": [
    "import pandas as pd\n",
    "\n",
    "# Assuming your original DataFrame is called `df`\n",
    "df = df[['Crop_Type', 'Soil_Nitrogen', 'Soil_Phosphorus', 'Soil_Potassium', 'Soil_Organic_Matter',\n",
    "         'Soil_pH', 'Soil_Texture', 'Temperature', 'Previous_Yield', 'Crop_Yield_Score']]\n"
   ],
   "metadata": {
    "collapsed": false
   }
  },
  {
   "cell_type": "code",
   "execution_count": 79,
   "outputs": [
    {
     "data": {
      "text/plain": "         Crop_Type  Soil_Nitrogen  Soil_Phosphorus  Soil_Potassium  \\\n0      Cauliflower       2.053056         1.473301        3.187519   \n1          Soybean       2.634906         1.356504        3.939635   \n2           Cotton       4.880676         3.896166        3.169223   \n3             Okra       2.786321         1.609914        4.471937   \n4           Radish       4.596442         3.127395        4.750664   \n...            ...            ...              ...             ...   \n99995     Chickpea       1.164496         4.717827        3.335996   \n99996       Cotton       1.454075         2.233300        2.888208   \n99997   Green gram       1.494998         1.514822        1.769640   \n99998       Cotton       2.905357         1.574603        2.548715   \n99999      Brinjal       2.994516         4.412364        0.957557   \n\n       Soil_Organic_Matter   Soil_pH Soil_Texture  Temperature  \\\n0                 4.340257  7.266762        loamy    26.150591   \n1                 4.655163  7.799725         clay    12.095563   \n2                 6.484767  8.448874         clay    25.268566   \n3                 3.959575  7.262119        loamy    18.417722   \n4                 9.178213  6.274524         clay    26.754192   \n...                    ...       ...          ...          ...   \n99995             3.428062  7.912112        loamy    24.368936   \n99996             5.424269  4.912756        sandy    20.475152   \n99997             7.298952  7.784303        loamy    21.000312   \n99998             6.480717  7.956188        loamy    22.204080   \n99999             6.328217  7.931446        sandy    33.899859   \n\n       Previous_Yield  Crop_Yield_Score  \n0            6.720131          4.413326  \n1            2.185275          3.750298  \n2            5.804210          5.714713  \n3            8.515757          4.527349  \n4            5.496254          6.341429  \n...               ...               ...  \n99995        1.423280          4.314498  \n99996        8.310557          4.132022  \n99997        5.131325          4.053636  \n99998        1.969238          4.336157  \n99999        5.521021          5.349745  \n\n[100000 rows x 10 columns]",
      "text/html": "<div>\n<style scoped>\n    .dataframe tbody tr th:only-of-type {\n        vertical-align: middle;\n    }\n\n    .dataframe tbody tr th {\n        vertical-align: top;\n    }\n\n    .dataframe thead th {\n        text-align: right;\n    }\n</style>\n<table border=\"1\" class=\"dataframe\">\n  <thead>\n    <tr style=\"text-align: right;\">\n      <th></th>\n      <th>Crop_Type</th>\n      <th>Soil_Nitrogen</th>\n      <th>Soil_Phosphorus</th>\n      <th>Soil_Potassium</th>\n      <th>Soil_Organic_Matter</th>\n      <th>Soil_pH</th>\n      <th>Soil_Texture</th>\n      <th>Temperature</th>\n      <th>Previous_Yield</th>\n      <th>Crop_Yield_Score</th>\n    </tr>\n  </thead>\n  <tbody>\n    <tr>\n      <th>0</th>\n      <td>Cauliflower</td>\n      <td>2.053056</td>\n      <td>1.473301</td>\n      <td>3.187519</td>\n      <td>4.340257</td>\n      <td>7.266762</td>\n      <td>loamy</td>\n      <td>26.150591</td>\n      <td>6.720131</td>\n      <td>4.413326</td>\n    </tr>\n    <tr>\n      <th>1</th>\n      <td>Soybean</td>\n      <td>2.634906</td>\n      <td>1.356504</td>\n      <td>3.939635</td>\n      <td>4.655163</td>\n      <td>7.799725</td>\n      <td>clay</td>\n      <td>12.095563</td>\n      <td>2.185275</td>\n      <td>3.750298</td>\n    </tr>\n    <tr>\n      <th>2</th>\n      <td>Cotton</td>\n      <td>4.880676</td>\n      <td>3.896166</td>\n      <td>3.169223</td>\n      <td>6.484767</td>\n      <td>8.448874</td>\n      <td>clay</td>\n      <td>25.268566</td>\n      <td>5.804210</td>\n      <td>5.714713</td>\n    </tr>\n    <tr>\n      <th>3</th>\n      <td>Okra</td>\n      <td>2.786321</td>\n      <td>1.609914</td>\n      <td>4.471937</td>\n      <td>3.959575</td>\n      <td>7.262119</td>\n      <td>loamy</td>\n      <td>18.417722</td>\n      <td>8.515757</td>\n      <td>4.527349</td>\n    </tr>\n    <tr>\n      <th>4</th>\n      <td>Radish</td>\n      <td>4.596442</td>\n      <td>3.127395</td>\n      <td>4.750664</td>\n      <td>9.178213</td>\n      <td>6.274524</td>\n      <td>clay</td>\n      <td>26.754192</td>\n      <td>5.496254</td>\n      <td>6.341429</td>\n    </tr>\n    <tr>\n      <th>...</th>\n      <td>...</td>\n      <td>...</td>\n      <td>...</td>\n      <td>...</td>\n      <td>...</td>\n      <td>...</td>\n      <td>...</td>\n      <td>...</td>\n      <td>...</td>\n      <td>...</td>\n    </tr>\n    <tr>\n      <th>99995</th>\n      <td>Chickpea</td>\n      <td>1.164496</td>\n      <td>4.717827</td>\n      <td>3.335996</td>\n      <td>3.428062</td>\n      <td>7.912112</td>\n      <td>loamy</td>\n      <td>24.368936</td>\n      <td>1.423280</td>\n      <td>4.314498</td>\n    </tr>\n    <tr>\n      <th>99996</th>\n      <td>Cotton</td>\n      <td>1.454075</td>\n      <td>2.233300</td>\n      <td>2.888208</td>\n      <td>5.424269</td>\n      <td>4.912756</td>\n      <td>sandy</td>\n      <td>20.475152</td>\n      <td>8.310557</td>\n      <td>4.132022</td>\n    </tr>\n    <tr>\n      <th>99997</th>\n      <td>Green gram</td>\n      <td>1.494998</td>\n      <td>1.514822</td>\n      <td>1.769640</td>\n      <td>7.298952</td>\n      <td>7.784303</td>\n      <td>loamy</td>\n      <td>21.000312</td>\n      <td>5.131325</td>\n      <td>4.053636</td>\n    </tr>\n    <tr>\n      <th>99998</th>\n      <td>Cotton</td>\n      <td>2.905357</td>\n      <td>1.574603</td>\n      <td>2.548715</td>\n      <td>6.480717</td>\n      <td>7.956188</td>\n      <td>loamy</td>\n      <td>22.204080</td>\n      <td>1.969238</td>\n      <td>4.336157</td>\n    </tr>\n    <tr>\n      <th>99999</th>\n      <td>Brinjal</td>\n      <td>2.994516</td>\n      <td>4.412364</td>\n      <td>0.957557</td>\n      <td>6.328217</td>\n      <td>7.931446</td>\n      <td>sandy</td>\n      <td>33.899859</td>\n      <td>5.521021</td>\n      <td>5.349745</td>\n    </tr>\n  </tbody>\n</table>\n<p>100000 rows × 10 columns</p>\n</div>"
     },
     "execution_count": 79,
     "metadata": {},
     "output_type": "execute_result"
    }
   ],
   "source": [
    "df"
   ],
   "metadata": {
    "collapsed": false
   }
  },
  {
   "cell_type": "code",
   "execution_count": 80,
   "outputs": [],
   "source": [
    "df['Soil_Texture'] = LabelEncoder().fit_transform(df['Soil_Texture'])\n",
    "df['Crop_Type'] = LabelEncoder().fit_transform(df['Crop_Type'])"
   ],
   "metadata": {
    "collapsed": false
   }
  },
  {
   "cell_type": "code",
   "execution_count": 83,
   "outputs": [],
   "source": [
    "X = df.drop('Crop_Yield_Score', axis=1)\n",
    "y = df['Crop_Yield_Score']\n",
    "\n",
    "# Split the data (using a single sample is not ideal; in practice, use a larger dataset)\n",
    "X_train, X_test, y_train, y_test = train_test_split(X, y, test_size=0.2, random_state=42)"
   ],
   "metadata": {
    "collapsed": false
   }
  },
  {
   "cell_type": "code",
   "execution_count": 84,
   "outputs": [
    {
     "data": {
      "text/plain": "       Crop_Type  Soil_Nitrogen  Soil_Phosphorus  Soil_Potassium  \\\n0              6       2.053056         1.473301        3.187519   \n1             25       2.634906         1.356504        3.939635   \n2              9       4.880676         3.896166        3.169223   \n3             18       2.786321         1.609914        4.471937   \n4             23       4.596442         3.127395        4.750664   \n...          ...            ...              ...             ...   \n99995          7       1.164496         4.717827        3.335996   \n99996          9       1.454075         2.233300        2.888208   \n99997         12       1.494998         1.514822        1.769640   \n99998          9       2.905357         1.574603        2.548715   \n99999          2       2.994516         4.412364        0.957557   \n\n       Soil_Organic_Matter   Soil_pH  Soil_Texture  Temperature  \\\n0                 4.340257  7.266762             1    26.150591   \n1                 4.655163  7.799725             0    12.095563   \n2                 6.484767  8.448874             0    25.268566   \n3                 3.959575  7.262119             1    18.417722   \n4                 9.178213  6.274524             0    26.754192   \n...                    ...       ...           ...          ...   \n99995             3.428062  7.912112             1    24.368936   \n99996             5.424269  4.912756             2    20.475152   \n99997             7.298952  7.784303             1    21.000312   \n99998             6.480717  7.956188             1    22.204080   \n99999             6.328217  7.931446             2    33.899859   \n\n       Previous_Yield  \n0            6.720131  \n1            2.185275  \n2            5.804210  \n3            8.515757  \n4            5.496254  \n...               ...  \n99995        1.423280  \n99996        8.310557  \n99997        5.131325  \n99998        1.969238  \n99999        5.521021  \n\n[100000 rows x 9 columns]",
      "text/html": "<div>\n<style scoped>\n    .dataframe tbody tr th:only-of-type {\n        vertical-align: middle;\n    }\n\n    .dataframe tbody tr th {\n        vertical-align: top;\n    }\n\n    .dataframe thead th {\n        text-align: right;\n    }\n</style>\n<table border=\"1\" class=\"dataframe\">\n  <thead>\n    <tr style=\"text-align: right;\">\n      <th></th>\n      <th>Crop_Type</th>\n      <th>Soil_Nitrogen</th>\n      <th>Soil_Phosphorus</th>\n      <th>Soil_Potassium</th>\n      <th>Soil_Organic_Matter</th>\n      <th>Soil_pH</th>\n      <th>Soil_Texture</th>\n      <th>Temperature</th>\n      <th>Previous_Yield</th>\n    </tr>\n  </thead>\n  <tbody>\n    <tr>\n      <th>0</th>\n      <td>6</td>\n      <td>2.053056</td>\n      <td>1.473301</td>\n      <td>3.187519</td>\n      <td>4.340257</td>\n      <td>7.266762</td>\n      <td>1</td>\n      <td>26.150591</td>\n      <td>6.720131</td>\n    </tr>\n    <tr>\n      <th>1</th>\n      <td>25</td>\n      <td>2.634906</td>\n      <td>1.356504</td>\n      <td>3.939635</td>\n      <td>4.655163</td>\n      <td>7.799725</td>\n      <td>0</td>\n      <td>12.095563</td>\n      <td>2.185275</td>\n    </tr>\n    <tr>\n      <th>2</th>\n      <td>9</td>\n      <td>4.880676</td>\n      <td>3.896166</td>\n      <td>3.169223</td>\n      <td>6.484767</td>\n      <td>8.448874</td>\n      <td>0</td>\n      <td>25.268566</td>\n      <td>5.804210</td>\n    </tr>\n    <tr>\n      <th>3</th>\n      <td>18</td>\n      <td>2.786321</td>\n      <td>1.609914</td>\n      <td>4.471937</td>\n      <td>3.959575</td>\n      <td>7.262119</td>\n      <td>1</td>\n      <td>18.417722</td>\n      <td>8.515757</td>\n    </tr>\n    <tr>\n      <th>4</th>\n      <td>23</td>\n      <td>4.596442</td>\n      <td>3.127395</td>\n      <td>4.750664</td>\n      <td>9.178213</td>\n      <td>6.274524</td>\n      <td>0</td>\n      <td>26.754192</td>\n      <td>5.496254</td>\n    </tr>\n    <tr>\n      <th>...</th>\n      <td>...</td>\n      <td>...</td>\n      <td>...</td>\n      <td>...</td>\n      <td>...</td>\n      <td>...</td>\n      <td>...</td>\n      <td>...</td>\n      <td>...</td>\n    </tr>\n    <tr>\n      <th>99995</th>\n      <td>7</td>\n      <td>1.164496</td>\n      <td>4.717827</td>\n      <td>3.335996</td>\n      <td>3.428062</td>\n      <td>7.912112</td>\n      <td>1</td>\n      <td>24.368936</td>\n      <td>1.423280</td>\n    </tr>\n    <tr>\n      <th>99996</th>\n      <td>9</td>\n      <td>1.454075</td>\n      <td>2.233300</td>\n      <td>2.888208</td>\n      <td>5.424269</td>\n      <td>4.912756</td>\n      <td>2</td>\n      <td>20.475152</td>\n      <td>8.310557</td>\n    </tr>\n    <tr>\n      <th>99997</th>\n      <td>12</td>\n      <td>1.494998</td>\n      <td>1.514822</td>\n      <td>1.769640</td>\n      <td>7.298952</td>\n      <td>7.784303</td>\n      <td>1</td>\n      <td>21.000312</td>\n      <td>5.131325</td>\n    </tr>\n    <tr>\n      <th>99998</th>\n      <td>9</td>\n      <td>2.905357</td>\n      <td>1.574603</td>\n      <td>2.548715</td>\n      <td>6.480717</td>\n      <td>7.956188</td>\n      <td>1</td>\n      <td>22.204080</td>\n      <td>1.969238</td>\n    </tr>\n    <tr>\n      <th>99999</th>\n      <td>2</td>\n      <td>2.994516</td>\n      <td>4.412364</td>\n      <td>0.957557</td>\n      <td>6.328217</td>\n      <td>7.931446</td>\n      <td>2</td>\n      <td>33.899859</td>\n      <td>5.521021</td>\n    </tr>\n  </tbody>\n</table>\n<p>100000 rows × 9 columns</p>\n</div>"
     },
     "execution_count": 84,
     "metadata": {},
     "output_type": "execute_result"
    }
   ],
   "source": [
    "X"
   ],
   "metadata": {
    "collapsed": false
   }
  },
  {
   "cell_type": "code",
   "execution_count": 85,
   "outputs": [
    {
     "data": {
      "text/plain": "RandomForestRegressor(random_state=42)",
      "text/html": "<style>#sk-container-id-2 {color: black;}#sk-container-id-2 pre{padding: 0;}#sk-container-id-2 div.sk-toggleable {background-color: white;}#sk-container-id-2 label.sk-toggleable__label {cursor: pointer;display: block;width: 100%;margin-bottom: 0;padding: 0.3em;box-sizing: border-box;text-align: center;}#sk-container-id-2 label.sk-toggleable__label-arrow:before {content: \"▸\";float: left;margin-right: 0.25em;color: #696969;}#sk-container-id-2 label.sk-toggleable__label-arrow:hover:before {color: black;}#sk-container-id-2 div.sk-estimator:hover label.sk-toggleable__label-arrow:before {color: black;}#sk-container-id-2 div.sk-toggleable__content {max-height: 0;max-width: 0;overflow: hidden;text-align: left;background-color: #f0f8ff;}#sk-container-id-2 div.sk-toggleable__content pre {margin: 0.2em;color: black;border-radius: 0.25em;background-color: #f0f8ff;}#sk-container-id-2 input.sk-toggleable__control:checked~div.sk-toggleable__content {max-height: 200px;max-width: 100%;overflow: auto;}#sk-container-id-2 input.sk-toggleable__control:checked~label.sk-toggleable__label-arrow:before {content: \"▾\";}#sk-container-id-2 div.sk-estimator input.sk-toggleable__control:checked~label.sk-toggleable__label {background-color: #d4ebff;}#sk-container-id-2 div.sk-label input.sk-toggleable__control:checked~label.sk-toggleable__label {background-color: #d4ebff;}#sk-container-id-2 input.sk-hidden--visually {border: 0;clip: rect(1px 1px 1px 1px);clip: rect(1px, 1px, 1px, 1px);height: 1px;margin: -1px;overflow: hidden;padding: 0;position: absolute;width: 1px;}#sk-container-id-2 div.sk-estimator {font-family: monospace;background-color: #f0f8ff;border: 1px dotted black;border-radius: 0.25em;box-sizing: border-box;margin-bottom: 0.5em;}#sk-container-id-2 div.sk-estimator:hover {background-color: #d4ebff;}#sk-container-id-2 div.sk-parallel-item::after {content: \"\";width: 100%;border-bottom: 1px solid gray;flex-grow: 1;}#sk-container-id-2 div.sk-label:hover label.sk-toggleable__label {background-color: #d4ebff;}#sk-container-id-2 div.sk-serial::before {content: \"\";position: absolute;border-left: 1px solid gray;box-sizing: border-box;top: 0;bottom: 0;left: 50%;z-index: 0;}#sk-container-id-2 div.sk-serial {display: flex;flex-direction: column;align-items: center;background-color: white;padding-right: 0.2em;padding-left: 0.2em;position: relative;}#sk-container-id-2 div.sk-item {position: relative;z-index: 1;}#sk-container-id-2 div.sk-parallel {display: flex;align-items: stretch;justify-content: center;background-color: white;position: relative;}#sk-container-id-2 div.sk-item::before, #sk-container-id-2 div.sk-parallel-item::before {content: \"\";position: absolute;border-left: 1px solid gray;box-sizing: border-box;top: 0;bottom: 0;left: 50%;z-index: -1;}#sk-container-id-2 div.sk-parallel-item {display: flex;flex-direction: column;z-index: 1;position: relative;background-color: white;}#sk-container-id-2 div.sk-parallel-item:first-child::after {align-self: flex-end;width: 50%;}#sk-container-id-2 div.sk-parallel-item:last-child::after {align-self: flex-start;width: 50%;}#sk-container-id-2 div.sk-parallel-item:only-child::after {width: 0;}#sk-container-id-2 div.sk-dashed-wrapped {border: 1px dashed gray;margin: 0 0.4em 0.5em 0.4em;box-sizing: border-box;padding-bottom: 0.4em;background-color: white;}#sk-container-id-2 div.sk-label label {font-family: monospace;font-weight: bold;display: inline-block;line-height: 1.2em;}#sk-container-id-2 div.sk-label-container {text-align: center;}#sk-container-id-2 div.sk-container {/* jupyter's `normalize.less` sets `[hidden] { display: none; }` but bootstrap.min.css set `[hidden] { display: none !important; }` so we also need the `!important` here to be able to override the default hidden behavior on the sphinx rendered scikit-learn.org. See: https://github.com/scikit-learn/scikit-learn/issues/21755 */display: inline-block !important;position: relative;}#sk-container-id-2 div.sk-text-repr-fallback {display: none;}</style><div id=\"sk-container-id-2\" class=\"sk-top-container\"><div class=\"sk-text-repr-fallback\"><pre>RandomForestRegressor(random_state=42)</pre><b>In a Jupyter environment, please rerun this cell to show the HTML representation or trust the notebook. <br />On GitHub, the HTML representation is unable to render, please try loading this page with nbviewer.org.</b></div><div class=\"sk-container\" hidden><div class=\"sk-item\"><div class=\"sk-estimator sk-toggleable\"><input class=\"sk-toggleable__control sk-hidden--visually\" id=\"sk-estimator-id-2\" type=\"checkbox\" checked><label for=\"sk-estimator-id-2\" class=\"sk-toggleable__label sk-toggleable__label-arrow\">RandomForestRegressor</label><div class=\"sk-toggleable__content\"><pre>RandomForestRegressor(random_state=42)</pre></div></div></div></div></div>"
     },
     "execution_count": 82,
     "metadata": {},
     "output_type": "execute_result"
    },
    {
     "data": {
      "text/plain": "RandomForestRegressor(random_state=42)",
      "text/html": "<style>#sk-container-id-3 {color: black;}#sk-container-id-3 pre{padding: 0;}#sk-container-id-3 div.sk-toggleable {background-color: white;}#sk-container-id-3 label.sk-toggleable__label {cursor: pointer;display: block;width: 100%;margin-bottom: 0;padding: 0.3em;box-sizing: border-box;text-align: center;}#sk-container-id-3 label.sk-toggleable__label-arrow:before {content: \"▸\";float: left;margin-right: 0.25em;color: #696969;}#sk-container-id-3 label.sk-toggleable__label-arrow:hover:before {color: black;}#sk-container-id-3 div.sk-estimator:hover label.sk-toggleable__label-arrow:before {color: black;}#sk-container-id-3 div.sk-toggleable__content {max-height: 0;max-width: 0;overflow: hidden;text-align: left;background-color: #f0f8ff;}#sk-container-id-3 div.sk-toggleable__content pre {margin: 0.2em;color: black;border-radius: 0.25em;background-color: #f0f8ff;}#sk-container-id-3 input.sk-toggleable__control:checked~div.sk-toggleable__content {max-height: 200px;max-width: 100%;overflow: auto;}#sk-container-id-3 input.sk-toggleable__control:checked~label.sk-toggleable__label-arrow:before {content: \"▾\";}#sk-container-id-3 div.sk-estimator input.sk-toggleable__control:checked~label.sk-toggleable__label {background-color: #d4ebff;}#sk-container-id-3 div.sk-label input.sk-toggleable__control:checked~label.sk-toggleable__label {background-color: #d4ebff;}#sk-container-id-3 input.sk-hidden--visually {border: 0;clip: rect(1px 1px 1px 1px);clip: rect(1px, 1px, 1px, 1px);height: 1px;margin: -1px;overflow: hidden;padding: 0;position: absolute;width: 1px;}#sk-container-id-3 div.sk-estimator {font-family: monospace;background-color: #f0f8ff;border: 1px dotted black;border-radius: 0.25em;box-sizing: border-box;margin-bottom: 0.5em;}#sk-container-id-3 div.sk-estimator:hover {background-color: #d4ebff;}#sk-container-id-3 div.sk-parallel-item::after {content: \"\";width: 100%;border-bottom: 1px solid gray;flex-grow: 1;}#sk-container-id-3 div.sk-label:hover label.sk-toggleable__label {background-color: #d4ebff;}#sk-container-id-3 div.sk-serial::before {content: \"\";position: absolute;border-left: 1px solid gray;box-sizing: border-box;top: 0;bottom: 0;left: 50%;z-index: 0;}#sk-container-id-3 div.sk-serial {display: flex;flex-direction: column;align-items: center;background-color: white;padding-right: 0.2em;padding-left: 0.2em;position: relative;}#sk-container-id-3 div.sk-item {position: relative;z-index: 1;}#sk-container-id-3 div.sk-parallel {display: flex;align-items: stretch;justify-content: center;background-color: white;position: relative;}#sk-container-id-3 div.sk-item::before, #sk-container-id-3 div.sk-parallel-item::before {content: \"\";position: absolute;border-left: 1px solid gray;box-sizing: border-box;top: 0;bottom: 0;left: 50%;z-index: -1;}#sk-container-id-3 div.sk-parallel-item {display: flex;flex-direction: column;z-index: 1;position: relative;background-color: white;}#sk-container-id-3 div.sk-parallel-item:first-child::after {align-self: flex-end;width: 50%;}#sk-container-id-3 div.sk-parallel-item:last-child::after {align-self: flex-start;width: 50%;}#sk-container-id-3 div.sk-parallel-item:only-child::after {width: 0;}#sk-container-id-3 div.sk-dashed-wrapped {border: 1px dashed gray;margin: 0 0.4em 0.5em 0.4em;box-sizing: border-box;padding-bottom: 0.4em;background-color: white;}#sk-container-id-3 div.sk-label label {font-family: monospace;font-weight: bold;display: inline-block;line-height: 1.2em;}#sk-container-id-3 div.sk-label-container {text-align: center;}#sk-container-id-3 div.sk-container {/* jupyter's `normalize.less` sets `[hidden] { display: none; }` but bootstrap.min.css set `[hidden] { display: none !important; }` so we also need the `!important` here to be able to override the default hidden behavior on the sphinx rendered scikit-learn.org. See: https://github.com/scikit-learn/scikit-learn/issues/21755 */display: inline-block !important;position: relative;}#sk-container-id-3 div.sk-text-repr-fallback {display: none;}</style><div id=\"sk-container-id-3\" class=\"sk-top-container\"><div class=\"sk-text-repr-fallback\"><pre>RandomForestRegressor(random_state=42)</pre><b>In a Jupyter environment, please rerun this cell to show the HTML representation or trust the notebook. <br />On GitHub, the HTML representation is unable to render, please try loading this page with nbviewer.org.</b></div><div class=\"sk-container\" hidden><div class=\"sk-item\"><div class=\"sk-estimator sk-toggleable\"><input class=\"sk-toggleable__control sk-hidden--visually\" id=\"sk-estimator-id-3\" type=\"checkbox\" checked><label for=\"sk-estimator-id-3\" class=\"sk-toggleable__label sk-toggleable__label-arrow\">RandomForestRegressor</label><div class=\"sk-toggleable__content\"><pre>RandomForestRegressor(random_state=42)</pre></div></div></div></div></div>"
     },
     "execution_count": 85,
     "metadata": {},
     "output_type": "execute_result"
    }
   ],
   "source": [
    "model = RandomForestRegressor(n_estimators=100, random_state=42)\n",
    "model.fit(X_train, y_train)"
   ],
   "metadata": {
    "collapsed": false
   }
  },
  {
   "cell_type": "code",
   "execution_count": 86,
   "outputs": [
    {
     "name": "stdout",
     "output_type": "stream",
     "text": [
      "Mean Squared Error: 0.01076679423778461\n",
      "R^2 Score: 0.9821187383793955\n"
     ]
    }
   ],
   "source": [
    "y_pred = model.predict(X_test)\n",
    "print(f\"Mean Squared Error: {mean_squared_error(y_test, y_pred)}\")\n",
    "print(f\"R^2 Score: {r2_score(y_test, y_pred)}\")\n"
   ],
   "metadata": {
    "collapsed": false
   }
  },
  {
   "cell_type": "code",
   "execution_count": 87,
   "outputs": [
    {
     "data": {
      "text/plain": "['Crop_yeild.pkl']"
     },
     "execution_count": 87,
     "metadata": {},
     "output_type": "execute_result"
    }
   ],
   "source": [
    "import joblib\n",
    "\n",
    "# Save the trained model\n",
    "joblib.dump(model, 'Crop_yeild.pkl')"
   ],
   "metadata": {
    "collapsed": false
   }
  },
  {
   "cell_type": "code",
   "execution_count": 88,
   "outputs": [],
   "source": [
    "model = joblib.load('Crop_yeild.pkl')"
   ],
   "metadata": {
    "collapsed": false
   }
  },
  {
   "cell_type": "code",
   "execution_count": 101,
   "outputs": [],
   "source": [
    "new_data = {\n",
    "    'Crop_Type': [1],  # Example value for 'Tomato'\n",
    "    'Soil_Nitrogen': [-],\n",
    "    'Soil_Phosphorus': [0.60],\n",
    "    'Soil_Potassium': [0.89],\n",
    "    'Soil_Organic_Matter': [2.5],\n",
    "    'Soil_pH': [7.0],\n",
    "    'Soil_Texture': [1],\n",
    "    'Temperature': [22.0],\n",
    "# Example value for 'Loamy'\n",
    "    'Previous_Yield': [85.0],\n",
    "}"
   ],
   "metadata": {
    "collapsed": false
   }
  },
  {
   "cell_type": "code",
   "execution_count": 102,
   "outputs": [
    {
     "name": "stdout",
     "output_type": "stream",
     "text": [
      "Predicted Estimated Yield: 3.0154406642015545\n"
     ]
    }
   ],
   "source": [
    "# Convert to DataFrame\n",
    "new_df = pd.DataFrame(new_data)\n",
    "\n",
    "# Predict using the loaded model\n",
    "predicted_yield = model.predict(new_df)\n",
    "print(f\"Predicted Estimated Yield: {predicted_yield[0]}\")"
   ],
   "metadata": {
    "collapsed": false
   }
  },
  {
   "cell_type": "code",
   "execution_count": null,
   "outputs": [],
   "source": [],
   "metadata": {
    "collapsed": false
   }
  }
 ],
 "metadata": {
  "kernelspec": {
   "display_name": "Python 3",
   "language": "python",
   "name": "python3"
  },
  "language_info": {
   "codemirror_mode": {
    "name": "ipython",
    "version": 2
   },
   "file_extension": ".py",
   "mimetype": "text/x-python",
   "name": "python",
   "nbconvert_exporter": "python",
   "pygments_lexer": "ipython2",
   "version": "2.7.6"
  }
 },
 "nbformat": 4,
 "nbformat_minor": 0
}
