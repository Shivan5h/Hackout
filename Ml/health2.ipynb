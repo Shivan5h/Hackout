{
 "cells": [
  {
   "cell_type": "code",
   "execution_count": 40,
   "metadata": {
    "collapsed": true
   },
   "outputs": [],
   "source": [
    "import pandas as pd\n",
    "import numpy as np\n",
    "from sklearn.model_selection import train_test_split\n",
    "from sklearn.preprocessing import LabelEncoder, StandardScaler\n",
    "from sklearn.ensemble import RandomForestRegressor, RandomForestClassifier\n",
    "from sklearn.metrics import mean_squared_error, classification_report"
   ]
  },
  {
   "cell_type": "code",
   "execution_count": 41,
   "outputs": [],
   "source": [
    "df = pd.read_csv('soil_health_data.csv')"
   ],
   "metadata": {
    "collapsed": false
   }
  },
  {
   "cell_type": "code",
   "execution_count": 42,
   "outputs": [
    {
     "name": "stdout",
     "output_type": "stream",
     "text": [
      "     Crop_Type  Soil_Nitrogen  Soil_Phosphorus  Soil_Potassium  \\\n",
      "0  Cauliflower       2.053056         1.473301        3.187519   \n",
      "1      Soybean       2.634906         1.356504        3.939635   \n",
      "2       Cotton       4.880676         3.896166        3.169223   \n",
      "3         Okra       2.786321         1.609914        4.471937   \n",
      "4       Radish       4.596442         3.127395        4.750664   \n",
      "\n",
      "   Soil_Organic_Matter   Soil_pH Soil_Texture  Temperature  Previous_Yield  \\\n",
      "0             4.340257  7.266762        loamy    26.150591        6.720131   \n",
      "1             4.655163  7.799725         clay    12.095563        2.185275   \n",
      "2             6.484767  8.448874         clay    25.268566        5.804210   \n",
      "3             3.959575  7.262119        loamy    18.417722        8.515757   \n",
      "4             9.178213  6.274524         clay    26.754192        5.496254   \n",
      "\n",
      "  Recommended_Soil_Adjustments  Adequate_Soil_Composition_Values  \\\n",
      "0                     change_P                          1.808942   \n",
      "1                     change_K                         -0.338018   \n",
      "2                     change_P                         -0.454567   \n",
      "3                    change_pH                          0.064832   \n",
      "4                     change_P                         -1.674590   \n",
      "\n",
      "   Soil_Health_Score  \n",
      "0           3.089456  \n",
      "1           3.400760  \n",
      "2           4.729347  \n",
      "3           3.517970  \n",
      "4           5.417639  \n"
     ]
    }
   ],
   "source": [
    "import pandas as pd\n",
    "df = df.rename(columns={\n",
    "    'pH_Level': 'Soil_pH',\n",
    "    'Nitrogen_N': 'Soil_Nitrogen',\n",
    "    'Phosphorus_P': 'Soil_Phosphorus',\n",
    "    'Potassium_K': 'Soil_Potassium',\n",
    "    'Organic_Matter': 'Soil_Organic_Matter',\n",
    "    'Soil_Moisture_Content': 'Soil_Moisture',\n",
    "    'Soil_Temperature': 'Temperature'\n",
    "})\n",
    "# Check the updated DataFrame\n",
    "print(df.head())"
   ],
   "metadata": {
    "collapsed": false
   }
  },
  {
   "cell_type": "code",
   "execution_count": 43,
   "outputs": [
    {
     "data": {
      "text/plain": "         Crop_Type  Soil_Nitrogen  Soil_Phosphorus  Soil_Potassium  \\\n0      Cauliflower       2.053056         1.473301        3.187519   \n1          Soybean       2.634906         1.356504        3.939635   \n2           Cotton       4.880676         3.896166        3.169223   \n3             Okra       2.786321         1.609914        4.471937   \n4           Radish       4.596442         3.127395        4.750664   \n...            ...            ...              ...             ...   \n99995     Chickpea       1.164496         4.717827        3.335996   \n99996       Cotton       1.454075         2.233300        2.888208   \n99997   Green gram       1.494998         1.514822        1.769640   \n99998       Cotton       2.905357         1.574603        2.548715   \n99999      Brinjal       2.994516         4.412364        0.957557   \n\n       Soil_Organic_Matter   Soil_pH Soil_Texture  Temperature  \\\n0                 4.340257  7.266762        loamy    26.150591   \n1                 4.655163  7.799725         clay    12.095563   \n2                 6.484767  8.448874         clay    25.268566   \n3                 3.959575  7.262119        loamy    18.417722   \n4                 9.178213  6.274524         clay    26.754192   \n...                    ...       ...          ...          ...   \n99995             3.428062  7.912112        loamy    24.368936   \n99996             5.424269  4.912756        sandy    20.475152   \n99997             7.298952  7.784303        loamy    21.000312   \n99998             6.480717  7.956188        loamy    22.204080   \n99999             6.328217  7.931446        sandy    33.899859   \n\n       Previous_Yield Recommended_Soil_Adjustments  \\\n0            6.720131                     change_P   \n1            2.185275                     change_K   \n2            5.804210                     change_P   \n3            8.515757                    change_pH   \n4            5.496254                     change_P   \n...               ...                          ...   \n99995        1.423280                     change_P   \n99996        8.310557                     change_P   \n99997        5.131325                     change_K   \n99998        1.969238                     change_N   \n99999        5.521021                     change_K   \n\n       Adequate_Soil_Composition_Values  Soil_Health_Score  \n0                              1.808942           3.089456  \n1                             -0.338018           3.400760  \n2                             -0.454567           4.729347  \n3                              0.064832           3.517970  \n4                             -1.674590           5.417639  \n...                                 ...                ...  \n99995                          0.094791           3.254515  \n99996                         -0.432144           3.036653  \n99997                          1.973696           3.186752  \n99998                         -0.134460           3.596795  \n99999                          1.815969           3.844838  \n\n[100000 rows x 12 columns]",
      "text/html": "<div>\n<style scoped>\n    .dataframe tbody tr th:only-of-type {\n        vertical-align: middle;\n    }\n\n    .dataframe tbody tr th {\n        vertical-align: top;\n    }\n\n    .dataframe thead th {\n        text-align: right;\n    }\n</style>\n<table border=\"1\" class=\"dataframe\">\n  <thead>\n    <tr style=\"text-align: right;\">\n      <th></th>\n      <th>Crop_Type</th>\n      <th>Soil_Nitrogen</th>\n      <th>Soil_Phosphorus</th>\n      <th>Soil_Potassium</th>\n      <th>Soil_Organic_Matter</th>\n      <th>Soil_pH</th>\n      <th>Soil_Texture</th>\n      <th>Temperature</th>\n      <th>Previous_Yield</th>\n      <th>Recommended_Soil_Adjustments</th>\n      <th>Adequate_Soil_Composition_Values</th>\n      <th>Soil_Health_Score</th>\n    </tr>\n  </thead>\n  <tbody>\n    <tr>\n      <th>0</th>\n      <td>Cauliflower</td>\n      <td>2.053056</td>\n      <td>1.473301</td>\n      <td>3.187519</td>\n      <td>4.340257</td>\n      <td>7.266762</td>\n      <td>loamy</td>\n      <td>26.150591</td>\n      <td>6.720131</td>\n      <td>change_P</td>\n      <td>1.808942</td>\n      <td>3.089456</td>\n    </tr>\n    <tr>\n      <th>1</th>\n      <td>Soybean</td>\n      <td>2.634906</td>\n      <td>1.356504</td>\n      <td>3.939635</td>\n      <td>4.655163</td>\n      <td>7.799725</td>\n      <td>clay</td>\n      <td>12.095563</td>\n      <td>2.185275</td>\n      <td>change_K</td>\n      <td>-0.338018</td>\n      <td>3.400760</td>\n    </tr>\n    <tr>\n      <th>2</th>\n      <td>Cotton</td>\n      <td>4.880676</td>\n      <td>3.896166</td>\n      <td>3.169223</td>\n      <td>6.484767</td>\n      <td>8.448874</td>\n      <td>clay</td>\n      <td>25.268566</td>\n      <td>5.804210</td>\n      <td>change_P</td>\n      <td>-0.454567</td>\n      <td>4.729347</td>\n    </tr>\n    <tr>\n      <th>3</th>\n      <td>Okra</td>\n      <td>2.786321</td>\n      <td>1.609914</td>\n      <td>4.471937</td>\n      <td>3.959575</td>\n      <td>7.262119</td>\n      <td>loamy</td>\n      <td>18.417722</td>\n      <td>8.515757</td>\n      <td>change_pH</td>\n      <td>0.064832</td>\n      <td>3.517970</td>\n    </tr>\n    <tr>\n      <th>4</th>\n      <td>Radish</td>\n      <td>4.596442</td>\n      <td>3.127395</td>\n      <td>4.750664</td>\n      <td>9.178213</td>\n      <td>6.274524</td>\n      <td>clay</td>\n      <td>26.754192</td>\n      <td>5.496254</td>\n      <td>change_P</td>\n      <td>-1.674590</td>\n      <td>5.417639</td>\n    </tr>\n    <tr>\n      <th>...</th>\n      <td>...</td>\n      <td>...</td>\n      <td>...</td>\n      <td>...</td>\n      <td>...</td>\n      <td>...</td>\n      <td>...</td>\n      <td>...</td>\n      <td>...</td>\n      <td>...</td>\n      <td>...</td>\n      <td>...</td>\n    </tr>\n    <tr>\n      <th>99995</th>\n      <td>Chickpea</td>\n      <td>1.164496</td>\n      <td>4.717827</td>\n      <td>3.335996</td>\n      <td>3.428062</td>\n      <td>7.912112</td>\n      <td>loamy</td>\n      <td>24.368936</td>\n      <td>1.423280</td>\n      <td>change_P</td>\n      <td>0.094791</td>\n      <td>3.254515</td>\n    </tr>\n    <tr>\n      <th>99996</th>\n      <td>Cotton</td>\n      <td>1.454075</td>\n      <td>2.233300</td>\n      <td>2.888208</td>\n      <td>5.424269</td>\n      <td>4.912756</td>\n      <td>sandy</td>\n      <td>20.475152</td>\n      <td>8.310557</td>\n      <td>change_P</td>\n      <td>-0.432144</td>\n      <td>3.036653</td>\n    </tr>\n    <tr>\n      <th>99997</th>\n      <td>Green gram</td>\n      <td>1.494998</td>\n      <td>1.514822</td>\n      <td>1.769640</td>\n      <td>7.298952</td>\n      <td>7.784303</td>\n      <td>loamy</td>\n      <td>21.000312</td>\n      <td>5.131325</td>\n      <td>change_K</td>\n      <td>1.973696</td>\n      <td>3.186752</td>\n    </tr>\n    <tr>\n      <th>99998</th>\n      <td>Cotton</td>\n      <td>2.905357</td>\n      <td>1.574603</td>\n      <td>2.548715</td>\n      <td>6.480717</td>\n      <td>7.956188</td>\n      <td>loamy</td>\n      <td>22.204080</td>\n      <td>1.969238</td>\n      <td>change_N</td>\n      <td>-0.134460</td>\n      <td>3.596795</td>\n    </tr>\n    <tr>\n      <th>99999</th>\n      <td>Brinjal</td>\n      <td>2.994516</td>\n      <td>4.412364</td>\n      <td>0.957557</td>\n      <td>6.328217</td>\n      <td>7.931446</td>\n      <td>sandy</td>\n      <td>33.899859</td>\n      <td>5.521021</td>\n      <td>change_K</td>\n      <td>1.815969</td>\n      <td>3.844838</td>\n    </tr>\n  </tbody>\n</table>\n<p>100000 rows × 12 columns</p>\n</div>"
     },
     "execution_count": 43,
     "metadata": {},
     "output_type": "execute_result"
    }
   ],
   "source": [
    "df"
   ],
   "metadata": {
    "collapsed": false
   }
  },
  {
   "cell_type": "code",
   "execution_count": 44,
   "outputs": [],
   "source": [
    "df.info()"
   ],
   "metadata": {
    "collapsed": false
   }
  },
  {
   "cell_type": "code",
   "execution_count": 45,
   "outputs": [
    {
     "data": {
      "text/plain": "         Crop_Type  Soil_Nitrogen  Soil_Phosphorus  Soil_Potassium  \\\n0      Cauliflower       2.053056         1.473301        3.187519   \n1          Soybean       2.634906         1.356504        3.939635   \n2           Cotton       4.880676         3.896166        3.169223   \n3             Okra       2.786321         1.609914        4.471937   \n4           Radish       4.596442         3.127395        4.750664   \n...            ...            ...              ...             ...   \n99995     Chickpea       1.164496         4.717827        3.335996   \n99996       Cotton       1.454075         2.233300        2.888208   \n99997   Green gram       1.494998         1.514822        1.769640   \n99998       Cotton       2.905357         1.574603        2.548715   \n99999      Brinjal       2.994516         4.412364        0.957557   \n\n       Soil_Organic_Matter   Soil_pH Soil_Texture  Temperature  \\\n0                 4.340257  7.266762        loamy    26.150591   \n1                 4.655163  7.799725         clay    12.095563   \n2                 6.484767  8.448874         clay    25.268566   \n3                 3.959575  7.262119        loamy    18.417722   \n4                 9.178213  6.274524         clay    26.754192   \n...                    ...       ...          ...          ...   \n99995             3.428062  7.912112        loamy    24.368936   \n99996             5.424269  4.912756        sandy    20.475152   \n99997             7.298952  7.784303        loamy    21.000312   \n99998             6.480717  7.956188        loamy    22.204080   \n99999             6.328217  7.931446        sandy    33.899859   \n\n       Previous_Yield Recommended_Soil_Adjustments  \\\n0            6.720131                     change_P   \n1            2.185275                     change_K   \n2            5.804210                     change_P   \n3            8.515757                    change_pH   \n4            5.496254                     change_P   \n...               ...                          ...   \n99995        1.423280                     change_P   \n99996        8.310557                     change_P   \n99997        5.131325                     change_K   \n99998        1.969238                     change_N   \n99999        5.521021                     change_K   \n\n       Adequate_Soil_Composition_Values  Soil_Health_Score  \n0                              1.808942           3.089456  \n1                             -0.338018           3.400760  \n2                             -0.454567           4.729347  \n3                              0.064832           3.517970  \n4                             -1.674590           5.417639  \n...                                 ...                ...  \n99995                          0.094791           3.254515  \n99996                         -0.432144           3.036653  \n99997                          1.973696           3.186752  \n99998                         -0.134460           3.596795  \n99999                          1.815969           3.844838  \n\n[100000 rows x 12 columns]",
      "text/html": "<div>\n<style scoped>\n    .dataframe tbody tr th:only-of-type {\n        vertical-align: middle;\n    }\n\n    .dataframe tbody tr th {\n        vertical-align: top;\n    }\n\n    .dataframe thead th {\n        text-align: right;\n    }\n</style>\n<table border=\"1\" class=\"dataframe\">\n  <thead>\n    <tr style=\"text-align: right;\">\n      <th></th>\n      <th>Crop_Type</th>\n      <th>Soil_Nitrogen</th>\n      <th>Soil_Phosphorus</th>\n      <th>Soil_Potassium</th>\n      <th>Soil_Organic_Matter</th>\n      <th>Soil_pH</th>\n      <th>Soil_Texture</th>\n      <th>Temperature</th>\n      <th>Previous_Yield</th>\n      <th>Recommended_Soil_Adjustments</th>\n      <th>Adequate_Soil_Composition_Values</th>\n      <th>Soil_Health_Score</th>\n    </tr>\n  </thead>\n  <tbody>\n    <tr>\n      <th>0</th>\n      <td>Cauliflower</td>\n      <td>2.053056</td>\n      <td>1.473301</td>\n      <td>3.187519</td>\n      <td>4.340257</td>\n      <td>7.266762</td>\n      <td>loamy</td>\n      <td>26.150591</td>\n      <td>6.720131</td>\n      <td>change_P</td>\n      <td>1.808942</td>\n      <td>3.089456</td>\n    </tr>\n    <tr>\n      <th>1</th>\n      <td>Soybean</td>\n      <td>2.634906</td>\n      <td>1.356504</td>\n      <td>3.939635</td>\n      <td>4.655163</td>\n      <td>7.799725</td>\n      <td>clay</td>\n      <td>12.095563</td>\n      <td>2.185275</td>\n      <td>change_K</td>\n      <td>-0.338018</td>\n      <td>3.400760</td>\n    </tr>\n    <tr>\n      <th>2</th>\n      <td>Cotton</td>\n      <td>4.880676</td>\n      <td>3.896166</td>\n      <td>3.169223</td>\n      <td>6.484767</td>\n      <td>8.448874</td>\n      <td>clay</td>\n      <td>25.268566</td>\n      <td>5.804210</td>\n      <td>change_P</td>\n      <td>-0.454567</td>\n      <td>4.729347</td>\n    </tr>\n    <tr>\n      <th>3</th>\n      <td>Okra</td>\n      <td>2.786321</td>\n      <td>1.609914</td>\n      <td>4.471937</td>\n      <td>3.959575</td>\n      <td>7.262119</td>\n      <td>loamy</td>\n      <td>18.417722</td>\n      <td>8.515757</td>\n      <td>change_pH</td>\n      <td>0.064832</td>\n      <td>3.517970</td>\n    </tr>\n    <tr>\n      <th>4</th>\n      <td>Radish</td>\n      <td>4.596442</td>\n      <td>3.127395</td>\n      <td>4.750664</td>\n      <td>9.178213</td>\n      <td>6.274524</td>\n      <td>clay</td>\n      <td>26.754192</td>\n      <td>5.496254</td>\n      <td>change_P</td>\n      <td>-1.674590</td>\n      <td>5.417639</td>\n    </tr>\n    <tr>\n      <th>...</th>\n      <td>...</td>\n      <td>...</td>\n      <td>...</td>\n      <td>...</td>\n      <td>...</td>\n      <td>...</td>\n      <td>...</td>\n      <td>...</td>\n      <td>...</td>\n      <td>...</td>\n      <td>...</td>\n      <td>...</td>\n    </tr>\n    <tr>\n      <th>99995</th>\n      <td>Chickpea</td>\n      <td>1.164496</td>\n      <td>4.717827</td>\n      <td>3.335996</td>\n      <td>3.428062</td>\n      <td>7.912112</td>\n      <td>loamy</td>\n      <td>24.368936</td>\n      <td>1.423280</td>\n      <td>change_P</td>\n      <td>0.094791</td>\n      <td>3.254515</td>\n    </tr>\n    <tr>\n      <th>99996</th>\n      <td>Cotton</td>\n      <td>1.454075</td>\n      <td>2.233300</td>\n      <td>2.888208</td>\n      <td>5.424269</td>\n      <td>4.912756</td>\n      <td>sandy</td>\n      <td>20.475152</td>\n      <td>8.310557</td>\n      <td>change_P</td>\n      <td>-0.432144</td>\n      <td>3.036653</td>\n    </tr>\n    <tr>\n      <th>99997</th>\n      <td>Green gram</td>\n      <td>1.494998</td>\n      <td>1.514822</td>\n      <td>1.769640</td>\n      <td>7.298952</td>\n      <td>7.784303</td>\n      <td>loamy</td>\n      <td>21.000312</td>\n      <td>5.131325</td>\n      <td>change_K</td>\n      <td>1.973696</td>\n      <td>3.186752</td>\n    </tr>\n    <tr>\n      <th>99998</th>\n      <td>Cotton</td>\n      <td>2.905357</td>\n      <td>1.574603</td>\n      <td>2.548715</td>\n      <td>6.480717</td>\n      <td>7.956188</td>\n      <td>loamy</td>\n      <td>22.204080</td>\n      <td>1.969238</td>\n      <td>change_N</td>\n      <td>-0.134460</td>\n      <td>3.596795</td>\n    </tr>\n    <tr>\n      <th>99999</th>\n      <td>Brinjal</td>\n      <td>2.994516</td>\n      <td>4.412364</td>\n      <td>0.957557</td>\n      <td>6.328217</td>\n      <td>7.931446</td>\n      <td>sandy</td>\n      <td>33.899859</td>\n      <td>5.521021</td>\n      <td>change_K</td>\n      <td>1.815969</td>\n      <td>3.844838</td>\n    </tr>\n  </tbody>\n</table>\n<p>100000 rows × 12 columns</p>\n</div>"
     },
     "execution_count": 45,
     "metadata": {},
     "output_type": "execute_result"
    }
   ],
   "source": [
    "df = df[['Crop_Type', 'Soil_Nitrogen', 'Soil_Phosphorus', 'Soil_Potassium', 'Soil_Organic_Matter',\n",
    "         'Soil_pH', 'Soil_Texture', 'Temperature','Recommended_Soil_Adjustments','Adequate_Soil_Composition_Values','Soil_Health_Score']]"
   ],
   "metadata": {
    "collapsed": false
   }
  },
  {
   "cell_type": "code",
   "execution_count": 46,
   "outputs": [
    {
     "name": "stdout",
     "output_type": "stream",
     "text": [
      "<class 'pandas.core.frame.DataFrame'>\n",
      "RangeIndex: 100000 entries, 0 to 99999\n",
      "Data columns (total 12 columns):\n",
      " #   Column                            Non-Null Count   Dtype  \n",
      "---  ------                            --------------   -----  \n",
      " 0   Crop_Type                         100000 non-null  object \n",
      " 1   Soil_Nitrogen                     100000 non-null  float64\n",
      " 2   Soil_Phosphorus                   100000 non-null  float64\n",
      " 3   Soil_Potassium                    100000 non-null  float64\n",
      " 4   Soil_Organic_Matter               100000 non-null  float64\n",
      " 5   Soil_pH                           100000 non-null  float64\n",
      " 6   Soil_Texture                      100000 non-null  object \n",
      " 7   Temperature                       100000 non-null  float64\n",
      " 8   Previous_Yield                    100000 non-null  float64\n",
      " 9   Recommended_Soil_Adjustments      100000 non-null  object \n",
      " 10  Adequate_Soil_Composition_Values  100000 non-null  float64\n",
      " 11  Soil_Health_Score                 100000 non-null  float64\n",
      "dtypes: float64(9), object(3)\n",
      "memory usage: 9.2+ MB\n"
     ]
    }
   ],
   "source": [
    "df"
   ],
   "metadata": {
    "collapsed": false
   }
  },
  {
   "cell_type": "code",
   "execution_count": 47,
   "outputs": [],
   "source": [
    "label_encoders = {}\n",
    "categorical_features = ['Soil_Texture','Crop_Type','Recommended_Soil_Adjustments']\n"
   ],
   "metadata": {
    "collapsed": false
   }
  },
  {
   "cell_type": "code",
   "execution_count": 48,
   "outputs": [],
   "source": [
    "for feature in categorical_features:\n",
    "    le = LabelEncoder()\n",
    "    df[feature] = le.fit_transform(df[feature])\n",
    "    label_encoders[feature] = le"
   ],
   "metadata": {
    "collapsed": false
   }
  },
  {
   "cell_type": "code",
   "execution_count": 49,
   "outputs": [],
   "source": [
    "X = df.drop(columns=['Soil_Health_Score', 'Recommended_Soil_Adjustments', 'Adequate_Soil_Composition_Values'])\n",
    "y_health_score = df['Soil_Health_Score']\n",
    "y_recommendations = df['Recommended_Soil_Adjustments']\n",
    "y_composition_values = df['Adequate_Soil_Composition_Values']"
   ],
   "metadata": {
    "collapsed": false
   }
  },
  {
   "cell_type": "code",
   "execution_count": 50,
   "outputs": [],
   "source": [
    "X_train1, X_test1, y_health_score_train, y_health_score_test = train_test_split(\n",
    "    X, y_health_score, test_size=0.2, random_state=42\n",
    ")\n",
    "X_train2, X_test2, y_recommendations_train, y_recommendations_test = train_test_split(\n",
    "    X, y_recommendations, test_size=0.2, random_state=42\n",
    ")\n",
    "X_train3, X_test3, y_composition_values_train, y_composition_values_test = train_test_split(\n",
    "    X, y_composition_values, test_size=0.2, random_state=42\n",
    ")\n",
    "\n"
   ],
   "metadata": {
    "collapsed": false
   }
  },
  {
   "cell_type": "code",
   "execution_count": 50,
   "outputs": [],
   "source": [],
   "metadata": {
    "collapsed": false
   }
  },
  {
   "cell_type": "code",
   "execution_count": 51,
   "outputs": [
    {
     "data": {
      "text/plain": "RandomForestRegressor(random_state=42)",
      "text/html": "<style>#sk-container-id-2 {color: black;}#sk-container-id-2 pre{padding: 0;}#sk-container-id-2 div.sk-toggleable {background-color: white;}#sk-container-id-2 label.sk-toggleable__label {cursor: pointer;display: block;width: 100%;margin-bottom: 0;padding: 0.3em;box-sizing: border-box;text-align: center;}#sk-container-id-2 label.sk-toggleable__label-arrow:before {content: \"▸\";float: left;margin-right: 0.25em;color: #696969;}#sk-container-id-2 label.sk-toggleable__label-arrow:hover:before {color: black;}#sk-container-id-2 div.sk-estimator:hover label.sk-toggleable__label-arrow:before {color: black;}#sk-container-id-2 div.sk-toggleable__content {max-height: 0;max-width: 0;overflow: hidden;text-align: left;background-color: #f0f8ff;}#sk-container-id-2 div.sk-toggleable__content pre {margin: 0.2em;color: black;border-radius: 0.25em;background-color: #f0f8ff;}#sk-container-id-2 input.sk-toggleable__control:checked~div.sk-toggleable__content {max-height: 200px;max-width: 100%;overflow: auto;}#sk-container-id-2 input.sk-toggleable__control:checked~label.sk-toggleable__label-arrow:before {content: \"▾\";}#sk-container-id-2 div.sk-estimator input.sk-toggleable__control:checked~label.sk-toggleable__label {background-color: #d4ebff;}#sk-container-id-2 div.sk-label input.sk-toggleable__control:checked~label.sk-toggleable__label {background-color: #d4ebff;}#sk-container-id-2 input.sk-hidden--visually {border: 0;clip: rect(1px 1px 1px 1px);clip: rect(1px, 1px, 1px, 1px);height: 1px;margin: -1px;overflow: hidden;padding: 0;position: absolute;width: 1px;}#sk-container-id-2 div.sk-estimator {font-family: monospace;background-color: #f0f8ff;border: 1px dotted black;border-radius: 0.25em;box-sizing: border-box;margin-bottom: 0.5em;}#sk-container-id-2 div.sk-estimator:hover {background-color: #d4ebff;}#sk-container-id-2 div.sk-parallel-item::after {content: \"\";width: 100%;border-bottom: 1px solid gray;flex-grow: 1;}#sk-container-id-2 div.sk-label:hover label.sk-toggleable__label {background-color: #d4ebff;}#sk-container-id-2 div.sk-serial::before {content: \"\";position: absolute;border-left: 1px solid gray;box-sizing: border-box;top: 0;bottom: 0;left: 50%;z-index: 0;}#sk-container-id-2 div.sk-serial {display: flex;flex-direction: column;align-items: center;background-color: white;padding-right: 0.2em;padding-left: 0.2em;position: relative;}#sk-container-id-2 div.sk-item {position: relative;z-index: 1;}#sk-container-id-2 div.sk-parallel {display: flex;align-items: stretch;justify-content: center;background-color: white;position: relative;}#sk-container-id-2 div.sk-item::before, #sk-container-id-2 div.sk-parallel-item::before {content: \"\";position: absolute;border-left: 1px solid gray;box-sizing: border-box;top: 0;bottom: 0;left: 50%;z-index: -1;}#sk-container-id-2 div.sk-parallel-item {display: flex;flex-direction: column;z-index: 1;position: relative;background-color: white;}#sk-container-id-2 div.sk-parallel-item:first-child::after {align-self: flex-end;width: 50%;}#sk-container-id-2 div.sk-parallel-item:last-child::after {align-self: flex-start;width: 50%;}#sk-container-id-2 div.sk-parallel-item:only-child::after {width: 0;}#sk-container-id-2 div.sk-dashed-wrapped {border: 1px dashed gray;margin: 0 0.4em 0.5em 0.4em;box-sizing: border-box;padding-bottom: 0.4em;background-color: white;}#sk-container-id-2 div.sk-label label {font-family: monospace;font-weight: bold;display: inline-block;line-height: 1.2em;}#sk-container-id-2 div.sk-label-container {text-align: center;}#sk-container-id-2 div.sk-container {/* jupyter's `normalize.less` sets `[hidden] { display: none; }` but bootstrap.min.css set `[hidden] { display: none !important; }` so we also need the `!important` here to be able to override the default hidden behavior on the sphinx rendered scikit-learn.org. See: https://github.com/scikit-learn/scikit-learn/issues/21755 */display: inline-block !important;position: relative;}#sk-container-id-2 div.sk-text-repr-fallback {display: none;}</style><div id=\"sk-container-id-2\" class=\"sk-top-container\"><div class=\"sk-text-repr-fallback\"><pre>RandomForestRegressor(random_state=42)</pre><b>In a Jupyter environment, please rerun this cell to show the HTML representation or trust the notebook. <br />On GitHub, the HTML representation is unable to render, please try loading this page with nbviewer.org.</b></div><div class=\"sk-container\" hidden><div class=\"sk-item\"><div class=\"sk-estimator sk-toggleable\"><input class=\"sk-toggleable__control sk-hidden--visually\" id=\"sk-estimator-id-2\" type=\"checkbox\" checked><label for=\"sk-estimator-id-2\" class=\"sk-toggleable__label sk-toggleable__label-arrow\">RandomForestRegressor</label><div class=\"sk-toggleable__content\"><pre>RandomForestRegressor(random_state=42)</pre></div></div></div></div></div>"
     },
     "execution_count": 51,
     "metadata": {},
     "output_type": "execute_result"
    }
   ],
   "source": [
    "rf_health_score = RandomForestRegressor(n_estimators=100, random_state=42)\n",
    "rf_health_score.fit(X_train1, y_health_score_train)\n",
    "\n",
    "rf_recommendations = RandomForestClassifier(n_estimators=100, random_state=42)\n",
    "rf_recommendations.fit(X_train2, y_recommendations_train)\n",
    "\n",
    "rf_composition_values = RandomForestRegressor(n_estimators=100, random_state=42)\n",
    "rf_composition_values.fit(X_train3, y_composition_values_train)\n"
   ],
   "metadata": {
    "collapsed": false
   }
  },
  {
   "cell_type": "code",
   "execution_count": 52,
   "outputs": [
    {
     "name": "stdout",
     "output_type": "stream",
     "text": [
      "Health Score Model Evaluation:\n",
      "Mean Absolute Error: 0.04803798193478868\n",
      "Mean Squared Error: 0.00359812460003289\n",
      "R^2 Score: 0.9935872436874752\n",
      "\n",
      "Composition Values Model Evaluation:\n",
      "Mean Absolute Error: 0.8230669168197726\n",
      "Mean Squared Error: 1.0429533405280036\n",
      "R^2 Score: -0.01735724334904787\n",
      "\n",
      "Recommendations Model Evaluation:\n",
      "Accuracy Score: 0.2534\n",
      "Precision Score: 0.2533249581821874\n",
      "Recall Score: 0.2534\n",
      "F1 Score: 0.25313008725584896\n",
      "Confusion Matrix:\n",
      " [[1373 1305 1254 1117]\n",
      " [1331 1272 1290 1088]\n",
      " [1318 1279 1303 1133]\n",
      " [1372 1166 1279 1120]]\n"
     ]
    }
   ],
   "source": [
    "from sklearn.metrics import mean_absolute_error, mean_squared_error, r2_score, accuracy_score, precision_score, recall_score, f1_score, confusion_matrix\n",
    "import joblib\n",
    "\n",
    "# Evaluate Regression Models\n",
    "y_health_score_pred = rf_health_score.predict(X_test1)\n",
    "y_composition_values_pred = rf_composition_values.predict(X_test3)\n",
    "\n",
    "print(\"Health Score Model Evaluation:\")\n",
    "print(\"Mean Absolute Error:\", mean_absolute_error(y_health_score_test, y_health_score_pred))\n",
    "print(\"Mean Squared Error:\", mean_squared_error(y_health_score_test, y_health_score_pred))\n",
    "print(\"R^2 Score:\", r2_score(y_health_score_test, y_health_score_pred))\n",
    "\n",
    "print(\"\\nComposition Values Model Evaluation:\")\n",
    "print(\"Mean Absolute Error:\", mean_absolute_error(y_composition_values_test, y_composition_values_pred))\n",
    "print(\"Mean Squared Error:\", mean_squared_error(y_composition_values_test, y_composition_values_pred))\n",
    "print(\"R^2 Score:\", r2_score(y_composition_values_test, y_composition_values_pred))\n",
    "\n",
    "# Evaluate Classification Model\n",
    "y_recommendations_pred = rf_recommendations.predict(X_test2)\n",
    "\n",
    "print(\"\\nRecommendations Model Evaluation:\")\n",
    "print(\"Accuracy Score:\", accuracy_score(y_recommendations_test, y_recommendations_pred))\n",
    "print(\"Precision Score:\", precision_score(y_recommendations_test, y_recommendations_pred, average='weighted'))\n",
    "print(\"Recall Score:\", recall_score(y_recommendations_test, y_recommendations_pred, average='weighted'))\n",
    "print(\"F1 Score:\", f1_score(y_recommendations_test, y_recommendations_pred, average='weighted'))\n",
    "print(\"Confusion Matrix:\\n\", confusion_matrix(y_recommendations_test, y_recommendations_pred))\n"
   ],
   "metadata": {
    "collapsed": false
   }
  },
  {
   "cell_type": "code",
   "execution_count": 53,
   "outputs": [
    {
     "data": {
      "text/plain": "['rf_composition_values_model.pkl']"
     },
     "execution_count": 53,
     "metadata": {},
     "output_type": "execute_result"
    }
   ],
   "source": [
    "import joblib\n",
    "\n",
    "# Save models\n",
    "joblib.dump(rf_health_score, 'rf_health_score_model.pkl')\n",
    "joblib.dump(rf_recommendations, 'rf_recommendations_model.pkl')\n",
    "joblib.dump(rf_composition_values, 'rf_composition_values_model.pkl')\n"
   ],
   "metadata": {
    "collapsed": false
   }
  },
  {
   "cell_type": "code",
   "execution_count": 54,
   "outputs": [
    {
     "data": {
      "text/plain": "       Crop_Type  Soil_Nitrogen  Soil_Phosphorus  Soil_Potassium  \\\n75220          2       4.193928         4.255435        4.538307   \n48955         26       2.688742         1.234879        2.616040   \n44966         24       0.961963         3.355431        0.909919   \n13568          4       3.381462         1.166241        4.010881   \n92727         18       3.826177         4.556151        1.432918   \n...          ...            ...              ...             ...   \n6265           8       0.578741         2.543178        4.351677   \n54886         11       1.079086         0.960953        1.565717   \n76820         11       1.903687         3.837115        0.673946   \n860            6       3.291014         3.921725        3.353238   \n15795         12       1.337590         2.354976        0.885239   \n\n       Soil_Organic_Matter   Soil_pH  Soil_Texture  Temperature  \\\n75220             2.330112  8.033877             0    11.574481   \n48955             6.850209  8.466434             2    23.428294   \n44966             8.721662  5.103186             1    33.688790   \n13568             9.127500  8.256805             1    33.983385   \n92727             1.370941  7.858339             2    24.169350   \n...                    ...       ...           ...          ...   \n6265              1.538157  8.451070             2    21.155550   \n54886             3.691520  7.557383             2    26.358575   \n76820             4.504112  7.446748             0    10.951240   \n860               1.572696  8.091751             1    28.657889   \n15795             6.921025  7.566957             2    29.311104   \n\n       Previous_Yield  \n75220        4.635850  \n48955        6.959729  \n44966        5.921979  \n13568        7.243680  \n92727        4.013184  \n...               ...  \n6265         9.384580  \n54886        6.561872  \n76820        5.750966  \n860          3.359826  \n15795        9.768068  \n\n[80000 rows x 9 columns]",
      "text/html": "<div>\n<style scoped>\n    .dataframe tbody tr th:only-of-type {\n        vertical-align: middle;\n    }\n\n    .dataframe tbody tr th {\n        vertical-align: top;\n    }\n\n    .dataframe thead th {\n        text-align: right;\n    }\n</style>\n<table border=\"1\" class=\"dataframe\">\n  <thead>\n    <tr style=\"text-align: right;\">\n      <th></th>\n      <th>Crop_Type</th>\n      <th>Soil_Nitrogen</th>\n      <th>Soil_Phosphorus</th>\n      <th>Soil_Potassium</th>\n      <th>Soil_Organic_Matter</th>\n      <th>Soil_pH</th>\n      <th>Soil_Texture</th>\n      <th>Temperature</th>\n      <th>Previous_Yield</th>\n    </tr>\n  </thead>\n  <tbody>\n    <tr>\n      <th>75220</th>\n      <td>2</td>\n      <td>4.193928</td>\n      <td>4.255435</td>\n      <td>4.538307</td>\n      <td>2.330112</td>\n      <td>8.033877</td>\n      <td>0</td>\n      <td>11.574481</td>\n      <td>4.635850</td>\n    </tr>\n    <tr>\n      <th>48955</th>\n      <td>26</td>\n      <td>2.688742</td>\n      <td>1.234879</td>\n      <td>2.616040</td>\n      <td>6.850209</td>\n      <td>8.466434</td>\n      <td>2</td>\n      <td>23.428294</td>\n      <td>6.959729</td>\n    </tr>\n    <tr>\n      <th>44966</th>\n      <td>24</td>\n      <td>0.961963</td>\n      <td>3.355431</td>\n      <td>0.909919</td>\n      <td>8.721662</td>\n      <td>5.103186</td>\n      <td>1</td>\n      <td>33.688790</td>\n      <td>5.921979</td>\n    </tr>\n    <tr>\n      <th>13568</th>\n      <td>4</td>\n      <td>3.381462</td>\n      <td>1.166241</td>\n      <td>4.010881</td>\n      <td>9.127500</td>\n      <td>8.256805</td>\n      <td>1</td>\n      <td>33.983385</td>\n      <td>7.243680</td>\n    </tr>\n    <tr>\n      <th>92727</th>\n      <td>18</td>\n      <td>3.826177</td>\n      <td>4.556151</td>\n      <td>1.432918</td>\n      <td>1.370941</td>\n      <td>7.858339</td>\n      <td>2</td>\n      <td>24.169350</td>\n      <td>4.013184</td>\n    </tr>\n    <tr>\n      <th>...</th>\n      <td>...</td>\n      <td>...</td>\n      <td>...</td>\n      <td>...</td>\n      <td>...</td>\n      <td>...</td>\n      <td>...</td>\n      <td>...</td>\n      <td>...</td>\n    </tr>\n    <tr>\n      <th>6265</th>\n      <td>8</td>\n      <td>0.578741</td>\n      <td>2.543178</td>\n      <td>4.351677</td>\n      <td>1.538157</td>\n      <td>8.451070</td>\n      <td>2</td>\n      <td>21.155550</td>\n      <td>9.384580</td>\n    </tr>\n    <tr>\n      <th>54886</th>\n      <td>11</td>\n      <td>1.079086</td>\n      <td>0.960953</td>\n      <td>1.565717</td>\n      <td>3.691520</td>\n      <td>7.557383</td>\n      <td>2</td>\n      <td>26.358575</td>\n      <td>6.561872</td>\n    </tr>\n    <tr>\n      <th>76820</th>\n      <td>11</td>\n      <td>1.903687</td>\n      <td>3.837115</td>\n      <td>0.673946</td>\n      <td>4.504112</td>\n      <td>7.446748</td>\n      <td>0</td>\n      <td>10.951240</td>\n      <td>5.750966</td>\n    </tr>\n    <tr>\n      <th>860</th>\n      <td>6</td>\n      <td>3.291014</td>\n      <td>3.921725</td>\n      <td>3.353238</td>\n      <td>1.572696</td>\n      <td>8.091751</td>\n      <td>1</td>\n      <td>28.657889</td>\n      <td>3.359826</td>\n    </tr>\n    <tr>\n      <th>15795</th>\n      <td>12</td>\n      <td>1.337590</td>\n      <td>2.354976</td>\n      <td>0.885239</td>\n      <td>6.921025</td>\n      <td>7.566957</td>\n      <td>2</td>\n      <td>29.311104</td>\n      <td>9.768068</td>\n    </tr>\n  </tbody>\n</table>\n<p>80000 rows × 9 columns</p>\n</div>"
     },
     "execution_count": 54,
     "metadata": {},
     "output_type": "execute_result"
    }
   ],
   "source": [
    "X_train1"
   ],
   "metadata": {
    "collapsed": false
   }
  },
  {
   "cell_type": "code",
   "execution_count": 55,
   "outputs": [
    {
     "data": {
      "text/plain": "       Crop_Type  Soil_Nitrogen  Soil_Phosphorus  Soil_Potassium  \\\n75220          2       4.193928         4.255435        4.538307   \n48955         26       2.688742         1.234879        2.616040   \n44966         24       0.961963         3.355431        0.909919   \n13568          4       3.381462         1.166241        4.010881   \n92727         18       3.826177         4.556151        1.432918   \n...          ...            ...              ...             ...   \n6265           8       0.578741         2.543178        4.351677   \n54886         11       1.079086         0.960953        1.565717   \n76820         11       1.903687         3.837115        0.673946   \n860            6       3.291014         3.921725        3.353238   \n15795         12       1.337590         2.354976        0.885239   \n\n       Soil_Organic_Matter   Soil_pH  Soil_Texture  Temperature  \\\n75220             2.330112  8.033877             0    11.574481   \n48955             6.850209  8.466434             2    23.428294   \n44966             8.721662  5.103186             1    33.688790   \n13568             9.127500  8.256805             1    33.983385   \n92727             1.370941  7.858339             2    24.169350   \n...                    ...       ...           ...          ...   \n6265              1.538157  8.451070             2    21.155550   \n54886             3.691520  7.557383             2    26.358575   \n76820             4.504112  7.446748             0    10.951240   \n860               1.572696  8.091751             1    28.657889   \n15795             6.921025  7.566957             2    29.311104   \n\n       Previous_Yield  \n75220        4.635850  \n48955        6.959729  \n44966        5.921979  \n13568        7.243680  \n92727        4.013184  \n...               ...  \n6265         9.384580  \n54886        6.561872  \n76820        5.750966  \n860          3.359826  \n15795        9.768068  \n\n[80000 rows x 9 columns]",
      "text/html": "<div>\n<style scoped>\n    .dataframe tbody tr th:only-of-type {\n        vertical-align: middle;\n    }\n\n    .dataframe tbody tr th {\n        vertical-align: top;\n    }\n\n    .dataframe thead th {\n        text-align: right;\n    }\n</style>\n<table border=\"1\" class=\"dataframe\">\n  <thead>\n    <tr style=\"text-align: right;\">\n      <th></th>\n      <th>Crop_Type</th>\n      <th>Soil_Nitrogen</th>\n      <th>Soil_Phosphorus</th>\n      <th>Soil_Potassium</th>\n      <th>Soil_Organic_Matter</th>\n      <th>Soil_pH</th>\n      <th>Soil_Texture</th>\n      <th>Temperature</th>\n      <th>Previous_Yield</th>\n    </tr>\n  </thead>\n  <tbody>\n    <tr>\n      <th>75220</th>\n      <td>2</td>\n      <td>4.193928</td>\n      <td>4.255435</td>\n      <td>4.538307</td>\n      <td>2.330112</td>\n      <td>8.033877</td>\n      <td>0</td>\n      <td>11.574481</td>\n      <td>4.635850</td>\n    </tr>\n    <tr>\n      <th>48955</th>\n      <td>26</td>\n      <td>2.688742</td>\n      <td>1.234879</td>\n      <td>2.616040</td>\n      <td>6.850209</td>\n      <td>8.466434</td>\n      <td>2</td>\n      <td>23.428294</td>\n      <td>6.959729</td>\n    </tr>\n    <tr>\n      <th>44966</th>\n      <td>24</td>\n      <td>0.961963</td>\n      <td>3.355431</td>\n      <td>0.909919</td>\n      <td>8.721662</td>\n      <td>5.103186</td>\n      <td>1</td>\n      <td>33.688790</td>\n      <td>5.921979</td>\n    </tr>\n    <tr>\n      <th>13568</th>\n      <td>4</td>\n      <td>3.381462</td>\n      <td>1.166241</td>\n      <td>4.010881</td>\n      <td>9.127500</td>\n      <td>8.256805</td>\n      <td>1</td>\n      <td>33.983385</td>\n      <td>7.243680</td>\n    </tr>\n    <tr>\n      <th>92727</th>\n      <td>18</td>\n      <td>3.826177</td>\n      <td>4.556151</td>\n      <td>1.432918</td>\n      <td>1.370941</td>\n      <td>7.858339</td>\n      <td>2</td>\n      <td>24.169350</td>\n      <td>4.013184</td>\n    </tr>\n    <tr>\n      <th>...</th>\n      <td>...</td>\n      <td>...</td>\n      <td>...</td>\n      <td>...</td>\n      <td>...</td>\n      <td>...</td>\n      <td>...</td>\n      <td>...</td>\n      <td>...</td>\n    </tr>\n    <tr>\n      <th>6265</th>\n      <td>8</td>\n      <td>0.578741</td>\n      <td>2.543178</td>\n      <td>4.351677</td>\n      <td>1.538157</td>\n      <td>8.451070</td>\n      <td>2</td>\n      <td>21.155550</td>\n      <td>9.384580</td>\n    </tr>\n    <tr>\n      <th>54886</th>\n      <td>11</td>\n      <td>1.079086</td>\n      <td>0.960953</td>\n      <td>1.565717</td>\n      <td>3.691520</td>\n      <td>7.557383</td>\n      <td>2</td>\n      <td>26.358575</td>\n      <td>6.561872</td>\n    </tr>\n    <tr>\n      <th>76820</th>\n      <td>11</td>\n      <td>1.903687</td>\n      <td>3.837115</td>\n      <td>0.673946</td>\n      <td>4.504112</td>\n      <td>7.446748</td>\n      <td>0</td>\n      <td>10.951240</td>\n      <td>5.750966</td>\n    </tr>\n    <tr>\n      <th>860</th>\n      <td>6</td>\n      <td>3.291014</td>\n      <td>3.921725</td>\n      <td>3.353238</td>\n      <td>1.572696</td>\n      <td>8.091751</td>\n      <td>1</td>\n      <td>28.657889</td>\n      <td>3.359826</td>\n    </tr>\n    <tr>\n      <th>15795</th>\n      <td>12</td>\n      <td>1.337590</td>\n      <td>2.354976</td>\n      <td>0.885239</td>\n      <td>6.921025</td>\n      <td>7.566957</td>\n      <td>2</td>\n      <td>29.311104</td>\n      <td>9.768068</td>\n    </tr>\n  </tbody>\n</table>\n<p>80000 rows × 9 columns</p>\n</div>"
     },
     "execution_count": 55,
     "metadata": {},
     "output_type": "execute_result"
    }
   ],
   "source": [
    "X_train2"
   ],
   "metadata": {
    "collapsed": false
   }
  },
  {
   "cell_type": "code",
   "execution_count": 56,
   "outputs": [
    {
     "data": {
      "text/plain": "       Crop_Type  Soil_Nitrogen  Soil_Phosphorus  Soil_Potassium  \\\n75220          2       4.193928         4.255435        4.538307   \n48955         26       2.688742         1.234879        2.616040   \n44966         24       0.961963         3.355431        0.909919   \n13568          4       3.381462         1.166241        4.010881   \n92727         18       3.826177         4.556151        1.432918   \n...          ...            ...              ...             ...   \n6265           8       0.578741         2.543178        4.351677   \n54886         11       1.079086         0.960953        1.565717   \n76820         11       1.903687         3.837115        0.673946   \n860            6       3.291014         3.921725        3.353238   \n15795         12       1.337590         2.354976        0.885239   \n\n       Soil_Organic_Matter   Soil_pH  Soil_Texture  Temperature  \\\n75220             2.330112  8.033877             0    11.574481   \n48955             6.850209  8.466434             2    23.428294   \n44966             8.721662  5.103186             1    33.688790   \n13568             9.127500  8.256805             1    33.983385   \n92727             1.370941  7.858339             2    24.169350   \n...                    ...       ...           ...          ...   \n6265              1.538157  8.451070             2    21.155550   \n54886             3.691520  7.557383             2    26.358575   \n76820             4.504112  7.446748             0    10.951240   \n860               1.572696  8.091751             1    28.657889   \n15795             6.921025  7.566957             2    29.311104   \n\n       Previous_Yield  \n75220        4.635850  \n48955        6.959729  \n44966        5.921979  \n13568        7.243680  \n92727        4.013184  \n...               ...  \n6265         9.384580  \n54886        6.561872  \n76820        5.750966  \n860          3.359826  \n15795        9.768068  \n\n[80000 rows x 9 columns]",
      "text/html": "<div>\n<style scoped>\n    .dataframe tbody tr th:only-of-type {\n        vertical-align: middle;\n    }\n\n    .dataframe tbody tr th {\n        vertical-align: top;\n    }\n\n    .dataframe thead th {\n        text-align: right;\n    }\n</style>\n<table border=\"1\" class=\"dataframe\">\n  <thead>\n    <tr style=\"text-align: right;\">\n      <th></th>\n      <th>Crop_Type</th>\n      <th>Soil_Nitrogen</th>\n      <th>Soil_Phosphorus</th>\n      <th>Soil_Potassium</th>\n      <th>Soil_Organic_Matter</th>\n      <th>Soil_pH</th>\n      <th>Soil_Texture</th>\n      <th>Temperature</th>\n      <th>Previous_Yield</th>\n    </tr>\n  </thead>\n  <tbody>\n    <tr>\n      <th>75220</th>\n      <td>2</td>\n      <td>4.193928</td>\n      <td>4.255435</td>\n      <td>4.538307</td>\n      <td>2.330112</td>\n      <td>8.033877</td>\n      <td>0</td>\n      <td>11.574481</td>\n      <td>4.635850</td>\n    </tr>\n    <tr>\n      <th>48955</th>\n      <td>26</td>\n      <td>2.688742</td>\n      <td>1.234879</td>\n      <td>2.616040</td>\n      <td>6.850209</td>\n      <td>8.466434</td>\n      <td>2</td>\n      <td>23.428294</td>\n      <td>6.959729</td>\n    </tr>\n    <tr>\n      <th>44966</th>\n      <td>24</td>\n      <td>0.961963</td>\n      <td>3.355431</td>\n      <td>0.909919</td>\n      <td>8.721662</td>\n      <td>5.103186</td>\n      <td>1</td>\n      <td>33.688790</td>\n      <td>5.921979</td>\n    </tr>\n    <tr>\n      <th>13568</th>\n      <td>4</td>\n      <td>3.381462</td>\n      <td>1.166241</td>\n      <td>4.010881</td>\n      <td>9.127500</td>\n      <td>8.256805</td>\n      <td>1</td>\n      <td>33.983385</td>\n      <td>7.243680</td>\n    </tr>\n    <tr>\n      <th>92727</th>\n      <td>18</td>\n      <td>3.826177</td>\n      <td>4.556151</td>\n      <td>1.432918</td>\n      <td>1.370941</td>\n      <td>7.858339</td>\n      <td>2</td>\n      <td>24.169350</td>\n      <td>4.013184</td>\n    </tr>\n    <tr>\n      <th>...</th>\n      <td>...</td>\n      <td>...</td>\n      <td>...</td>\n      <td>...</td>\n      <td>...</td>\n      <td>...</td>\n      <td>...</td>\n      <td>...</td>\n      <td>...</td>\n    </tr>\n    <tr>\n      <th>6265</th>\n      <td>8</td>\n      <td>0.578741</td>\n      <td>2.543178</td>\n      <td>4.351677</td>\n      <td>1.538157</td>\n      <td>8.451070</td>\n      <td>2</td>\n      <td>21.155550</td>\n      <td>9.384580</td>\n    </tr>\n    <tr>\n      <th>54886</th>\n      <td>11</td>\n      <td>1.079086</td>\n      <td>0.960953</td>\n      <td>1.565717</td>\n      <td>3.691520</td>\n      <td>7.557383</td>\n      <td>2</td>\n      <td>26.358575</td>\n      <td>6.561872</td>\n    </tr>\n    <tr>\n      <th>76820</th>\n      <td>11</td>\n      <td>1.903687</td>\n      <td>3.837115</td>\n      <td>0.673946</td>\n      <td>4.504112</td>\n      <td>7.446748</td>\n      <td>0</td>\n      <td>10.951240</td>\n      <td>5.750966</td>\n    </tr>\n    <tr>\n      <th>860</th>\n      <td>6</td>\n      <td>3.291014</td>\n      <td>3.921725</td>\n      <td>3.353238</td>\n      <td>1.572696</td>\n      <td>8.091751</td>\n      <td>1</td>\n      <td>28.657889</td>\n      <td>3.359826</td>\n    </tr>\n    <tr>\n      <th>15795</th>\n      <td>12</td>\n      <td>1.337590</td>\n      <td>2.354976</td>\n      <td>0.885239</td>\n      <td>6.921025</td>\n      <td>7.566957</td>\n      <td>2</td>\n      <td>29.311104</td>\n      <td>9.768068</td>\n    </tr>\n  </tbody>\n</table>\n<p>80000 rows × 9 columns</p>\n</div>"
     },
     "execution_count": 56,
     "metadata": {},
     "output_type": "execute_result"
    }
   ],
   "source": [
    "X_train3"
   ],
   "metadata": {
    "collapsed": false
   }
  },
  {
   "cell_type": "code",
   "execution_count": 57,
   "outputs": [
    {
     "data": {
      "text/plain": "75220    4.079561\n48955    3.500205\n44966    3.396310\n13568    4.449683\n92727    3.234021\n           ...   \n6265     2.415118\n54886    2.211626\n76820    3.029466\n860      3.347661\n15795    3.076829\nName: Soil_Health_Score, Length: 80000, dtype: float64"
     },
     "execution_count": 57,
     "metadata": {},
     "output_type": "execute_result"
    }
   ],
   "source": [
    "y_health_score_train"
   ],
   "metadata": {
    "collapsed": false
   }
  },
  {
   "cell_type": "code",
   "execution_count": 58,
   "outputs": [
    {
     "data": {
      "text/plain": "75220    2\n48955    0\n44966    0\n13568    3\n92727    2\n        ..\n6265     3\n54886    1\n76820    0\n860      3\n15795    3\nName: Recommended_Soil_Adjustments, Length: 80000, dtype: int64"
     },
     "execution_count": 58,
     "metadata": {},
     "output_type": "execute_result"
    }
   ],
   "source": [
    "y_recommendations_train"
   ],
   "metadata": {
    "collapsed": false
   }
  },
  {
   "cell_type": "code",
   "execution_count": 59,
   "outputs": [
    {
     "data": {
      "text/plain": "75220   -0.276254\n48955    0.881862\n44966    0.580231\n13568    0.403340\n92727    1.077969\n           ...   \n6265     0.133001\n54886    0.674441\n76820    0.712132\n860      0.403905\n15795    0.255319\nName: Adequate_Soil_Composition_Values, Length: 80000, dtype: float64"
     },
     "execution_count": 59,
     "metadata": {},
     "output_type": "execute_result"
    }
   ],
   "source": [
    "y_composition_values_train"
   ],
   "metadata": {
    "collapsed": false
   }
  },
  {
   "cell_type": "code",
   "execution_count": 62,
   "outputs": [
    {
     "name": "stdout",
     "output_type": "stream",
     "text": [
      "Predicted Soil Health Score: [1.62561347]\n",
      "Predicted Soil Adjustments Recommendation: [1]\n",
      "Predicted Adequate Soil Composition Values: [-0.31188019]\n"
     ]
    }
   ],
   "source": [
    "# Load models\n",
    "rf_health_score = joblib.load('rf_health_score_model.pkl')\n",
    "rf_recommendations = joblib.load('rf_recommendations_model.pkl')\n",
    "rf_composition_values = joblib.load('rf_composition_values_model.pkl')\n",
    "\n",
    "# Example new data point (you should provide actual data here)\n",
    "new_data_point = pd.DataFrame({\n",
    "    'Crop_Type': [1],\n",
    "    'Soil_Nitrogen': [5.0],\n",
    "    'Soil_Phosphorus': [2.0],\n",
    "    'Soil_Potassium': [3.0],\n",
    "    'Soil_Organic_Matter': [1.0],\n",
    "    'Soil_pH': [6.5],\n",
    "    'Soil_Texture': [0],  # Assuming 0 is the label for a specific texture\n",
    "    'Temperature': [25.0],# Assuming 1 is the label for a specific crop type\n",
    "})\n",
    "\n",
    "# Make predictions\n",
    "predicted_health_score = rf_health_score.predict(new_data_point)\n",
    "predicted_recommendations = rf_recommendations.predict(new_data_point)\n",
    "predicted_composition_values = rf_composition_values.predict(new_data_point)\n",
    "\n",
    "print(\"Predicted Soil Health Score:\", predicted_health_score)\n",
    "print(\"Predicted Soil Adjustments Recommendation:\", predicted_recommendations)\n",
    "print(\"Predicted Adequate Soil Composition Values:\", predicted_composition_values)\n"
   ],
   "metadata": {
    "collapsed": false
   }
  },
  {
   "cell_type": "code",
   "execution_count": 60,
   "outputs": [],
   "source": [],
   "metadata": {
    "collapsed": false
   }
  }
 ],
 "metadata": {
  "kernelspec": {
   "display_name": "Python 3",
   "language": "python",
   "name": "python3"
  },
  "language_info": {
   "codemirror_mode": {
    "name": "ipython",
    "version": 2
   },
   "file_extension": ".py",
   "mimetype": "text/x-python",
   "name": "python",
   "nbconvert_exporter": "python",
   "pygments_lexer": "ipython2",
   "version": "2.7.6"
  }
 },
 "nbformat": 4,
 "nbformat_minor": 0
}
